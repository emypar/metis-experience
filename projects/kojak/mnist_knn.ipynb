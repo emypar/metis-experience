{
 "cells": [
  {
   "cell_type": "markdown",
   "metadata": {},
   "source": [
    "** Classify MNIST w/ KNN**"
   ]
  },
  {
   "cell_type": "code",
   "execution_count": 1,
   "metadata": {
    "collapsed": true
   },
   "outputs": [],
   "source": [
    "import sys\n",
    "import os"
   ]
  },
  {
   "cell_type": "code",
   "execution_count": 2,
   "metadata": {},
   "outputs": [
    {
     "name": "stdout",
     "output_type": "stream",
     "text": [
      "Params set (0..2): 0\n",
      "train size=5996, test size=981\n",
      "Fitting 3 folds for each of 20 candidates, totalling 60 fits\n",
      "[CV] algorithm=ball_tree, metric=euclidean, n_neighbors=5, weights=uniform \n",
      "[CV]  algorithm=ball_tree, metric=euclidean, n_neighbors=5, weights=uniform, total=   1.6s\n",
      "[CV] algorithm=ball_tree, metric=euclidean, n_neighbors=5, weights=uniform \n"
     ]
    },
    {
     "name": "stderr",
     "output_type": "stream",
     "text": [
      "[Parallel(n_jobs=1)]: Done   1 out of   1 | elapsed:    3.9s remaining:    0.0s\n"
     ]
    },
    {
     "name": "stdout",
     "output_type": "stream",
     "text": [
      "[CV]  algorithm=ball_tree, metric=euclidean, n_neighbors=5, weights=uniform, total=   1.5s\n",
      "[CV] algorithm=ball_tree, metric=euclidean, n_neighbors=5, weights=uniform \n",
      "[CV]  algorithm=ball_tree, metric=euclidean, n_neighbors=5, weights=uniform, total=   1.5s\n",
      "[CV] algorithm=ball_tree, metric=euclidean, n_neighbors=5, weights=distance \n",
      "[CV]  algorithm=ball_tree, metric=euclidean, n_neighbors=5, weights=distance, total=   1.5s\n",
      "[CV] algorithm=ball_tree, metric=euclidean, n_neighbors=5, weights=distance \n",
      "[CV]  algorithm=ball_tree, metric=euclidean, n_neighbors=5, weights=distance, total=   1.7s\n",
      "[CV] algorithm=ball_tree, metric=euclidean, n_neighbors=5, weights=distance \n",
      "[CV]  algorithm=ball_tree, metric=euclidean, n_neighbors=5, weights=distance, total=   1.6s\n",
      "[CV] algorithm=ball_tree, metric=euclidean, n_neighbors=10, weights=uniform \n",
      "[CV]  algorithm=ball_tree, metric=euclidean, n_neighbors=10, weights=uniform, total=   1.6s\n",
      "[CV] algorithm=ball_tree, metric=euclidean, n_neighbors=10, weights=uniform \n",
      "[CV]  algorithm=ball_tree, metric=euclidean, n_neighbors=10, weights=uniform, total=   2.0s\n",
      "[CV] algorithm=ball_tree, metric=euclidean, n_neighbors=10, weights=uniform \n",
      "[CV]  algorithm=ball_tree, metric=euclidean, n_neighbors=10, weights=uniform, total=   1.7s\n",
      "[CV] algorithm=ball_tree, metric=euclidean, n_neighbors=10, weights=distance \n",
      "[CV]  algorithm=ball_tree, metric=euclidean, n_neighbors=10, weights=distance, total=   1.8s\n",
      "[CV] algorithm=ball_tree, metric=euclidean, n_neighbors=10, weights=distance \n",
      "[CV]  algorithm=ball_tree, metric=euclidean, n_neighbors=10, weights=distance, total=   1.6s\n",
      "[CV] algorithm=ball_tree, metric=euclidean, n_neighbors=10, weights=distance \n",
      "[CV]  algorithm=ball_tree, metric=euclidean, n_neighbors=10, weights=distance, total=   1.6s\n",
      "[CV] algorithm=ball_tree, metric=euclidean, n_neighbors=20, weights=uniform \n",
      "[CV]  algorithm=ball_tree, metric=euclidean, n_neighbors=20, weights=uniform, total=   1.6s\n",
      "[CV] algorithm=ball_tree, metric=euclidean, n_neighbors=20, weights=uniform \n",
      "[CV]  algorithm=ball_tree, metric=euclidean, n_neighbors=20, weights=uniform, total=   2.0s\n",
      "[CV] algorithm=ball_tree, metric=euclidean, n_neighbors=20, weights=uniform \n",
      "[CV]  algorithm=ball_tree, metric=euclidean, n_neighbors=20, weights=uniform, total=   1.5s\n",
      "[CV] algorithm=ball_tree, metric=euclidean, n_neighbors=20, weights=distance \n",
      "[CV]  algorithm=ball_tree, metric=euclidean, n_neighbors=20, weights=distance, total=   1.7s\n",
      "[CV] algorithm=ball_tree, metric=euclidean, n_neighbors=20, weights=distance \n",
      "[CV]  algorithm=ball_tree, metric=euclidean, n_neighbors=20, weights=distance, total=   1.7s\n",
      "[CV] algorithm=ball_tree, metric=euclidean, n_neighbors=20, weights=distance \n",
      "[CV]  algorithm=ball_tree, metric=euclidean, n_neighbors=20, weights=distance, total=   1.7s\n",
      "[CV] algorithm=ball_tree, metric=euclidean, n_neighbors=50, weights=uniform \n",
      "[CV]  algorithm=ball_tree, metric=euclidean, n_neighbors=50, weights=uniform, total=   1.7s\n",
      "[CV] algorithm=ball_tree, metric=euclidean, n_neighbors=50, weights=uniform \n",
      "[CV]  algorithm=ball_tree, metric=euclidean, n_neighbors=50, weights=uniform, total=   1.6s\n",
      "[CV] algorithm=ball_tree, metric=euclidean, n_neighbors=50, weights=uniform \n",
      "[CV]  algorithm=ball_tree, metric=euclidean, n_neighbors=50, weights=uniform, total=   1.7s\n",
      "[CV] algorithm=ball_tree, metric=euclidean, n_neighbors=50, weights=distance \n",
      "[CV]  algorithm=ball_tree, metric=euclidean, n_neighbors=50, weights=distance, total=   1.6s\n",
      "[CV] algorithm=ball_tree, metric=euclidean, n_neighbors=50, weights=distance \n",
      "[CV]  algorithm=ball_tree, metric=euclidean, n_neighbors=50, weights=distance, total=   1.8s\n",
      "[CV] algorithm=ball_tree, metric=euclidean, n_neighbors=50, weights=distance \n",
      "[CV]  algorithm=ball_tree, metric=euclidean, n_neighbors=50, weights=distance, total=   1.8s\n",
      "[CV] algorithm=ball_tree, metric=euclidean, n_neighbors=100, weights=uniform \n",
      "[CV]  algorithm=ball_tree, metric=euclidean, n_neighbors=100, weights=uniform, total=   1.7s\n",
      "[CV] algorithm=ball_tree, metric=euclidean, n_neighbors=100, weights=uniform \n",
      "[CV]  algorithm=ball_tree, metric=euclidean, n_neighbors=100, weights=uniform, total=   1.7s\n",
      "[CV] algorithm=ball_tree, metric=euclidean, n_neighbors=100, weights=uniform \n",
      "[CV]  algorithm=ball_tree, metric=euclidean, n_neighbors=100, weights=uniform, total=   1.7s\n",
      "[CV] algorithm=ball_tree, metric=euclidean, n_neighbors=100, weights=distance \n",
      "[CV]  algorithm=ball_tree, metric=euclidean, n_neighbors=100, weights=distance, total=   1.7s\n",
      "[CV] algorithm=ball_tree, metric=euclidean, n_neighbors=100, weights=distance \n",
      "[CV]  algorithm=ball_tree, metric=euclidean, n_neighbors=100, weights=distance, total=   1.6s\n",
      "[CV] algorithm=ball_tree, metric=euclidean, n_neighbors=100, weights=distance \n",
      "[CV]  algorithm=ball_tree, metric=euclidean, n_neighbors=100, weights=distance, total=   1.6s\n",
      "[CV] algorithm=ball_tree, metric=manhattan, n_neighbors=5, weights=uniform \n",
      "[CV]  algorithm=ball_tree, metric=manhattan, n_neighbors=5, weights=uniform, total=   1.6s\n",
      "[CV] algorithm=ball_tree, metric=manhattan, n_neighbors=5, weights=uniform \n",
      "[CV]  algorithm=ball_tree, metric=manhattan, n_neighbors=5, weights=uniform, total=   1.6s\n",
      "[CV] algorithm=ball_tree, metric=manhattan, n_neighbors=5, weights=uniform \n",
      "[CV]  algorithm=ball_tree, metric=manhattan, n_neighbors=5, weights=uniform, total=   1.9s\n",
      "[CV] algorithm=ball_tree, metric=manhattan, n_neighbors=5, weights=distance \n",
      "[CV]  algorithm=ball_tree, metric=manhattan, n_neighbors=5, weights=distance, total=   1.6s\n",
      "[CV] algorithm=ball_tree, metric=manhattan, n_neighbors=5, weights=distance \n",
      "[CV]  algorithm=ball_tree, metric=manhattan, n_neighbors=5, weights=distance, total=   1.6s\n",
      "[CV] algorithm=ball_tree, metric=manhattan, n_neighbors=5, weights=distance \n",
      "[CV]  algorithm=ball_tree, metric=manhattan, n_neighbors=5, weights=distance, total=   1.6s\n",
      "[CV] algorithm=ball_tree, metric=manhattan, n_neighbors=10, weights=uniform \n",
      "[CV]  algorithm=ball_tree, metric=manhattan, n_neighbors=10, weights=uniform, total=   1.6s\n",
      "[CV] algorithm=ball_tree, metric=manhattan, n_neighbors=10, weights=uniform \n",
      "[CV]  algorithm=ball_tree, metric=manhattan, n_neighbors=10, weights=uniform, total=   1.7s\n",
      "[CV] algorithm=ball_tree, metric=manhattan, n_neighbors=10, weights=uniform \n",
      "[CV]  algorithm=ball_tree, metric=manhattan, n_neighbors=10, weights=uniform, total=   1.8s\n",
      "[CV] algorithm=ball_tree, metric=manhattan, n_neighbors=10, weights=distance \n",
      "[CV]  algorithm=ball_tree, metric=manhattan, n_neighbors=10, weights=distance, total=   1.8s\n",
      "[CV] algorithm=ball_tree, metric=manhattan, n_neighbors=10, weights=distance \n",
      "[CV]  algorithm=ball_tree, metric=manhattan, n_neighbors=10, weights=distance, total=   1.6s\n",
      "[CV] algorithm=ball_tree, metric=manhattan, n_neighbors=10, weights=distance \n",
      "[CV]  algorithm=ball_tree, metric=manhattan, n_neighbors=10, weights=distance, total=   1.7s\n",
      "[CV] algorithm=ball_tree, metric=manhattan, n_neighbors=20, weights=uniform \n",
      "[CV]  algorithm=ball_tree, metric=manhattan, n_neighbors=20, weights=uniform, total=   1.9s\n",
      "[CV] algorithm=ball_tree, metric=manhattan, n_neighbors=20, weights=uniform \n",
      "[CV]  algorithm=ball_tree, metric=manhattan, n_neighbors=20, weights=uniform, total=   2.2s\n",
      "[CV] algorithm=ball_tree, metric=manhattan, n_neighbors=20, weights=uniform \n",
      "[CV]  algorithm=ball_tree, metric=manhattan, n_neighbors=20, weights=uniform, total=   1.7s\n",
      "[CV] algorithm=ball_tree, metric=manhattan, n_neighbors=20, weights=distance \n",
      "[CV]  algorithm=ball_tree, metric=manhattan, n_neighbors=20, weights=distance, total=   1.6s\n",
      "[CV] algorithm=ball_tree, metric=manhattan, n_neighbors=20, weights=distance \n",
      "[CV]  algorithm=ball_tree, metric=manhattan, n_neighbors=20, weights=distance, total=   1.6s\n",
      "[CV] algorithm=ball_tree, metric=manhattan, n_neighbors=20, weights=distance \n",
      "[CV]  algorithm=ball_tree, metric=manhattan, n_neighbors=20, weights=distance, total=   1.6s\n",
      "[CV] algorithm=ball_tree, metric=manhattan, n_neighbors=50, weights=uniform \n",
      "[CV]  algorithm=ball_tree, metric=manhattan, n_neighbors=50, weights=uniform, total=   1.8s\n",
      "[CV] algorithm=ball_tree, metric=manhattan, n_neighbors=50, weights=uniform \n",
      "[CV]  algorithm=ball_tree, metric=manhattan, n_neighbors=50, weights=uniform, total=   2.2s\n",
      "[CV] algorithm=ball_tree, metric=manhattan, n_neighbors=50, weights=uniform \n"
     ]
    },
    {
     "name": "stdout",
     "output_type": "stream",
     "text": [
      "[CV]  algorithm=ball_tree, metric=manhattan, n_neighbors=50, weights=uniform, total=   1.7s\n",
      "[CV] algorithm=ball_tree, metric=manhattan, n_neighbors=50, weights=distance \n",
      "[CV]  algorithm=ball_tree, metric=manhattan, n_neighbors=50, weights=distance, total=   2.9s\n",
      "[CV] algorithm=ball_tree, metric=manhattan, n_neighbors=50, weights=distance \n",
      "[CV]  algorithm=ball_tree, metric=manhattan, n_neighbors=50, weights=distance, total=   3.1s\n",
      "[CV] algorithm=ball_tree, metric=manhattan, n_neighbors=50, weights=distance \n",
      "[CV]  algorithm=ball_tree, metric=manhattan, n_neighbors=50, weights=distance, total=   2.2s\n",
      "[CV] algorithm=ball_tree, metric=manhattan, n_neighbors=100, weights=uniform \n",
      "[CV]  algorithm=ball_tree, metric=manhattan, n_neighbors=100, weights=uniform, total=   2.8s\n",
      "[CV] algorithm=ball_tree, metric=manhattan, n_neighbors=100, weights=uniform \n",
      "[CV]  algorithm=ball_tree, metric=manhattan, n_neighbors=100, weights=uniform, total=   1.9s\n",
      "[CV] algorithm=ball_tree, metric=manhattan, n_neighbors=100, weights=uniform \n",
      "[CV]  algorithm=ball_tree, metric=manhattan, n_neighbors=100, weights=uniform, total=   2.2s\n",
      "[CV] algorithm=ball_tree, metric=manhattan, n_neighbors=100, weights=distance \n",
      "[CV]  algorithm=ball_tree, metric=manhattan, n_neighbors=100, weights=distance, total=   1.7s\n",
      "[CV] algorithm=ball_tree, metric=manhattan, n_neighbors=100, weights=distance \n",
      "[CV]  algorithm=ball_tree, metric=manhattan, n_neighbors=100, weights=distance, total=   2.0s\n",
      "[CV] algorithm=ball_tree, metric=manhattan, n_neighbors=100, weights=distance \n",
      "[CV]  algorithm=ball_tree, metric=manhattan, n_neighbors=100, weights=distance, total=   2.0s\n"
     ]
    },
    {
     "name": "stderr",
     "output_type": "stream",
     "text": [
      "[Parallel(n_jobs=1)]: Done  60 out of  60 | elapsed:  4.8min finished\n"
     ]
    },
    {
     "name": "stdout",
     "output_type": "stream",
     "text": [
      "Log saved to logs/KNeighborsClassifier-2018-01-04-17-54-38-Emys-MacBook-Pro.local-80043.log file\n",
      "Results saved to logs/KNeighborsClassifier-2018-01-04-17-54-38-Emys-MacBook-Pro.local-80043-results.csv file\n"
     ]
    },
    {
     "name": "stderr",
     "output_type": "stream",
     "text": [
      "/Users/emy/anaconda3/lib/python3.6/site-packages/sklearn/utils/deprecation.py:122: FutureWarning: You are accessing a training score ('mean_train_score'), which will not be available by default any more in 0.21. If you need training scores, please set return_train_score=True\n",
      "  warnings.warn(*warn_args, **warn_kwargs)\n",
      "/Users/emy/anaconda3/lib/python3.6/site-packages/sklearn/utils/deprecation.py:122: FutureWarning: You are accessing a training score ('split0_train_score'), which will not be available by default any more in 0.21. If you need training scores, please set return_train_score=True\n",
      "  warnings.warn(*warn_args, **warn_kwargs)\n",
      "/Users/emy/anaconda3/lib/python3.6/site-packages/sklearn/utils/deprecation.py:122: FutureWarning: You are accessing a training score ('split1_train_score'), which will not be available by default any more in 0.21. If you need training scores, please set return_train_score=True\n",
      "  warnings.warn(*warn_args, **warn_kwargs)\n",
      "/Users/emy/anaconda3/lib/python3.6/site-packages/sklearn/utils/deprecation.py:122: FutureWarning: You are accessing a training score ('split2_train_score'), which will not be available by default any more in 0.21. If you need training scores, please set return_train_score=True\n",
      "  warnings.warn(*warn_args, **warn_kwargs)\n",
      "/Users/emy/anaconda3/lib/python3.6/site-packages/sklearn/utils/deprecation.py:122: FutureWarning: You are accessing a training score ('std_train_score'), which will not be available by default any more in 0.21. If you need training scores, please set return_train_score=True\n",
      "  warnings.warn(*warn_args, **warn_kwargs)\n"
     ]
    }
   ],
   "source": [
    "from  mnist_test_gear import run_search\n",
    "\n",
    "if __name__ == '__main__':\n",
    "    from sklearn.neighbors import \\\n",
    "        KNeighborsClassifier\n",
    "\n",
    "    parameters_list = [\n",
    "        dict(\n",
    "            n_neighbors=[5, 10, 20, 50, 100],\n",
    "            weights=['uniform', 'distance'],\n",
    "            algorithm=['ball_tree'],\n",
    "            metric=['euclidean', 'manhattan'],\n",
    "        ),\n",
    "        \n",
    "        dict(\n",
    "            n_neighbors=[5, 10, 20, 50, 100],\n",
    "            weights=['uniform', 'distance'],\n",
    "            algorithm=['kd_tree'],\n",
    "            metric=['euclidean', 'manhattan'],\n",
    "        ),\n",
    "        \n",
    "        dict(\n",
    "            n_neighbors=[5, 10, 20, 50, 100],\n",
    "            weights=['uniform', 'distance'],\n",
    "            algorithm=['brute'],\n",
    "            metric=['euclidean', 'manhattan'],\n",
    "        ),\n",
    "    ]\n",
    "    \n",
    "    max_n_sel = len(parameters_list)-1\n",
    "    n_sel = sys.argv[1] if len(sys.argv) > 1 else ''\n",
    "    while True:\n",
    "        try:\n",
    "            n_sel = int(n_sel.strip())\n",
    "            if 0 <= n_sel and n_sel <= max_n_sel:\n",
    "                parameters = parameters_list[n_sel]\n",
    "                break     \n",
    "        except (ValueError, TypeError):\n",
    "            pass\n",
    "        n_sel = input('Params set (0..{}): '.format(max_n_sel))\n",
    "    knn = KNeighborsClassifier(n_jobs=8)\n",
    "    run_search(knn, parameters, p_set=.1, verbose=2)"
   ]
  },
  {
   "cell_type": "code",
   "execution_count": null,
   "metadata": {
    "collapsed": true
   },
   "outputs": [],
   "source": []
  }
 ],
 "metadata": {
  "kernelspec": {
   "display_name": "Python 3",
   "language": "python",
   "name": "python3"
  },
  "language_info": {
   "codemirror_mode": {
    "name": "ipython",
    "version": 3
   },
   "file_extension": ".py",
   "mimetype": "text/x-python",
   "name": "python",
   "nbconvert_exporter": "python",
   "pygments_lexer": "ipython3",
   "version": "3.6.3"
  },
  "toc": {
   "nav_menu": {},
   "number_sections": true,
   "sideBar": true,
   "skip_h1_title": false,
   "title_cell": "Table of Contents",
   "title_sidebar": "Contents",
   "toc_cell": false,
   "toc_position": {},
   "toc_section_display": true,
   "toc_window_display": false
  }
 },
 "nbformat": 4,
 "nbformat_minor": 2
}
