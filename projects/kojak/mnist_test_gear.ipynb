{
 "cells": [
  {
   "cell_type": "markdown",
   "metadata": {},
   "source": [
    "**Test Gear**  \n",
    "Run Grid Search with Cross Validation for classifier hyperparameter tunning"
   ]
  },
  {
   "cell_type": "code",
   "execution_count": 1,
   "metadata": {
    "collapsed": true
   },
   "outputs": [],
   "source": [
    "import sys\n",
    "import os\n",
    "import time"
   ]
  },
  {
   "cell_type": "code",
   "execution_count": 2,
   "metadata": {
    "collapsed": true
   },
   "outputs": [],
   "source": [
    "import numpy as np\n",
    "import pandas as pd"
   ]
  },
  {
   "cell_type": "code",
   "execution_count": 3,
   "metadata": {
    "collapsed": true
   },
   "outputs": [],
   "source": [
    "import matplotlib.pyplot as plt\n",
    "\n",
    "try:\n",
    "    %matplotlib inline\n",
    "    plot_ok = True\n",
    "except (NameError) as e:\n",
    "    print(\"{}: Running without plotting\".format(e))\n",
    "    plot_ok = False"
   ]
  },
  {
   "cell_type": "code",
   "execution_count": 22,
   "metadata": {
    "collapsed": true
   },
   "outputs": [],
   "source": [
    "import mnist_utils\n",
    "import pil_utils\n",
    "from collections import defaultdict\n",
    "import os.path\n",
    "\n",
    "DATA_FILE = 'data/mnist/adv_set-0.100-0.400-0-60000-0-10000.npz'\n",
    "MNIST_SHAPE = 28, 28\n",
    "\n",
    "def plot_flatten_img(img, title=None, ax=None):\n",
    "    if plot_ok:\n",
    "        pil_utils.plot_image(img.reshape(MNIST_SHAPE), title=title, ax=ax)\n",
    "\n",
    "def make_label_to_index_map(label_list):\n",
    "    label_to_index_map = defaultdict(list)\n",
    "    for i, l in enumerate(label_list):\n",
    "        label_to_index_map[l].append(i)\n",
    "    return label_to_index_map\n",
    "\n",
    "def reduce_index_list(label_to_index_map, p=.1):\n",
    "    for l in label_to_index_map:\n",
    "        n = int(len(label_to_index_map[l])*p)\n",
    "        label_to_index_map[l] = np.random.choice(label_to_index_map[l], size=n, replace=False)\n",
    "    return label_to_index_map\n",
    "\n",
    "def build_reduced_set(X, y, p=.1):\n",
    "    label_to_index_map = make_label_to_index_map(y)\n",
    "    reduce_index_list(label_to_index_map, p=p)\n",
    "    index_list = np.concatenate(tuple(label_to_index_map.values()))\n",
    "    return X[index_list], y[index_list]\n",
    "\n",
    "def flatten_x(X):\n",
    "    return np.array([img.flatten() for img in X])\n",
    "\n",
    "def build_y(Y):\n",
    "    return np.argwhere(Y)[:,1]\n",
    "\n",
    "def get_mnist_sets(p=0):\n",
    "    npzfile = np.load(DATA_FILE)\n",
    "    train_imgs = flatten_x(npzfile['X_train'])\n",
    "    train_labels = build_y(npzfile['Y_train'])\n",
    "    test_imgs = flatten_x(npzfile['X_test'])\n",
    "    test_labels = build_y(npzfile['Y_test'])\n",
    "    if 0 < p and p < 1:\n",
    "        X_train, y_train = build_reduced_set(train_imgs, train_labels, p)\n",
    "        X_test, y_test = build_reduced_set(test_imgs, test_labels, p)\n",
    "    else:\n",
    "        X_train, y_train = train_imgs, train_labels\n",
    "        X_test, y_test = test_imgs, test_labels\n",
    "    print(\"train size={}, test size={}\".format(len(y_train), len(y_test)))\n",
    "    return X_train, y_train, X_test, y_test"
   ]
  },
  {
   "cell_type": "code",
   "execution_count": 11,
   "metadata": {
    "collapsed": true
   },
   "outputs": [],
   "source": [
    "from sklearn.metrics import \\\n",
    "    accuracy_score\n",
    "    \n",
    "from sklearn.model_selection import \\\n",
    "    GridSearchCV\n",
    "\n",
    "from sklearn.decomposition import \\\n",
    "    PCA\n",
    "\n",
    "def run_search(estimator, parameters, p_set=0, \n",
    "               pca_n_components=None, **kwargs):\n",
    "    X_train, y_train, X_test, y_test = get_mnist_sets(p_set)\n",
    "    \n",
    "    if pca_n_components:\n",
    "        pca = PCA(n_components=pca_n_components)\n",
    "        X_train = pca.fit_transform(X_train)\n",
    "        X_test = pca.transform(X_test)\n",
    "        print(\"PCA n_components={}\".format(pca_n_components))\n",
    "\n",
    "    gscv = GridSearchCV(estimator, parameters, **kwargs)\n",
    "    \n",
    "    start_time = time.time()\n",
    "    gscv.fit(X_train, y_train)\n",
    "    end_time = time.time()\n",
    "    \n",
    "    best_params = gscv.best_params_\n",
    "    best_estimator = gscv.best_estimator_\n",
    "    best_cv_score = gscv.best_score_\n",
    "\n",
    "    predict = best_estimator.predict(X_test)\n",
    "    test_score = accuracy_score(y_test, predict)\n",
    "\n",
    "    wrong_test_index = list(np.where (y_test != predict)[0])\n",
    "\n",
    "    log_dir = 'logs'\n",
    "    if not os.path.isdir(log_dir):\n",
    "        os.makedirs(log_dir)\n",
    "\n",
    "    prefix = time.strftime('{}-%Y-%d-%m-%H-%M-%S-{}-{}'.format(\n",
    "        estimator.__class__.__name__,\n",
    "        os.uname().nodename,\n",
    "        os.getpid()\n",
    "    ))\n",
    "    \n",
    "    log_file = os.path.join(log_dir, '{}.log'.format(prefix))\n",
    "    results_file = os.path.join(log_dir, '{}-results.csv'.format(prefix))\n",
    "    \n",
    "    dtime = end_time - start_time\n",
    "    n_days = int(dtime) // (3600*24)\n",
    "    n_hours = (int(dtime) % (3600*24)) // 3600\n",
    "    n_min = (int(dtime) % 3600) // 60\n",
    "    n_sec = dtime % 60\n",
    "\n",
    "    with open(log_file, 'wt') as f:\n",
    "        print(\"# Completed in {}:{:02d}:{:02d}:{:.06f}\".format(n_days, n_hours, n_min, n_sec), file=f)\n",
    "        print(\"# train size={}, test size={}, PCA n_components={}\".format(\n",
    "            len(y_train), len(y_test), pca_n_components), file=f)\n",
    "        print('best_estimator = {}'.format(best_estimator), file=f)\n",
    "        print('best_params= {} '.format(best_params), file=f)\n",
    "        print('best_cv_score = {}'.format(best_cv_score), file=f)\n",
    "        print('test_score = {}'.format(test_score), file=f)\n",
    "        n_step = 10\n",
    "        for k in range(0, len(wrong_test_index), n_step):\n",
    "            print((\"wrong_test_index =\" if k == 0 else \" +\") + \" \\\\\", sep='', file=f)\n",
    "            print(\" \", wrong_test_index[k:k+n_step], end='', file=f)\n",
    "        print(file=f)\n",
    "        print\n",
    "    print(\"Log saved to {} file\".format(log_file))\n",
    "    pd.DataFrame(gscv.cv_results_).to_csv(results_file)\n",
    "    print(\"Results saved to {} file\".format(results_file))\n",
    "    return gscv"
   ]
  }
 ],
 "metadata": {
  "kernelspec": {
   "display_name": "Python 3",
   "language": "python",
   "name": "python3"
  },
  "language_info": {
   "codemirror_mode": {
    "name": "ipython",
    "version": 3
   },
   "file_extension": ".py",
   "mimetype": "text/x-python",
   "name": "python",
   "nbconvert_exporter": "python",
   "pygments_lexer": "ipython3",
   "version": "3.6.3"
  },
  "toc": {
   "nav_menu": {},
   "number_sections": true,
   "sideBar": true,
   "skip_h1_title": false,
   "title_cell": "Table of Contents",
   "title_sidebar": "Contents",
   "toc_cell": false,
   "toc_position": {},
   "toc_section_display": true,
   "toc_window_display": false
  }
 },
 "nbformat": 4,
 "nbformat_minor": 2
}
