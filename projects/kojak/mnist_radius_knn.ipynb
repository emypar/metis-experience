{
 "cells": [
  {
   "cell_type": "markdown",
   "metadata": {},
   "source": [
    "** Classify MNIST w/ Radius KNN**"
   ]
  },
  {
   "cell_type": "code",
   "execution_count": 1,
   "metadata": {
    "collapsed": true
   },
   "outputs": [],
   "source": [
    "import sys\n",
    "import os"
   ]
  },
  {
   "cell_type": "code",
   "execution_count": 5,
   "metadata": {
    "scrolled": false
   },
   "outputs": [
    {
     "name": "stdout",
     "output_type": "stream",
     "text": [
      "Params set (0..2): 0\n",
      "train size=596, test size=95\n",
      "Fitting 3 folds for each of 4 candidates, totalling 12 fits\n",
      "[CV] algorithm=ball_tree, metric=euclidean, radius=100000.0, weights=uniform \n",
      "[CV]  algorithm=ball_tree, metric=euclidean, radius=100000.0, weights=uniform, total=   0.1s\n",
      "[CV] algorithm=ball_tree, metric=euclidean, radius=100000.0, weights=uniform \n"
     ]
    },
    {
     "name": "stderr",
     "output_type": "stream",
     "text": [
      "[Parallel(n_jobs=1)]: Done   1 out of   1 | elapsed:    0.3s remaining:    0.0s\n"
     ]
    },
    {
     "name": "stdout",
     "output_type": "stream",
     "text": [
      "[CV]  algorithm=ball_tree, metric=euclidean, radius=100000.0, weights=uniform, total=   0.1s\n",
      "[CV] algorithm=ball_tree, metric=euclidean, radius=100000.0, weights=uniform \n",
      "[CV]  algorithm=ball_tree, metric=euclidean, radius=100000.0, weights=uniform, total=   0.1s\n",
      "[CV] algorithm=ball_tree, metric=euclidean, radius=100000.0, weights=distance \n",
      "[CV]  algorithm=ball_tree, metric=euclidean, radius=100000.0, weights=distance, total=   0.1s\n",
      "[CV] algorithm=ball_tree, metric=euclidean, radius=100000.0, weights=distance \n",
      "[CV]  algorithm=ball_tree, metric=euclidean, radius=100000.0, weights=distance, total=   0.1s\n",
      "[CV] algorithm=ball_tree, metric=euclidean, radius=100000.0, weights=distance \n",
      "[CV]  algorithm=ball_tree, metric=euclidean, radius=100000.0, weights=distance, total=   0.1s\n",
      "[CV] algorithm=ball_tree, metric=manhattan, radius=100000.0, weights=uniform \n",
      "[CV]  algorithm=ball_tree, metric=manhattan, radius=100000.0, weights=uniform, total=   0.1s\n",
      "[CV] algorithm=ball_tree, metric=manhattan, radius=100000.0, weights=uniform \n",
      "[CV]  algorithm=ball_tree, metric=manhattan, radius=100000.0, weights=uniform, total=   0.1s\n",
      "[CV] algorithm=ball_tree, metric=manhattan, radius=100000.0, weights=uniform \n",
      "[CV]  algorithm=ball_tree, metric=manhattan, radius=100000.0, weights=uniform, total=   0.1s\n",
      "[CV] algorithm=ball_tree, metric=manhattan, radius=100000.0, weights=distance \n",
      "[CV]  algorithm=ball_tree, metric=manhattan, radius=100000.0, weights=distance, total=   0.1s\n",
      "[CV] algorithm=ball_tree, metric=manhattan, radius=100000.0, weights=distance \n",
      "[CV]  algorithm=ball_tree, metric=manhattan, radius=100000.0, weights=distance, total=   0.1s\n",
      "[CV] algorithm=ball_tree, metric=manhattan, radius=100000.0, weights=distance \n",
      "[CV]  algorithm=ball_tree, metric=manhattan, radius=100000.0, weights=distance, total=   0.1s\n",
      "Log saved to logs/RadiusNeighborsClassifier-2018-25-03-20-15-04-Emys-MacBook-Pro.local-54107.log file\n",
      "Results saved to logs/RadiusNeighborsClassifier-2018-25-03-20-15-04-Emys-MacBook-Pro.local-54107-results.csv file\n"
     ]
    },
    {
     "name": "stderr",
     "output_type": "stream",
     "text": [
      "[Parallel(n_jobs=1)]: Done  12 out of  12 | elapsed:    4.2s finished\n",
      "/Users/emy/anaconda3/lib/python3.6/site-packages/sklearn/utils/deprecation.py:122: FutureWarning: You are accessing a training score ('mean_train_score'), which will not be available by default any more in 0.21. If you need training scores, please set return_train_score=True\n",
      "  warnings.warn(*warn_args, **warn_kwargs)\n",
      "/Users/emy/anaconda3/lib/python3.6/site-packages/sklearn/utils/deprecation.py:122: FutureWarning: You are accessing a training score ('split0_train_score'), which will not be available by default any more in 0.21. If you need training scores, please set return_train_score=True\n",
      "  warnings.warn(*warn_args, **warn_kwargs)\n",
      "/Users/emy/anaconda3/lib/python3.6/site-packages/sklearn/utils/deprecation.py:122: FutureWarning: You are accessing a training score ('split1_train_score'), which will not be available by default any more in 0.21. If you need training scores, please set return_train_score=True\n",
      "  warnings.warn(*warn_args, **warn_kwargs)\n",
      "/Users/emy/anaconda3/lib/python3.6/site-packages/sklearn/utils/deprecation.py:122: FutureWarning: You are accessing a training score ('split2_train_score'), which will not be available by default any more in 0.21. If you need training scores, please set return_train_score=True\n",
      "  warnings.warn(*warn_args, **warn_kwargs)\n",
      "/Users/emy/anaconda3/lib/python3.6/site-packages/sklearn/utils/deprecation.py:122: FutureWarning: You are accessing a training score ('std_train_score'), which will not be available by default any more in 0.21. If you need training scores, please set return_train_score=True\n",
      "  warnings.warn(*warn_args, **warn_kwargs)\n"
     ]
    }
   ],
   "source": [
    "from  mnist_test_gear import run_search\n",
    "\n",
    "if __name__ == '__main__':\n",
    "    from sklearn.neighbors import \\\n",
    "        RadiusNeighborsClassifier\n",
    "\n",
    "    parameters_list = [\n",
    "        dict(\n",
    "            radius=[100000.],\n",
    "            weights=['uniform', 'distance'],\n",
    "            algorithm=['ball_tree'],\n",
    "            metric=['euclidean', 'manhattan'],\n",
    "        ),\n",
    "        \n",
    "        dict(\n",
    "            radius=[1., 10., 20., 50., 100.],\n",
    "            weights=['uniform', 'distance'],\n",
    "            algorithm=['kd_tree'],\n",
    "            metric=['euclidean', 'manhattan'],\n",
    "        ),\n",
    "        \n",
    "        dict(\n",
    "            radius=[1., 10., 20., 50., 100.],\n",
    "            weights=['uniform', 'distance'],\n",
    "            algorithm=['brute'],\n",
    "            metric=['euclidean', 'manhattan'],\n",
    "        ),\n",
    "    ]\n",
    "    \n",
    "    max_n_sel = len(parameters_list)-1\n",
    "    n_sel = sys.argv[1] if len(sys.argv) > 1 else ''\n",
    "    while True:\n",
    "        try:\n",
    "            n_sel = int(n_sel.strip())\n",
    "            if 0 <= n_sel and n_sel <= max_n_sel:\n",
    "                parameters = parameters_list[n_sel]\n",
    "                break     \n",
    "        except (ValueError, TypeError):\n",
    "            pass\n",
    "        n_sel = input('Params set (0..{}): '.format(max_n_sel))\n",
    "    knn = RadiusNeighborsClassifier(n_jobs=8)\n",
    "    run_search(knn, parameters, p_set=0.01, verbose=2)"
   ]
  },
  {
   "cell_type": "code",
   "execution_count": null,
   "metadata": {
    "collapsed": true
   },
   "outputs": [],
   "source": []
  }
 ],
 "metadata": {
  "kernelspec": {
   "display_name": "Python 3",
   "language": "python",
   "name": "python3"
  },
  "language_info": {
   "codemirror_mode": {
    "name": "ipython",
    "version": 3
   },
   "file_extension": ".py",
   "mimetype": "text/x-python",
   "name": "python",
   "nbconvert_exporter": "python",
   "pygments_lexer": "ipython3",
   "version": "3.6.3"
  },
  "toc": {
   "nav_menu": {},
   "number_sections": true,
   "sideBar": true,
   "skip_h1_title": false,
   "title_cell": "Table of Contents",
   "title_sidebar": "Contents",
   "toc_cell": false,
   "toc_position": {},
   "toc_section_display": true,
   "toc_window_display": false
  }
 },
 "nbformat": 4,
 "nbformat_minor": 2
}
