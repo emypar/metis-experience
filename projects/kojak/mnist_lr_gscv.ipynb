{
 "cells": [
  {
   "cell_type": "markdown",
   "metadata": {},
   "source": [
    "** Determine best hyperparameters for MNIST LR Classifier using grid search w/ CV**"
   ]
  },
  {
   "cell_type": "code",
   "execution_count": null,
   "metadata": {
    "collapsed": true
   },
   "outputs": [],
   "source": [
    "import sys\n",
    "import os"
   ]
  },
  {
   "cell_type": "code",
   "execution_count": null,
   "metadata": {
    "collapsed": true
   },
   "outputs": [],
   "source": [
    "import numpy as np"
   ]
  },
  {
   "cell_type": "code",
   "execution_count": null,
   "metadata": {
    "collapsed": true
   },
   "outputs": [],
   "source": [
    "from  mnist_test_gear import run_search\n",
    "\n",
    "if __name__ == '__main__':\n",
    "    from sklearn.linear_model import \\\n",
    "        LogisticRegression\n",
    "        \n",
    "    parameters_list = [\n",
    "        dict(\n",
    "            C=np.logspace(-2, 2, 20),\n",
    "            penalty=['l1', 'l2'],\n",
    "            solver=['saga'],\n",
    "            class_weight=['balanced', None],\n",
    "        ), \n",
    "        \n",
    "        dict(\n",
    "            C=np.logspace(-2, 2, 20),\n",
    "            penalty=['l1', 'l2'],\n",
    "            solver=['liblinear'],\n",
    "            class_weight=['balanced', None],\n",
    "        ), \n",
    "        \n",
    "        dict(\n",
    "            C=np.logspace(-2, 2, 20),\n",
    "            penalty=['l1', 'l2'],\n",
    "            solver=['saga'],\n",
    "            class_weight=['balanced', None],\n",
    "            multi_class=['multinomial'],\n",
    "        ), \n",
    "    ]\n",
    "\n",
    "    max_n_sel = len(parameters_list)-1\n",
    "    n_sel = sys.argv[1] if len(sys.argv) > 1 else ''\n",
    "    while True:\n",
    "        try:\n",
    "            n_sel = int(n_sel.strip())\n",
    "            if 0 <= n_sel and n_sel <= max_n_sel:\n",
    "                parameters = parameters_list[n_sel]\n",
    "                break     \n",
    "        except (ValueError, TypeError):\n",
    "            pass\n",
    "        n_sel = input('Params set (0..{}): '.format(max_n_sel))\n",
    "\n",
    "    lr = LogisticRegression(max_iter=1000, n_jobs=2)\n",
    "    run_search(lr, parameters, n_jobs=4, verbose=2)"
   ]
  }
 ],
 "metadata": {
  "kernelspec": {
   "display_name": "Python 3",
   "language": "python",
   "name": "python3"
  },
  "language_info": {
   "codemirror_mode": {
    "name": "ipython",
    "version": 3
   },
   "file_extension": ".py",
   "mimetype": "text/x-python",
   "name": "python",
   "nbconvert_exporter": "python",
   "pygments_lexer": "ipython3",
   "version": "3.6.3"
  },
  "toc": {
   "nav_menu": {},
   "number_sections": true,
   "sideBar": true,
   "skip_h1_title": false,
   "title_cell": "Table of Contents",
   "title_sidebar": "Contents",
   "toc_cell": false,
   "toc_position": {},
   "toc_section_display": true,
   "toc_window_display": false
  }
 },
 "nbformat": 4,
 "nbformat_minor": 2
}
