{
 "cells": [
  {
   "cell_type": "markdown",
   "metadata": {},
   "source": [
    "** MNIST CNN CLassifier Using Keras**"
   ]
  },
  {
   "cell_type": "code",
   "execution_count": null,
   "metadata": {
    "collapsed": true
   },
   "outputs": [],
   "source": [
    "import sys\n",
    "import os"
   ]
  },
  {
   "cell_type": "code",
   "execution_count": null,
   "metadata": {
    "collapsed": true
   },
   "outputs": [],
   "source": [
    "import numpy as np"
   ]
  },
  {
   "cell_type": "code",
   "execution_count": null,
   "metadata": {},
   "outputs": [],
   "source": [
    "from keras.datasets import mnist\n",
    "from keras.models import Sequential\n",
    "from keras.layers import Dense\n",
    "from keras.layers import Dropout\n",
    "from keras.layers import Flatten\n",
    "from keras.layers.convolutional import Conv2D\n",
    "from keras.layers.convolutional import MaxPooling2D\n",
    "from keras.utils import np_utils\n",
    "from keras import backend as K\n",
    "K.set_image_dim_ordering('th')\n",
    "\n",
    "class MNIST_K_CNN(object):\n",
    "    @staticmethod\n",
    "    def larger_model():\n",
    "        # create model\n",
    "        model = Sequential()\n",
    "        model.add(Conv2D(30, (5, 5), input_shape=(1, 28, 28), activation='relu'))\n",
    "        model.add(MaxPooling2D(pool_size=(2, 2)))\n",
    "        model.add(Conv2D(15, (3, 3), activation='relu'))\n",
    "        model.add(MaxPooling2D(pool_size=(2, 2)))\n",
    "        model.add(Dropout(0.2))\n",
    "        model.add(Flatten())\n",
    "        model.add(Dense(128, activation='relu'))\n",
    "        model.add(Dense(50, activation='relu'))\n",
    "        model.add(Dense(10, activation='softmax'))\n",
    "        # Compile model\n",
    "        model.compile(loss='categorical_crossentropy', optimizer='adam', metrics=['accuracy'])\n",
    "        return model\n",
    "    \n",
    "    def __init__(self, epochs=10, batch_size=200, validation_split=.3, verbose=0):\n",
    "        self._epochs = epochs\n",
    "        self._batch_size = batch_size\n",
    "        self._validation_split = validation_split\n",
    "        self._verbose = verbose\n",
    "\n",
    "    def fit(self, X, y, epochs=None, batch_size=None, \n",
    "            validation_split=None, verbose=None):\n",
    "        self._model = self.larger_model()\n",
    "        X = X.reshape(X.shape[0], 1, 28, 28)\n",
    "        y = np_utils.to_categorical(y)\n",
    "        if epochs is None:\n",
    "            epochs = self._epochs\n",
    "        if batch_size is None:\n",
    "            batch_size = self._batch_size\n",
    "        if validation_split is None:\n",
    "            validation_split = self._validation_split\n",
    "        if verbose is None:\n",
    "            verbose = self._verbose\n",
    "        self._model.fit(X, y, validation_split=validation_split, epochs=epochs, verbose=verbose)\n",
    "        \n",
    "    def predict(self, X):\n",
    "        X = X.reshape(X.shape[0], 1, 28, 28)\n",
    "        y_pred = self._model.predict(X)\n",
    "        return np.argmax(y_pred, axis=1)"
   ]
  },
  {
   "cell_type": "code",
   "execution_count": null,
   "metadata": {},
   "outputs": [],
   "source": [
    "if __name__ == '__main__':\n",
    "    from mnist_adv_test import load_data\n",
    "    from sklearn.metrics import accuracy_score\n",
    "    x_train, y_train, x_test, y_test, _ = load_data(use_p=1.)\n",
    "    \n",
    "    k_cnn = MNIST_K_CNN()\n",
    "    k_cnn.fit(x_train, y_train, verbose=1)\n",
    "    y_pred = k_cnn.predict(x_test)\n",
    "    print(\"Accuracy={}\".format(accuracy_score(y_test, y_pred)))"
   ]
  }
 ],
 "metadata": {
  "kernelspec": {
   "display_name": "Python 3",
   "language": "python",
   "name": "python3"
  },
  "language_info": {
   "codemirror_mode": {
    "name": "ipython",
    "version": 3
   },
   "file_extension": ".py",
   "mimetype": "text/x-python",
   "name": "python",
   "nbconvert_exporter": "python",
   "pygments_lexer": "ipython3",
   "version": "3.6.3"
  },
  "toc": {
   "nav_menu": {},
   "number_sections": true,
   "sideBar": true,
   "skip_h1_title": false,
   "title_cell": "Table of Contents",
   "title_sidebar": "Contents",
   "toc_cell": false,
   "toc_position": {},
   "toc_section_display": true,
   "toc_window_display": false
  }
 },
 "nbformat": 4,
 "nbformat_minor": 2
}
