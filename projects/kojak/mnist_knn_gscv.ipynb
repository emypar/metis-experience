{
 "cells": [
  {
   "cell_type": "markdown",
   "metadata": {},
   "source": [
    "** Determine best hyperparameters for MNIST KNN Classifier using grid search w/ CV**"
   ]
  },
  {
   "cell_type": "code",
   "execution_count": null,
   "metadata": {
    "collapsed": true
   },
   "outputs": [],
   "source": [
    "import sys\n",
    "import os"
   ]
  },
  {
   "cell_type": "code",
   "execution_count": null,
   "metadata": {
    "collapsed": true
   },
   "outputs": [],
   "source": [
    "from  mnist_test_gear import run_search\n",
    "\n",
    "if __name__ == '__main__':\n",
    "    from sklearn.neighbors import \\\n",
    "        KNeighborsClassifier\n",
    "\n",
    "    parameters_list = [\n",
    "        dict(\n",
    "            n_neighbors=[5, 10, 20, 50, 100],\n",
    "            weights=['uniform', 'distance'],\n",
    "            algorithm=['ball_tree'],\n",
    "            metric=['euclidean', 'manhattan'],\n",
    "        ),\n",
    "        \n",
    "        dict(\n",
    "            n_neighbors=[5, 10, 20, 50, 100],\n",
    "            weights=['uniform', 'distance'],\n",
    "            algorithm=['kd_tree'],\n",
    "            metric=['euclidean', 'manhattan'],\n",
    "        ),\n",
    "        \n",
    "        dict(\n",
    "            n_neighbors=[5, 10, 20, 50, 100],\n",
    "            weights=['uniform', 'distance'],\n",
    "            algorithm=['brute'],\n",
    "            metric=['euclidean', 'manhattan'],\n",
    "        ),\n",
    "    ]\n",
    "    \n",
    "    max_n_sel = len(parameters_list)-1\n",
    "    n_sel = sys.argv[1] if len(sys.argv) > 1 else ''\n",
    "    while True:\n",
    "        try:\n",
    "            n_sel = int(n_sel.strip())\n",
    "            if 0 <= n_sel and n_sel <= max_n_sel:\n",
    "                parameters = parameters_list[n_sel]\n",
    "                break     \n",
    "        except (ValueError, TypeError):\n",
    "            pass\n",
    "        n_sel = input('Params set (0..{}): '.format(max_n_sel))\n",
    "    knn = KNeighborsClassifier(n_jobs=8)\n",
    "    run_search(knn, parameters, verbose=2)"
   ]
  }
 ],
 "metadata": {
  "kernelspec": {
   "display_name": "Python 3",
   "language": "python",
   "name": "python3"
  },
  "language_info": {
   "codemirror_mode": {
    "name": "ipython",
    "version": 3
   },
   "file_extension": ".py",
   "mimetype": "text/x-python",
   "name": "python",
   "nbconvert_exporter": "python",
   "pygments_lexer": "ipython3",
   "version": "3.6.3"
  },
  "toc": {
   "nav_menu": {},
   "number_sections": true,
   "sideBar": true,
   "skip_h1_title": false,
   "title_cell": "Table of Contents",
   "title_sidebar": "Contents",
   "toc_cell": false,
   "toc_position": {},
   "toc_section_display": true,
   "toc_window_display": false
  }
 },
 "nbformat": 4,
 "nbformat_minor": 2
}
