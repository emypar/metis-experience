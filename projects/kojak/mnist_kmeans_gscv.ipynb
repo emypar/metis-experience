{
 "cells": [
  {
   "cell_type": "markdown",
   "metadata": {},
   "source": [
    "** Determine best hyperparameters for MNIST KMeans Classifier using grid search w/ CV**"
   ]
  },
  {
   "cell_type": "code",
   "execution_count": 2,
   "metadata": {
    "collapsed": true
   },
   "outputs": [],
   "source": [
    "import sys\n",
    "import os"
   ]
  },
  {
   "cell_type": "code",
   "execution_count": null,
   "metadata": {},
   "outputs": [
    {
     "name": "stdout",
     "output_type": "stream",
     "text": [
      "Params set (0..0): 0\n",
      "train size=5996, test size=981\n",
      "Fitting 3 folds for each of 1 candidates, totalling 3 fits\n",
      "[CV] init=k-means++ ..................................................\n",
      "[CV] ................................... init=k-means++, total=   1.4s\n",
      "[CV] init=k-means++ ..................................................\n"
     ]
    },
    {
     "name": "stderr",
     "output_type": "stream",
     "text": [
      "[Parallel(n_jobs=1)]: Done   1 out of   1 | elapsed:    1.4s remaining:    0.0s\n"
     ]
    }
   ],
   "source": [
    "from  mnist_test_gear import run_search\n",
    "\n",
    "if __name__ == '__main__':\n",
    "    from sklearn.cluster import \\\n",
    "        KMeans\n",
    "\n",
    "    parameters_list = [\n",
    "        dict(\n",
    "            init=['k-means++'],\n",
    "        ),\n",
    "        \n",
    "    ]\n",
    "    \n",
    "    max_n_sel = len(parameters_list)-1\n",
    "    n_sel = sys.argv[1] if len(sys.argv) > 1 else ''\n",
    "    while True:\n",
    "        try:\n",
    "            n_sel = int(n_sel.strip())\n",
    "            if 0 <= n_sel and n_sel <= max_n_sel:\n",
    "                parameters = parameters_list[n_sel]\n",
    "                break     \n",
    "        except (ValueError, TypeError):\n",
    "            pass\n",
    "        n_sel = input('Params set (0..{}): '.format(max_n_sel))\n",
    "    kmns = KMeans(n_clusters=10, n_jobs=8)\n",
    "    run_search(kmns, parameters, p_set=.1, verbose=2)"
   ]
  },
  {
   "cell_type": "code",
   "execution_count": null,
   "metadata": {
    "collapsed": true
   },
   "outputs": [],
   "source": []
  }
 ],
 "metadata": {
  "kernelspec": {
   "display_name": "Python 3",
   "language": "python",
   "name": "python3"
  },
  "language_info": {
   "codemirror_mode": {
    "name": "ipython",
    "version": 3
   },
   "file_extension": ".py",
   "mimetype": "text/x-python",
   "name": "python",
   "nbconvert_exporter": "python",
   "pygments_lexer": "ipython3",
   "version": "3.6.3"
  },
  "toc": {
   "nav_menu": {},
   "number_sections": true,
   "sideBar": true,
   "skip_h1_title": false,
   "title_cell": "Table of Contents",
   "title_sidebar": "Contents",
   "toc_cell": false,
   "toc_position": {},
   "toc_section_display": true,
   "toc_window_display": false
  }
 },
 "nbformat": 4,
 "nbformat_minor": 2
}
