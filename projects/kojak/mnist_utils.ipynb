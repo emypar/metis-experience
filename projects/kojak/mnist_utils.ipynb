{
 "cells": [
  {
   "cell_type": "markdown",
   "metadata": {},
   "source": [
    "**[MNIST Data Set](http://yann.lecun.com/exdb/mnist/) Utils**"
   ]
  },
  {
   "cell_type": "code",
   "execution_count": 1,
   "metadata": {
    "collapsed": true
   },
   "outputs": [],
   "source": [
    "import sys\n",
    "import os\n",
    "import gzip"
   ]
  },
  {
   "cell_type": "code",
   "execution_count": 2,
   "metadata": {
    "collapsed": true
   },
   "outputs": [],
   "source": [
    "import numpy as np\n",
    "\n",
    "import struct\n",
    "\n",
    "MNIST_IMAGE_MAGIC_NUMBER = 2051\n",
    "MNIST_LABEL_MAGIC_NUMBER = 2049\n",
    "\n",
    "import pil_utils\n",
    "\n",
    "def read_int32(f):\n",
    "    \"\"\"Read int32 from binary file\n",
    "    \"\"\"\n",
    "    buffer = f.read(4)\n",
    "    return struct.unpack_from('>L', buffer)[0]\n",
    "\n",
    "def load_image_file(img_file, as_float=False):\n",
    "    \"\"\"Load image file\n",
    "    \"\"\"\n",
    "\n",
    "    # TRAINING SET IMAGE FILE (train-images-idx3-ubyte):\n",
    "    # [offset] [type]          [value]          [description] \n",
    "    # 0000     32 bit integer  0x00000803(2051) magic number \n",
    "    # 0004     32 bit integer  60000            number of images \n",
    "    # 0008     32 bit integer  28               number of rows \n",
    "    # 0012     32 bit integer  28               number of columns \n",
    "    # 0016     unsigned byte   ??               pixel \n",
    "    # 0017     unsigned byte   ??               pixel \n",
    "    # ........ \n",
    "    # xxxx     unsigned byte   ??               pixel\n",
    "    # Pixels are organized row-wise. Pixel values are 0 to 255. 0 means background (white), \n",
    "    # 255 means foreground (black).\n",
    "\n",
    "    if img_file.endswith('.gz'):\n",
    "        open_func = gzip.open\n",
    "    else:\n",
    "        open_func = open\n",
    "    imgs = []\n",
    "    with open_func(img_file, 'rb') as f:\n",
    "        magic = read_int32(f)\n",
    "        assert(magic == MNIST_IMAGE_MAGIC_NUMBER)\n",
    "        num_images = read_int32(f)\n",
    "        num_rows = read_int32(f)\n",
    "        num_cols = read_int32(f)\n",
    "        img_sz = num_rows * num_cols\n",
    "        for i in range(num_images):\n",
    "            buffer = f.read(img_sz)\n",
    "            data = 255 - (np.frombuffer(buffer, dtype=np.uint8)).reshape(num_rows, num_cols)\n",
    "            if as_float:\n",
    "                data = (data/255).astype(pil_utils.IMG_FLOAT_TYPE)\n",
    "            imgs.append(data)\n",
    "    return imgs\n",
    "\n",
    "def load_label_file(lbl_file):\n",
    "    \"\"\"Load label file\n",
    "    \"\"\"\n",
    "    \n",
    "    # TRAINING SET LABEL FILE (train-labels-idx1-ubyte):\n",
    "    # [offset] [type]          [value]          [description] \n",
    "    # 0000     32 bit integer  0x00000801(2049) magic number (MSB first) \n",
    "    # 0004     32 bit integer  60000            number of items \n",
    "    # 0008     unsigned byte   ??               label \n",
    "    # 0009     unsigned byte   ??               label \n",
    "    # ........ \n",
    "    # xxxx     unsigned byte   ??               label\n",
    "    # The labels values are 0 to 9.\n",
    "\n",
    "    READ_CHUNK_SZ = 0x10000 # 64k, that is\n",
    "    \n",
    "    if lbl_file.endswith('.gz'):\n",
    "        open_func = gzip.open\n",
    "    else:\n",
    "        open_func = open\n",
    "    lbls = []\n",
    "    with open_func(lbl_file, 'rb') as f:\n",
    "        magic = read_int32(f)\n",
    "        assert(magic == MNIST_LABEL_MAGIC_NUMBER)\n",
    "        num_labels = read_int32(f)\n",
    "        to_read = num_labels\n",
    "        offset = 0\n",
    "        while to_read:\n",
    "            n = min(READ_CHUNK_SZ, to_read)\n",
    "            buffer = f.read(n)\n",
    "            lbls.extend(buffer)\n",
    "            to_read -= n\n",
    "            offset += n\n",
    "    return lbls"
   ]
  },
  {
   "cell_type": "code",
   "execution_count": 3,
   "metadata": {},
   "outputs": [
    {
     "data": {
      "image/png": "[encoded data removed]",
      "text/plain": [
       "<matplotlib.figure.Figure at 0x103234d30>"
      ]
     },
     "metadata": {},
     "output_type": "display_data"
    },
    {
     "data": {
      "image/png": "[encoded data removed]",
      "text/plain": [
       "<matplotlib.figure.Figure at 0x10a196eb8>"
      ]
     },
     "metadata": {},
     "output_type": "display_data"
    },
    {
     "data": {
      "image/png": "[encoded data removed]",
      "text/plain": [
       "<matplotlib.figure.Figure at 0x10a1dd860>"
      ]
     },
     "metadata": {},
     "output_type": "display_data"
    }
   ],
   "source": [
    "if __name__ == '__main__':\n",
    "    imgs = load_image_file('data/mnist/t10k-images-idx3-ubyte.gz')\n",
    "    labels = load_label_file('data/mnist/t10k-labels-idx1-ubyte.gz')\n",
    "    \n",
    "    for i in [113, 287, 937]:\n",
    "        pil_utils.plot_image(imgs[i], title=labels[i])"
   ]
  }
 ],
 "metadata": {
  "kernelspec": {
   "display_name": "Python 3",
   "language": "python",
   "name": "python3"
  },
  "language_info": {
   "codemirror_mode": {
    "name": "ipython",
    "version": 3
   },
   "file_extension": ".py",
   "mimetype": "text/x-python",
   "name": "python",
   "nbconvert_exporter": "python",
   "pygments_lexer": "ipython3",
   "version": "3.6.3"
  },
  "toc": {
   "nav_menu": {},
   "number_sections": true,
   "sideBar": true,
   "skip_h1_title": false,
   "title_cell": "Table of Contents",
   "title_sidebar": "Contents",
   "toc_cell": false,
   "toc_position": {},
   "toc_section_display": true,
   "toc_window_display": false
  }
 },
 "nbformat": 4,
 "nbformat_minor": 2
}
