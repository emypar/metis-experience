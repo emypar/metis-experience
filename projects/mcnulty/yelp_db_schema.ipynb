{
 "cells": [
  {
   "cell_type": "markdown",
   "metadata": {},
   "source": [
    "```\n",
    "show tables;\n",
    "+-------------------+\n",
    "| Tables_in_yelp_db |\n",
    "+-------------------+\n",
    "| attribute         |\n",
    "| business          |\n",
    "| category          |\n",
    "| checkin           |\n",
    "| elite_years       |\n",
    "| friend            |\n",
    "| hours             |\n",
    "| photo             |\n",
    "| review            |\n",
    "| tip               |\n",
    "| user              |\n",
    "+-------------------+\n",
    "```"
   ]
  },
  {
   "cell_type": "markdown",
   "metadata": {},
   "source": [
    "```\n",
    "show columns from attribute;\n",
    "+-------------+--------------+------+-----+---------+----------------+\n",
    "| Field       | Type         | Null | Key | Default | Extra          |\n",
    "+-------------+--------------+------+-----+---------+----------------+\n",
    "| id          | int(11)      | NO   | PRI | NULL    | auto_increment |\n",
    "| business_id | varchar(22)  | NO   |     | NULL    |                |\n",
    "| name        | varchar(255) | YES  |     | NULL    |                |\n",
    "| value       | mediumtext   | YES  |     | NULL    |                |\n",
    "+-------------+--------------+------+-----+---------+----------------+\n",
    "```"
   ]
  },
  {
   "cell_type": "markdown",
   "metadata": {},
   "source": [
    "```\n",
    "show columns from business;\n",
    "+--------------+--------------+------+-----+---------+-------+\n",
    "| Field        | Type         | Null | Key | Default | Extra |\n",
    "+--------------+--------------+------+-----+---------+-------+\n",
    "| id           | varchar(22)  | NO   | PRI | NULL    |       |\n",
    "| name         | varchar(255) | YES  |     | NULL    |       |\n",
    "| neighborhood | varchar(255) | YES  |     | NULL    |       |\n",
    "| address      | varchar(255) | YES  |     | NULL    |       |\n",
    "| city         | varchar(255) | YES  |     | NULL    |       |\n",
    "| state        | varchar(255) | YES  |     | NULL    |       |\n",
    "| postal_code  | varchar(255) | YES  |     | NULL    |       |\n",
    "| latitude     | float        | YES  |     | NULL    |       |\n",
    "| longitude    | float        | YES  |     | NULL    |       |\n",
    "| stars        | float        | YES  |     | NULL    |       |\n",
    "| review_count | int(11)      | YES  |     | NULL    |       |\n",
    "| is_open      | tinyint(1)   | YES  |     | NULL    |       |\n",
    "+--------------+--------------+------+-----+---------+-------+\n",
    "```"
   ]
  },
  {
   "cell_type": "markdown",
   "metadata": {},
   "source": [
    "```\n",
    "show columns from category;\n",
    "+-------------+--------------+------+-----+---------+----------------+\n",
    "| Field       | Type         | Null | Key | Default | Extra          |\n",
    "+-------------+--------------+------+-----+---------+----------------+\n",
    "| id          | int(11)      | NO   | PRI | NULL    | auto_increment |\n",
    "| business_id | varchar(22)  | NO   |     | NULL    |                |\n",
    "| category    | varchar(255) | YES  |     | NULL    |                |\n",
    "+-------------+--------------+------+-----+---------+----------------+\n",
    "\n",
    "```"
   ]
  },
  {
   "cell_type": "markdown",
   "metadata": {},
   "source": [
    "```\n",
    "show columns from checkin;\n",
    "+-------------+--------------+------+-----+---------+----------------+\n",
    "| Field       | Type         | Null | Key | Default | Extra          |\n",
    "+-------------+--------------+------+-----+---------+----------------+\n",
    "| id          | int(11)      | NO   | PRI | NULL    | auto_increment |\n",
    "| business_id | varchar(22)  | NO   |     | NULL    |                |\n",
    "| date        | varchar(255) | YES  |     | NULL    |                |\n",
    "| count       | int(11)      | YES  |     | NULL    |                |\n",
    "+-------------+--------------+------+-----+---------+----------------+\n",
    "```"
   ]
  },
  {
   "cell_type": "markdown",
   "metadata": {},
   "source": [
    "```\n",
    "show columns from elite_years;\n",
    "+---------+-------------+------+-----+---------+----------------+\n",
    "| Field   | Type        | Null | Key | Default | Extra          |\n",
    "+---------+-------------+------+-----+---------+----------------+\n",
    "| id      | int(11)     | NO   | PRI | NULL    | auto_increment |\n",
    "| user_id | varchar(22) | NO   |     | NULL    |                |\n",
    "| year    | char(4)     | NO   |     | NULL    |                |\n",
    "+---------+-------------+------+-----+---------+----------------+\n",
    "```\n"
   ]
  },
  {
   "cell_type": "markdown",
   "metadata": {},
   "source": [
    "```\n",
    "show columns from friend;\n",
    "+-----------+-------------+------+-----+---------+----------------+\n",
    "| Field     | Type        | Null | Key | Default | Extra          |\n",
    "+-----------+-------------+------+-----+---------+----------------+\n",
    "| id        | int(11)     | NO   | PRI | NULL    | auto_increment |\n",
    "| user_id   | varchar(22) | NO   |     | NULL    |                |\n",
    "| friend_id | varchar(22) | NO   |     | NULL    |                |\n",
    "+-----------+-------------+------+-----+---------+----------------+\n",
    "```"
   ]
  },
  {
   "cell_type": "markdown",
   "metadata": {},
   "source": [
    "```\n",
    "show columns from hours;\n",
    "+-------------+--------------+------+-----+---------+----------------+\n",
    "| Field       | Type         | Null | Key | Default | Extra          |\n",
    "+-------------+--------------+------+-----+---------+----------------+\n",
    "| id          | int(11)      | NO   | PRI | NULL    | auto_increment |\n",
    "| business_id | varchar(22)  | NO   |     | NULL    |                |\n",
    "| hours       | varchar(255) | YES  |     | NULL    |                |\n",
    "+-------------+--------------+------+-----+---------+----------------+\n",
    "```"
   ]
  },
  {
   "cell_type": "markdown",
   "metadata": {},
   "source": [
    "```\n",
    "show columns from photo;\n",
    "+-------------+--------------+------+-----+---------+-------+\n",
    "| Field       | Type         | Null | Key | Default | Extra |\n",
    "+-------------+--------------+------+-----+---------+-------+\n",
    "| id          | varchar(22)  | NO   | PRI | NULL    |       |\n",
    "| business_id | varchar(22)  | NO   |     | NULL    |       |\n",
    "| caption     | varchar(255) | YES  |     | NULL    |       |\n",
    "| label       | varchar(255) | YES  |     | NULL    |       |\n",
    "+-------------+--------------+------+-----+---------+-------+\n",
    "```"
   ]
  },
  {
   "cell_type": "markdown",
   "metadata": {},
   "source": [
    "```\n",
    "show columns from review;\n",
    "+-------------+-------------+------+-----+---------+-------+\n",
    "| Field       | Type        | Null | Key | Default | Extra |\n",
    "+-------------+-------------+------+-----+---------+-------+\n",
    "| id          | varchar(22) | NO   | PRI | NULL    |       |\n",
    "| business_id | varchar(22) | NO   |     | NULL    |       |\n",
    "| user_id     | varchar(22) | NO   |     | NULL    |       |\n",
    "| stars       | int(11)     | YES  |     | NULL    |       |\n",
    "| date        | datetime    | YES  |     | NULL    |       |\n",
    "| text        | mediumtext  | YES  |     | NULL    |       |\n",
    "| useful      | int(11)     | YES  |     | NULL    |       |\n",
    "| funny       | int(11)     | YES  |     | NULL    |       |\n",
    "| cool        | int(11)     | YES  |     | NULL    |       |\n",
    "+-------------+-------------+------+-----+---------+-------+\n",
    "```"
   ]
  },
  {
   "cell_type": "markdown",
   "metadata": {},
   "source": [
    "```\n",
    "show columns from tip;\n",
    "+-------------+-------------+------+-----+---------+----------------+\n",
    "| Field       | Type        | Null | Key | Default | Extra          |\n",
    "+-------------+-------------+------+-----+---------+----------------+\n",
    "| id          | int(11)     | NO   | PRI | NULL    | auto_increment |\n",
    "| user_id     | varchar(22) | NO   |     | NULL    |                |\n",
    "| business_id | varchar(22) | NO   |     | NULL    |                |\n",
    "| text        | mediumtext  | YES  |     | NULL    |                |\n",
    "| date        | datetime    | YES  |     | NULL    |                |\n",
    "| likes       | int(11)     | YES  |     | NULL    |                |\n",
    "+-------------+-------------+------+-----+---------+----------------+\n",
    "\n",
    "```"
   ]
  },
  {
   "cell_type": "markdown",
   "metadata": {},
   "source": [
    "```\n",
    "show columns from user;\n",
    "+--------------------+--------------+------+-----+---------+-------+\n",
    "| Field              | Type         | Null | Key | Default | Extra |\n",
    "+--------------------+--------------+------+-----+---------+-------+\n",
    "| id                 | varchar(22)  | NO   | PRI | NULL    |       |\n",
    "| name               | varchar(255) | YES  |     | NULL    |       |\n",
    "| review_count       | int(11)      | YES  |     | NULL    |       |\n",
    "| yelping_since      | datetime     | YES  |     | NULL    |       |\n",
    "| useful             | int(11)      | YES  |     | NULL    |       |\n",
    "| funny              | int(11)      | YES  |     | NULL    |       |\n",
    "| cool               | int(11)      | YES  |     | NULL    |       |\n",
    "| fans               | int(11)      | YES  |     | NULL    |       |\n",
    "| average_stars      | float        | YES  |     | NULL    |       |\n",
    "| compliment_hot     | int(11)      | YES  |     | NULL    |       |\n",
    "| compliment_more    | int(11)      | YES  |     | NULL    |       |\n",
    "| compliment_profile | int(11)      | YES  |     | NULL    |       |\n",
    "| compliment_cute    | int(11)      | YES  |     | NULL    |       |\n",
    "| compliment_list    | int(11)      | YES  |     | NULL    |       |\n",
    "| compliment_note    | int(11)      | YES  |     | NULL    |       |\n",
    "| compliment_plain   | int(11)      | YES  |     | NULL    |       |\n",
    "| compliment_cool    | int(11)      | YES  |     | NULL    |       |\n",
    "| compliment_funny   | int(11)      | YES  |     | NULL    |       |\n",
    "| compliment_writer  | int(11)      | YES  |     | NULL    |       |\n",
    "| compliment_photos  | int(11)      | YES  |     | NULL    |       |\n",
    "+--------------------+--------------+------+-----+---------+-------+\n",
    "```"
   ]
  },
  {
   "cell_type": "code",
   "execution_count": null,
   "metadata": {},
   "outputs": [],
   "source": []
  }
 ],
 "metadata": {
  "kernelspec": {
   "display_name": "Python 3",
   "language": "python",
   "name": "python3"
  },
  "language_info": {
   "codemirror_mode": {
    "name": "ipython",
    "version": 3
   },
   "file_extension": ".py",
   "mimetype": "text/x-python",
   "name": "python",
   "nbconvert_exporter": "python",
   "pygments_lexer": "ipython3",
   "version": "3.6.3"
  }
 },
 "nbformat": 4,
 "nbformat_minor": 2
}
