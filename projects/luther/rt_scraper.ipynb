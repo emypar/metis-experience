{
 "cells": [
  {
   "cell_type": "markdown",
   "metadata": {},
   "source": [
    "# Rotten Tomatoes Scraper"
   ]
  },
  {
   "cell_type": "code",
   "execution_count": 1,
   "metadata": {
    "collapsed": true
   },
   "outputs": [],
   "source": [
    "import sys\n",
    "import os\n",
    "import json\n",
    "import re\n",
    "import pprint\n",
    "import multiprocessing as mp\n",
    "import time"
   ]
  },
  {
   "cell_type": "code",
   "execution_count": 2,
   "metadata": {
    "collapsed": true
   },
   "outputs": [],
   "source": [
    "data_dir = 'data'\n",
    "rt_movie_urls_file = os.path.join(data_dir, 'rt_movie_urls.json')\n",
    "with open(rt_movie_urls_file) as f:\n",
    "    rt_movie_urls = json.load(f)"
   ]
  },
  {
   "cell_type": "code",
   "execution_count": 3,
   "metadata": {
    "collapsed": true
   },
   "outputs": [],
   "source": [
    "from bs4 import BeautifulSoup\n",
    "\n",
    "from web_fetcher import get_cache\n",
    "\n",
    "def rt_scrape(url):\n",
    "    \n",
    "    page = get_cache(url)\n",
    "    if not page:\n",
    "        return\n",
    "    soup = BeautifulSoup(page, \"lxml\")\n",
    "    e = soup.find(\"script\", type=\"application/ld+json\", id=\"jsonLdSchema\")\n",
    "    if not e:\n",
    "        return\n",
    "    info = json.loads(e.text)\n",
    "    if info['@type'] != 'Movie':\n",
    "        return\n",
    "    \n",
    "    try:\n",
    "        actors = [a['name'] for a in info['actors'] if a['@type'] == 'Person']\n",
    "        agg_rating = info['aggregateRating']\n",
    "        rating = agg_rating['ratingValue'] / 100 #  agg_rating['maxRating'] \n",
    "        mpaa_rating = info['contentRating']\n",
    "        genre = info['genre']\n",
    "        release_date = info['dateCreated']\n",
    "        directors = [d['name'] for d in info['director']]\n",
    "        writers = [w['name'] for w in info['author']]\n",
    "        title = info['name']\n",
    "    except (KeyError, ValueError, TypeError):\n",
    "        return\n",
    "    \n",
    "    runtime = None\n",
    "    try:\n",
    "        e = soup.find(\"div\", string=re.compile(\"(?i)Runtime:\")).next_sibling.next_sibling\n",
    "        e = e.find(\"time\")\n",
    "        runtime = int(e.text.split()[0])\n",
    "    except (ValueError, TypeError, AttributeError):\n",
    "        pass\n",
    "    \n",
    "    try:\n",
    "        e = soup.find(\"div\", string=re.compile(\"(?i)In Theaters:\")).next_sibling.next_sibling\n",
    "        e = e.find(\"time\")\n",
    "        release_date = e['datetime']\n",
    "    except (ValueError, TypeError, AttributeError):\n",
    "        pass\n",
    "    \n",
    "    return dict(\n",
    "        actors=actors,\n",
    "        rating=rating,\n",
    "        mpaa_rating=mpaa_rating,\n",
    "        genre=genre,\n",
    "        release_date=release_date[:10],\n",
    "        directors=directors,\n",
    "        writers=writers,\n",
    "        title=title,\n",
    "        runtime=runtime\n",
    "    )"
   ]
  },
  {
   "cell_type": "code",
   "execution_count": 4,
   "metadata": {
    "collapsed": true
   },
   "outputs": [],
   "source": [
    "batch_size = 1000\n",
    "crt_batch_file = os.path.join(data_dir, 'rt_scraped.crt_batch_num')"
   ]
  },
  {
   "cell_type": "code",
   "execution_count": 5,
   "metadata": {
    "collapsed": true
   },
   "outputs": [],
   "source": [
    "def get_crt_batch_num():\n",
    "    try:\n",
    "        with open(crt_batch_file) as f:\n",
    "            crt_batch_num = int(f.readline().strip())\n",
    "    except (IOError, ValueError, TypeError):\n",
    "        crt_batch_num = 0\n",
    "    return crt_batch_num\n",
    "\n",
    "def save_crt_batch_num(crt_batch_num):\n",
    "    with open(crt_batch_file, 'w') as f:\n",
    "        f.write('{}\\n'.format(crt_batch_num))"
   ]
  },
  {
   "cell_type": "code",
   "execution_count": 6,
   "metadata": {
    "collapsed": true
   },
   "outputs": [],
   "source": [
    "def process_one_batch(crt_batch_num):\n",
    "    t_start = time.time()\n",
    "    i_start = crt_batch_num * batch_size\n",
    "    i_end = i_start + batch_size\n",
    "    crt_batch_url_list = rt_movie_urls[i_start:i_end]\n",
    "    if not crt_batch_url_list:\n",
    "        return 0\n",
    "    with mp.Pool() as pool:\n",
    "        scraped_data = list(filter(None, pool.map(rt_scrape, crt_batch_url_list)))\n",
    "    t_end = time.time()\n",
    "    o_file = os.path.join(data_dir, 'rt_scraped.py'.format(crt_batch_num))\n",
    "    first_time = not os.path.isfile(o_file)\n",
    "    with open(o_file, 'a') as f:\n",
    "        if first_time:\n",
    "            f.write(\"# RT Scraped Batch\\n\\n\" \n",
    "                    + \"rt_movies = []\\n\\n\")\n",
    "        f.write(\"# Batch# {}, time={:.06f}\\n\".format(crt_batch_num, t_end - t_start))\n",
    "        f.write(\"rt_movies.extend(\\n\")\n",
    "        pprint.pprint(scraped_data, stream=f)\n",
    "        f.write(\")\\n\\n\")\n",
    "    return len(crt_batch_url_list)"
   ]
  },
  {
   "cell_type": "code",
   "execution_count": 7,
   "metadata": {},
   "outputs": [
    {
     "name": "stdout",
     "output_type": "stream",
     "text": [
      "CPU times: user 7.78 s, sys: 1.43 s, total: 9.21 s\n",
      "Wall time: 15min 59s\n"
     ]
    }
   ],
   "source": [
    "%%time\n",
    "n = -1\n",
    "while n:\n",
    "    crt_batch_num = get_crt_batch_num()\n",
    "    n = process_one_batch(crt_batch_num)\n",
    "    crt_batch_num += 1\n",
    "    save_crt_batch_num(crt_batch_num)"
   ]
  },
  {
   "cell_type": "code",
   "execution_count": null,
   "metadata": {
    "collapsed": true
   },
   "outputs": [],
   "source": [
    "n"
   ]
  },
  {
   "cell_type": "code",
   "execution_count": null,
   "metadata": {
    "collapsed": true
   },
   "outputs": [],
   "source": []
  }
 ],
 "metadata": {
  "kernelspec": {
   "display_name": "Python 3",
   "language": "python",
   "name": "python3"
  },
  "language_info": {
   "codemirror_mode": {
    "name": "ipython",
    "version": 3
   },
   "file_extension": ".py",
   "mimetype": "text/x-python",
   "name": "python",
   "nbconvert_exporter": "python",
   "pygments_lexer": "ipython3",
   "version": "3.6.3"
  }
 },
 "nbformat": 4,
 "nbformat_minor": 2
}
