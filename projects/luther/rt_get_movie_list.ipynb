{
 "cells": [
  {
   "cell_type": "code",
   "execution_count": 1,
   "metadata": {
    "collapsed": true
   },
   "outputs": [],
   "source": [
    "import sys\n",
    "import os\n",
    "import requests\n",
    "from http import HTTPStatus\n",
    "from urllib.parse import \\\n",
    "    urlparse, urljoin\n",
    "import json"
   ]
  },
  {
   "cell_type": "code",
   "execution_count": 2,
   "metadata": {
    "collapsed": true
   },
   "outputs": [],
   "source": [
    "# Install:       conda install lxml\n",
    "# Doc:           http://lxml.de/api.html\n",
    "from lxml import etree as ET"
   ]
  },
  {
   "cell_type": "code",
   "execution_count": 3,
   "metadata": {
    "collapsed": true
   },
   "outputs": [],
   "source": [
    "RT_TOP_URL = 'https://www.rottentomatoes.com'\n",
    "RT_SITEMAP_ROOT = 'sitemap.xml'\n",
    "\n",
    "data_dir = 'data'\n",
    "if not os.path.isdir(data_dir):\n",
    "    os.makedirs(data_dir)\n",
    "    \n",
    "movie_urls_file = os.path.join(data_dir, 'rt_movie_urls.json')"
   ]
  },
  {
   "cell_type": "code",
   "execution_count": 4,
   "metadata": {
    "collapsed": true
   },
   "outputs": [],
   "source": [
    "def get_rt_sitemap_urls():\n",
    "    \"\"\"Return the list of sitemap URLs for Rotten Tomatoes\n",
    "    \"\"\"\n",
    "    \n",
    "    #<sitemapindex xmlns=\"http://www.sitemaps.org/schemas/sitemap/0.9\">\n",
    "    # <sitemap>\n",
    "    #  <loc>https://www.rottentomatoes.com/sitemap_0.xml</loc>\n",
    "    #  <lastmod>2018-01-27</lastmod>\n",
    "    # </sitemap>\n",
    "    # ...\n",
    "    \n",
    "    response = requests.get(urljoin(RT_TOP_URL, RT_SITEMAP_ROOT))\n",
    "    if response.status_code != HTTPStatus.OK:\n",
    "        return None\n",
    "    root = ET.fromstring(response.text)\n",
    "    \n",
    "    url_list = []\n",
    "    for loc_node in root.findall('./sitemap/loc', namespaces=root.nsmap):\n",
    "        url_list.append(loc_node.text)\n",
    "    return url_list\n",
    "\n",
    "\n",
    "def get_rt_movie_urls(sitemap_url):\n",
    "    \"\"\"Glean movie URL's from a specific sitemap\n",
    "    \"\"\"\n",
    "    \n",
    "    # <urlset xmlns=\"http://www.sitemaps.org/schemas/sitemap/0.9\" \n",
    "    #         xmlns:image=\"http://www.google.com/schemas/sitemap-image/1.1\" \n",
    "    #         xmlns:video=\"http://www.google.com/schemas/sitemap-video/1.1\">\n",
    "    #  <url>\n",
    "    #   <loc>https://www.rottentomatoes.com/m/two_moon_junction</loc>\n",
    "    #   <image:image>\n",
    "    #    <image:loc> \n",
    "    #      http://resizing.flixster.com/36-DqC-BG2XY44jZyoEqWT3zMXY=/fit-in/205x305/v1.bTsxMTI5MDk2OTtqOzE3NDU1OzEyMDA7MTIwMDsxNjAw\n",
    "    #    </image:loc>\n",
    "    #   </image:image>\n",
    "    #  </url>\n",
    "\n",
    "    response = requests.get(sitemap_url)\n",
    "    if response.status_code != HTTPStatus.OK:\n",
    "        return None\n",
    "    root = ET.fromstring(response.text)\n",
    "    \n",
    "    url_list = []\n",
    "    for loc_node in root.findall('./url/loc', namespaces=root.nsmap):\n",
    "        url = loc_node.text\n",
    "        # Ignore /pictures/, /trailers/, i.e. anything that ends w: `/':\n",
    "        if url[-1] == '/':\n",
    "            continue\n",
    "        # Keep only /m/, i.e. Movies section:\n",
    "        parsed_url = urlparse(url)\n",
    "        if parsed_url.path.startswith('/m/'):\n",
    "            url_list.append(url)\n",
    "    return url_list\n",
    "\n",
    "def _rt_get_all_movie_urls():\n",
    "    \"\"\"Get all movie URLs from the site\n",
    "    \"\"\"\n",
    "\n",
    "    sitemap_urls = get_rt_sitemap_urls()\n",
    "    all_movie_urls = []\n",
    "    for sitemap_url in sitemap_urls:\n",
    "        all_movie_urls.extend(get_rt_movie_urls(sitemap_url))\n",
    "    return all_movie_urls\n",
    "\n",
    "def rt_get_all_movie_urls(force_refresh=False):\n",
    "    \"\"\"Get all movie URLs from cache; refresh/seed it as needed.\n",
    "    \"\"\"\n",
    "    \n",
    "    if force_refresh or not os.path.isfile(movie_urls_file):\n",
    "        all_movie_urls = _rt_get_all_movie_urls()\n",
    "        with open(movie_urls_file, 'w') as f:\n",
    "            json.dump(all_movie_urls, f, indent=2)\n",
    "    with open(movie_urls_file) as f:\n",
    "        all_movie_urls = json.load(f)\n",
    "    return all_movie_urls"
   ]
  },
  {
   "cell_type": "code",
   "execution_count": 5,
   "metadata": {},
   "outputs": [],
   "source": [
    "all_movie_urls = rt_get_all_movie_urls()"
   ]
  },
  {
   "cell_type": "code",
   "execution_count": 6,
   "metadata": {},
   "outputs": [
    {
     "data": {
      "text/plain": [
       "40976"
      ]
     },
     "execution_count": 6,
     "metadata": {},
     "output_type": "execute_result"
    }
   ],
   "source": [
    "len(all_movie_urls)"
   ]
  },
  {
   "cell_type": "code",
   "execution_count": null,
   "metadata": {
    "collapsed": true
   },
   "outputs": [],
   "source": []
  }
 ],
 "metadata": {
  "kernelspec": {
   "display_name": "Python 3",
   "language": "python",
   "name": "python3"
  },
  "language_info": {
   "codemirror_mode": {
    "name": "ipython",
    "version": 3
   },
   "file_extension": ".py",
   "mimetype": "text/x-python",
   "name": "python",
   "nbconvert_exporter": "python",
   "pygments_lexer": "ipython3",
   "version": "3.6.3"
  }
 },
 "nbformat": 4,
 "nbformat_minor": 2
}
