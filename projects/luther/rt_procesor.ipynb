{
 "cells": [
  {
   "cell_type": "markdown",
   "metadata": {},
   "source": [
    "# Rotten Tomatoes Pre-Processor"
   ]
  },
  {
   "cell_type": "code",
   "execution_count": 1,
   "metadata": {
    "collapsed": true
   },
   "outputs": [],
   "source": [
    "import sys\n",
    "import os\n",
    "import json\n",
    "import re\n",
    "import pprint\n",
    "import time\n",
    "import re\n",
    "from bisect import bisect_right\n",
    "import csv\n",
    "import gzip"
   ]
  },
  {
   "cell_type": "code",
   "execution_count": 2,
   "metadata": {},
   "outputs": [],
   "source": [
    "from data.rt_scraped import rt_movies"
   ]
  },
  {
   "cell_type": "code",
   "execution_count": 3,
   "metadata": {
    "collapsed": true
   },
   "outputs": [],
   "source": [
    "data_dir = 'data'"
   ]
  },
  {
   "cell_type": "code",
   "execution_count": 4,
   "metadata": {},
   "outputs": [],
   "source": [
    "def count_occurences(movie, selector, collector):\n",
    "    date = movie.get('release_date')\n",
    "    name_list = movie[selector]\n",
    "    for name in name_list:\n",
    "        if name not in collector:\n",
    "            collector[name] = {}\n",
    "        if date not in collector[name]:\n",
    "            collector[name][date] = 0\n",
    "        collector[name][date] += 1\n",
    "        \n",
    "actor_counts = {}\n",
    "director_counts = {}\n",
    "writer_counts = {}\n",
    "genres = set()\n",
    "\n",
    "for movie in rt_movies:\n",
    "    count_occurences(movie, 'actors', actor_counts)\n",
    "    count_occurences(movie, 'directors', director_counts)\n",
    "    count_occurences(movie, 'writers', writer_counts)\n",
    "    genres.update(movie['genre'])"
   ]
  },
  {
   "cell_type": "code",
   "execution_count": 5,
   "metadata": {},
   "outputs": [],
   "source": [
    "def normalize_genre(genre):\n",
    "    return (        \n",
    "        'genre_' + \\\n",
    "        re.sub(r'\\s+', '_', \n",
    "               re.sub(r'\\&', 'and', genre.strip().lower()))\n",
    "    )\n",
    "    \n",
    "all_genres = set(map(normalize_genre, genres))\n",
    "all_genres_list = list(sorted(all_genres))\n",
    "\n",
    "def format_genres(genre_list):\n",
    "    genres = set((map(normalize_genre, genre_list)))\n",
    "    return [1 if genre in genres else 0 \n",
    "            for genre in all_genres]        "
   ]
  },
  {
   "cell_type": "code",
   "execution_count": 6,
   "metadata": {},
   "outputs": [],
   "source": [
    "def counts_to_cumsums(counts):\n",
    "    cumsum = 0\n",
    "    cumsums = []\n",
    "    for date, count in sorted(counts.items()):\n",
    "        cumsum += count\n",
    "        cumsums.append((date, cumsum))\n",
    "    return cumsums\n",
    "\n",
    "def make_cumsums(x_counts):\n",
    "    x_cumsums = {}\n",
    "    for name, counts in x_counts.items():\n",
    "        x_cumsums[name] = counts_to_cumsums(counts)\n",
    "    return x_cumsums\n",
    "\n",
    "actor_cumsums = make_cumsums(actor_counts)\n",
    "director_cumsums = make_cumsums(director_counts)\n",
    "writer_cumsums = make_cumsums(writer_counts)\n",
    "\n",
    "def get_cumsum(cumsums, date):\n",
    "    if not cumsums or date < cumsums[0][0]:\n",
    "        return 0\n",
    "    dates = [c[0] for c in cumsums]\n",
    "    i = bisect_right(dates, date)\n",
    "    return cumsums[i-1][1]"
   ]
  },
  {
   "cell_type": "code",
   "execution_count": 7,
   "metadata": {
    "collapsed": true
   },
   "outputs": [],
   "source": [
    "csv_header = [\n",
    "    'release_date', 'title', \n",
    "] + all_genres_list + [\n",
    "    'mpaa_rating', 'runtime',\n",
    "    'cast_size',\n",
    "    'cast_num_movies_tod',\n",
    "    'dir_num_movies_tod',\n",
    "    'writer_num_movies_tod',\n",
    "    'cast_aa_win_tod',\n",
    "    'cast_aa_nom_tod',\n",
    "    'dir_aa_win_tod',\n",
    "    'dir_aa_nom_tod',\n",
    "    'writer_aa_win_tod',\n",
    "    'writer_aa_nom_tod',\n",
    "    'rt_rating'\n",
    "]"
   ]
  },
  {
   "cell_type": "code",
   "execution_count": 8,
   "metadata": {},
   "outputs": [],
   "source": [
    "def _make_num_movies_tod(movie, selector, top_n=5):\n",
    "    cumsums = actor_cumsums if selector == 'actors' \\\n",
    "        else director_cumsums if selector == 'directors' \\\n",
    "        else writer_cumsums\n",
    "        \n",
    "    release_date = movie['release_date']\n",
    "    num_movies = [\n",
    "        get_cumsum(cumsums[name], release_date) for name in movie[selector]\n",
    "    ]\n",
    "    top_n_num_movies = list(sorted(num_movies, reverse=True))[:top_n]\n",
    "    return sum(top_n_num_movies)    \n",
    "    \n",
    "def make_cast_num_movies_tod(movie, top_n=5):\n",
    "    return _make_num_movies_tod(movie, 'actors', top_n)\n",
    "\n",
    "def make_dir_num_movies_tod(movie, top_n=5):\n",
    "    return _make_num_movies_tod(movie, 'directors', top_n)\n",
    "\n",
    "def make_writer_num_movies_tod(movie, top_n=5):\n",
    "    return _make_num_movies_tod(movie, 'writers', top_n)"
   ]
  },
  {
   "cell_type": "code",
   "execution_count": 9,
   "metadata": {},
   "outputs": [
    {
     "data": {
      "text/plain": [
       "[0, 0, 0, 0, 0, 0]"
      ]
     },
     "execution_count": 9,
     "metadata": {},
     "output_type": "execute_result"
    }
   ],
   "source": [
    "from data.aa_scraped import \\\n",
    "    aa_actors_win_counts, aa_actors_nom_counts, \\\n",
    "    aa_directors_win_counts, aa_directors_nom_counts, \\\n",
    "    aa_writers_win_counts, aa_writers_nom_counts\n",
    "\n",
    "aa_actor_win_cumsums = make_cumsums(aa_actors_win_counts)\n",
    "aa_actor_nom_cumsums = make_cumsums(aa_actors_nom_counts)\n",
    "aa_director_win_cumsums = make_cumsums(aa_directors_win_counts)\n",
    "aa_director_nom_cumsums = make_cumsums(aa_directors_nom_counts)\n",
    "aa_writer_win_cumsums = make_cumsums(aa_writers_win_counts)\n",
    "aa_writer_nom_cumsums = make_cumsums(aa_writers_nom_counts)\n",
    "\n",
    "def _make_aa_tod(movie, selector):\n",
    "    win_cumsums, nom_cumsums = (aa_actor_win_cumsums, aa_actor_nom_cumsums) if selector == 'actors' \\\n",
    "        else (aa_director_win_cumsums, aa_director_nom_cumsums) if selector == 'directors' \\\n",
    "        else (aa_writer_win_cumsums, aa_writer_nom_cumsums)\n",
    "        \n",
    "    release_date = movie['release_date']\n",
    "    n_win = sum(\n",
    "        [get_cumsum(win_cumsums.get(name, []), release_date) for name in movie[selector]]\n",
    "    )\n",
    "    n_nom = sum(\n",
    "        [get_cumsum(nom_cumsums.get(name, []), release_date) for name in movie[selector]]\n",
    "    )\n",
    "    return n_win, n_nom\n",
    "\n",
    "def make_cast_aa_tod(movie):\n",
    "    return _make_aa_tod(movie, 'actors')\n",
    "\n",
    "def make_dir_aa_tod(movie):\n",
    "    return _make_aa_tod(movie, 'directors')\n",
    "\n",
    "def make_writer_aa_tod(movie):\n",
    "    return _make_aa_tod(movie, 'writers')\n",
    "\n",
    "list(make_cast_aa_tod(movie) + make_dir_aa_tod(movie) + make_writer_aa_tod(movie))"
   ]
  },
  {
   "cell_type": "code",
   "execution_count": 10,
   "metadata": {},
   "outputs": [],
   "source": [
    "rt_movies_sorted = sorted(\n",
    "    rt_movies,\n",
    "    key=lambda m: (m['release_date'], m['title'])\n",
    ")"
   ]
  },
  {
   "cell_type": "code",
   "execution_count": 11,
   "metadata": {},
   "outputs": [],
   "source": [
    "csv_file = os.path.join(data_dir, 'rt_movies.csv.gz')\n",
    "cutover_date = '1998'\n",
    "with gzip.open(csv_file, 'wt') as f:\n",
    "    csv_writer = csv.writer(f)\n",
    "    csv_writer.writerow(csv_header)\n",
    "    for movie in rt_movies_sorted:\n",
    "        if movie['release_date'] < cutover_date:\n",
    "            continue\n",
    "        row = \\\n",
    "            [\n",
    "                    movie['release_date'], \n",
    "                    movie['title']\n",
    "            ] + \\\n",
    "            format_genres(movie['genre']) + \\\n",
    "            [\n",
    "                movie['mpaa_rating'], movie['runtime'],\n",
    "                len(movie['actors']),\n",
    "                make_cast_num_movies_tod(movie),\n",
    "                make_dir_num_movies_tod(movie),\n",
    "                make_writer_num_movies_tod(movie),\n",
    "            ] + \\\n",
    "            list(make_cast_aa_tod(movie) + make_dir_aa_tod(movie) + make_writer_aa_tod(movie)) + \\\n",
    "            [movie['rating']]\n",
    "        csv_writer.writerow(row)"
   ]
  },
  {
   "cell_type": "code",
   "execution_count": null,
   "metadata": {
    "collapsed": true
   },
   "outputs": [],
   "source": []
  }
 ],
 "metadata": {
  "kernelspec": {
   "display_name": "Python 3",
   "language": "python",
   "name": "python3"
  },
  "language_info": {
   "codemirror_mode": {
    "name": "ipython",
    "version": 3
   },
   "file_extension": ".py",
   "mimetype": "text/x-python",
   "name": "python",
   "nbconvert_exporter": "python",
   "pygments_lexer": "ipython3",
   "version": "3.6.3"
  }
 },
 "nbformat": 4,
 "nbformat_minor": 2
}
