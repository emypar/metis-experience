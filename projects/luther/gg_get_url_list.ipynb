{
 "cells": [
  {
   "cell_type": "markdown",
   "metadata": {},
   "source": [
    "# Golden Globe Awards - Get URL List"
   ]
  },
  {
   "cell_type": "code",
   "execution_count": 71,
   "metadata": {
    "collapsed": true
   },
   "outputs": [],
   "source": [
    "import sys\n",
    "import os\n",
    "import requests\n",
    "import re\n",
    "from bs4 import BeautifulSoup\n",
    "from http import HTTPStatus\n",
    "from urllib.parse import \\\n",
    "    urlparse, urljoin\n",
    "import json"
   ]
  },
  {
   "cell_type": "code",
   "execution_count": 72,
   "metadata": {},
   "outputs": [],
   "source": [
    "GG_AWARDS_TOP_URL = \"https://www.goldenglobes.com\"\n",
    "GG_AWARDS_START_URL = urljoin(GG_AWARDS_TOP_URL, \"/winners-nominees/best-motion-picture-drama\")\n",
    "\n",
    "data_dir = 'data'\n",
    "if not os.path.isdir(data_dir):\n",
    "    os.makedirs(data_dir)\n",
    "\n",
    "gg_awards_urls_file = os.path.join(data_dir, 'golden_globe_awards_urls.json')    "
   ]
  },
  {
   "cell_type": "code",
   "execution_count": 73,
   "metadata": {},
   "outputs": [],
   "source": [
    "def _gg_get_all_urls():\n",
    "    \n",
    "    response = requests.get(GG_AWARDS_START_URL, timeout=60)\n",
    "    assert(response.status_code == HTTPStatus.OK)\n",
    "\n",
    "    soup = BeautifulSoup(response.text, \"lxml\")\n",
    "    pull_down = soup.find(\"ul\", attrs={\"class\": \"dropdown-menu\"})\n",
    "    assert(pull_down)\n",
    "    \n",
    "    attrs = dict(typeof=\"skos:Concept\", property=\"rdfs:label skos:prefLabel\", datatype=\"\")\n",
    "    text_re = [\n",
    "        re.compile(r'(?i)(actor|actress)'),\n",
    "        re.compile(r'(?i)director'),\n",
    "        re.compile(r'(?i)screenplay')\n",
    "    ]\n",
    "    urls = [\n",
    "        urljoin(GG_AWARDS_TOP_URL, e['href'] + '/all-years') \\\n",
    "            for e in pull_down.find_all('a', attrs=attrs, text=text_re)\n",
    "    ]\n",
    "    assert(urls)\n",
    "    return urls\n",
    "\n",
    "def gg_get_all_urls(force_refresh=False):\n",
    "    \"\"\"Get all  URLs from cache; refresh/seed it as needed.\n",
    "    \"\"\"\n",
    "    \n",
    "    if force_refresh or not os.path.isfile(gg_awards_urls_file):\n",
    "        urls = _gg_get_all_urls()\n",
    "        with open(gg_awards_urls_file, 'w') as f:\n",
    "            json.dump(urls, f, indent=2)\n",
    "    with open(gg_awards_urls_file) as f:\n",
    "        urls = json.load(f)\n",
    "    return urls "
   ]
  },
  {
   "cell_type": "code",
   "execution_count": 76,
   "metadata": {},
   "outputs": [
    {
     "data": {
      "text/plain": [
       "['https://www.goldenglobes.com/winners-nominees/best-performance-actress-motion-picture-drama/all-years',\n",
       " 'https://www.goldenglobes.com/winners-nominees/best-performance-actor-motion-picture-drama/all-years',\n",
       " 'https://www.goldenglobes.com/winners-nominees/best-performance-actress-motion-picture-musical-or-comedy/all-years',\n",
       " 'https://www.goldenglobes.com/winners-nominees/best-performance-actor-motion-picture-musical-or-comedy/all-years',\n",
       " 'https://www.goldenglobes.com/winners-nominees/best-performance-actress-supporting-role-any-motion-picture/all-years',\n",
       " 'https://www.goldenglobes.com/winners-nominees/best-performance-actor-supporting-role-any-motion-picture/all-years',\n",
       " 'https://www.goldenglobes.com/winners-nominees/best-director-motion-picture/all-years',\n",
       " 'https://www.goldenglobes.com/winners-nominees/best-screenplay-motion-picture/all-years',\n",
       " 'https://www.goldenglobes.com/winners-nominees/best-performance-actress-limited-series-or-motion-picture-made-television/all-years',\n",
       " 'https://www.goldenglobes.com/winners-nominees/best-performance-actor-limited-series-or-motion-picture-made-television/all-years',\n",
       " 'https://www.goldenglobes.com/winners-nominees/best-performance-actress-television-series-drama/all-years',\n",
       " 'https://www.goldenglobes.com/winners-nominees/best-performance-actor-television-series-drama/all-years',\n",
       " 'https://www.goldenglobes.com/winners-nominees/best-performance-actress-television-series-musical-or-comedy/all-years',\n",
       " 'https://www.goldenglobes.com/winners-nominees/best-performance-actor-television-series-musical-or-comedy/all-years',\n",
       " 'https://www.goldenglobes.com/winners-nominees/best-performance-actress-supporting-role-series-limited-series-or-motion-picture/all-years',\n",
       " 'https://www.goldenglobes.com/winners-nominees/best-performance-actor-supporting-role-series-limited-series-or-motion-picture-made/all-years',\n",
       " 'https://www.goldenglobes.com/winners-nominees/new-star-year-actress/all-years',\n",
       " 'https://www.goldenglobes.com/winners-nominees/new-foreign-star-year-actress/all-years',\n",
       " 'https://www.goldenglobes.com/winners-nominees/new-foreign-star-year-actor/all-years',\n",
       " 'https://www.goldenglobes.com/winners-nominees/new-star-year-actor/all-years',\n",
       " 'https://www.goldenglobes.com/winners-nominees/television-producerdirector/all-years',\n",
       " 'https://www.goldenglobes.com/winners-nominees/actress-supporting-role-series-or-television-movie/all-years',\n",
       " 'https://www.goldenglobes.com/winners-nominees/actor-television-series-musical-or-comedy/all-years',\n",
       " 'https://www.goldenglobes.com/winners-nominees/actor-television-series-drama/all-years',\n",
       " 'https://www.goldenglobes.com/winners-nominees/actress-leading-role/all-years',\n",
       " 'https://www.goldenglobes.com/winners-nominees/actress-leading-role-drama-series-or-television-movie/all-years',\n",
       " 'https://www.goldenglobes.com/winners-nominees/actress-leading-role-musical-or-comedy/all-years',\n",
       " 'https://www.goldenglobes.com/winners-nominees/actor-television-series/all-years',\n",
       " 'https://www.goldenglobes.com/winners-nominees/actor-supporting-role-television-series/all-years',\n",
       " 'https://www.goldenglobes.com/winners-nominees/actor-leading-role-drama-series-or-television-movie/all-years',\n",
       " 'https://www.goldenglobes.com/winners-nominees/actor-leading-role/all-years',\n",
       " 'https://www.goldenglobes.com/winners-nominees/actor-leading-role-musical-or-comedy-series-or-television-movie/all-years',\n",
       " 'https://www.goldenglobes.com/winners-nominees/actor-supporting-role-series-or-television-movie/all-years',\n",
       " 'https://www.goldenglobes.com/winners-nominees/actress-leading-role-musical-or-comedy-series-or-television-movie/all-years',\n",
       " 'https://www.goldenglobes.com/winners-nominees/actress-supporting-role-television-series/all-years',\n",
       " 'https://www.goldenglobes.com/winners-nominees/actress-television-series-drama/all-years',\n",
       " 'https://www.goldenglobes.com/winners-nominees/actress-television-series/all-years',\n",
       " 'https://www.goldenglobes.com/winners-nominees/actress-television-series-musical-or-comedy/all-years']"
      ]
     },
     "execution_count": 76,
     "metadata": {},
     "output_type": "execute_result"
    }
   ],
   "source": [
    "gg_get_all_urls()"
   ]
  },
  {
   "cell_type": "code",
   "execution_count": null,
   "metadata": {
    "collapsed": true
   },
   "outputs": [],
   "source": []
  }
 ],
 "metadata": {
  "kernelspec": {
   "display_name": "Python 3",
   "language": "python",
   "name": "python3"
  },
  "language_info": {
   "codemirror_mode": {
    "name": "ipython",
    "version": 3
   },
   "file_extension": ".py",
   "mimetype": "text/x-python",
   "name": "python",
   "nbconvert_exporter": "python",
   "pygments_lexer": "ipython3",
   "version": "3.6.3"
  }
 },
 "nbformat": 4,
 "nbformat_minor": 2
}
