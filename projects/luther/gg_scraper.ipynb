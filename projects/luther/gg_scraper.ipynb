{
 "cells": [
  {
   "cell_type": "markdown",
   "metadata": {},
   "source": [
    "# Golden Globes Scraper"
   ]
  },
  {
   "cell_type": "code",
   "execution_count": 1,
   "metadata": {
    "collapsed": true
   },
   "outputs": [],
   "source": [
    "import sys\n",
    "import os\n",
    "import json\n",
    "import re\n",
    "import pprint\n",
    "import multiprocessing as mp\n",
    "import time\n",
    "import csv"
   ]
  },
  {
   "cell_type": "code",
   "execution_count": 2,
   "metadata": {
    "collapsed": true
   },
   "outputs": [],
   "source": [
    "from bs4 import BeautifulSoup\n",
    "from web_fetcher import get_cache"
   ]
  },
  {
   "cell_type": "code",
   "execution_count": 3,
   "metadata": {},
   "outputs": [],
   "source": [
    "data_dir = 'data'\n",
    "gg_urls_file = os.path.join(data_dir, 'golden_globe_awards_urls.json')\n",
    "with open(gg_urls_file) as f:\n",
    "    gg_urls = json.load(f)"
   ]
  },
  {
   "cell_type": "code",
   "execution_count": 4,
   "metadata": {},
   "outputs": [],
   "source": [
    "def normalize_title(title):\n",
    "    title = title.strip()\n",
    "    if title.endswith(', The'):\n",
    "        title = 'The ' + title[:-5]\n",
    "    return title\n",
    "\n",
    "def normalize_name(name):\n",
    "    return name.strip()\n",
    "\n",
    "def normalize_win_nom(win_nom):\n",
    "    return win_nom.strip().upper()[0]\n",
    "\n",
    "def extract_year(text):\n",
    "    return re.sub('[^\\d]', '', text)\n",
    "\n",
    "def get_one_year_win_nom(win_nom_year_node):\n",
    "    group_node = win_nom_year_node.parent.parent\n",
    "    \n",
    "    win_nom_list = []\n",
    "    for win_nom_node in group_node.find_all('div', class_=\"views-field views-field-field-nomination-is-winner\"):\n",
    "        win_nom = normalize_win_nom(win_nom_node.find('div', class_=\"field-content\").text)\n",
    "        name, title = None, None\n",
    "        name_title_node = win_nom_node.find_next_sibling('div', class_=\"views-field views-field-nominee-title\")\n",
    "        for node in name_title_node.find_all('a'):\n",
    "            if not name:\n",
    "                name = normalize_name(node.text)\n",
    "            elif not title:\n",
    "                title = normalize_title(node.text)\n",
    "        win_nom_list.append((name, title, win_nom))\n",
    "    return win_nom_list\n",
    "\n",
    "def normalize_category(category):\n",
    "    \n",
    "    return re.sub(r'(?i)Winners\\s*\\&\\s*Nominees\\s*', '', category).strip()\n",
    "\n",
    "def get_category(node):\n",
    "\n",
    "    return normalize_category(\n",
    "        node\n",
    "        .find('div', class_=\"region region-content\")\n",
    "        .find('div', class_=\"panel-pane pane-views-panes pane-winners-nominees-category\")\n",
    "        .find('h1', class_=\"pane-title\")\n",
    "        .text\n",
    "        .strip()\n",
    "    )\n",
    "\n",
    "def get_all_win_nom(node):\n",
    "    \n",
    "    category = get_category(node)\n",
    "    year_win_nom_list = []\n",
    "    for win_nom_year_node in node.find_all('a', href=re.compile('/winners-nominees/\\d{4}')):\n",
    "        year = int(extract_year(win_nom_year_node.text))\n",
    "        for win_nom in get_one_year_win_nom(win_nom_year_node):\n",
    "            year_win_nom_list.append((year, category) + win_nom)\n",
    "    return year_win_nom_list\n",
    "\n",
    "def rt_scrape(url):\n",
    "    \n",
    "    page = get_cache(url)\n",
    "    if not page:\n",
    "        return\n",
    "    soup = BeautifulSoup(page, \"lxml\")\n",
    "    return get_all_win_nom(soup)\n"
   ]
  },
  {
   "cell_type": "code",
   "execution_count": 15,
   "metadata": {},
   "outputs": [],
   "source": [
    "gg_awards = []\n",
    "for url in gg_urls:\n",
    "   gg_awards.extend(rt_scrape(url))"
   ]
  },
  {
   "cell_type": "code",
   "execution_count": 20,
   "metadata": {},
   "outputs": [],
   "source": [
    "gg_awards.sort(\n",
    "    key=lambda k: (-k[0], k[1], k[-1] == 'N' ) + k[2:-1]\n",
    ")"
   ]
  },
  {
   "cell_type": "code",
   "execution_count": 21,
   "metadata": {},
   "outputs": [],
   "source": [
    "csvfile = os.path.join(data_dir, 'golden_globe_awards.csv')\n",
    "with open(csvfile, 'w') as f:\n",
    "    csv_w = csv.writer(f)\n",
    "    csv_w.writerow(['Year', 'Category', 'Nominee', 'Additional Info', 'Won?'])\n",
    "    csv_w.writerows(gg_awards)"
   ]
  },
  {
   "cell_type": "code",
   "execution_count": null,
   "metadata": {
    "collapsed": true
   },
   "outputs": [],
   "source": []
  }
 ],
 "metadata": {
  "kernelspec": {
   "display_name": "Python 3",
   "language": "python",
   "name": "python3"
  },
  "language_info": {
   "codemirror_mode": {
    "name": "ipython",
    "version": 3
   },
   "file_extension": ".py",
   "mimetype": "text/x-python",
   "name": "python",
   "nbconvert_exporter": "python",
   "pygments_lexer": "ipython3",
   "version": "3.6.3"
  }
 },
 "nbformat": 4,
 "nbformat_minor": 2
}
