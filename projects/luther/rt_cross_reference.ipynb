{
 "cells": [
  {
   "cell_type": "markdown",
   "metadata": {},
   "source": [
    "# Cross Reference Name between Rotten Tomatoes and Awards Files"
   ]
  },
  {
   "cell_type": "code",
   "execution_count": 2,
   "metadata": {
    "collapsed": true
   },
   "outputs": [],
   "source": [
    "import sys\n",
    "import os\n",
    "import json\n",
    "import re\n",
    "import pprint\n",
    "import time\n",
    "import re\n",
    "import csv\n",
    "import gzip"
   ]
  },
  {
   "cell_type": "code",
   "execution_count": 3,
   "metadata": {
    "collapsed": true
   },
   "outputs": [],
   "source": [
    "from data.rt_scraped import rt_movies"
   ]
  },
  {
   "cell_type": "code",
   "execution_count": 4,
   "metadata": {
    "collapsed": true
   },
   "outputs": [],
   "source": [
    "data_dir = 'data'"
   ]
  },
  {
   "cell_type": "code",
   "execution_count": 6,
   "metadata": {},
   "outputs": [],
   "source": [
    "rt_actors = set()\n",
    "rt_directors = set()\n",
    "rt_writers = set()\n",
    "for movie in rt_movies:\n",
    "    rt_actors.update(movie['actors'])\n",
    "    rt_directors.update(movie['directors'])\n",
    "    rt_writers.update(movie['writers'])"
   ]
  },
  {
   "cell_type": "code",
   "execution_count": 96,
   "metadata": {},
   "outputs": [],
   "source": [
    "aa_actors = set()\n",
    "aa_directors = set()\n",
    "aa_writers = set()\n",
    "\n",
    "aa_file = os.path.join(data_dir, 'academy_awards.csv')\n",
    "\n",
    "aa_to_rt_name_mapping = {\n",
    "    'Francis Coppola': 'Francis Ford Coppola',\n",
    "    'Francois Truffaut': 'François Truffaut',\n",
    "    'Lasse Hallström': 'Lasse Hallstrom',\n",
    "    'Daniel Day Lewis': 'Daniel Day-Lewis',\n",
    "    'Louis Gossett Jr.': 'Louis Gossett Jr',\n",
    "    'Dame Edith Evans': 'Edith Evans',''\n",
    "    'Anouk Aimee': 'Anouk Aimée',\n",
    "    'Genevieve Bujold': 'Geneviève Bujold',\n",
    "    'Gerard Depardieu': 'Gérard Depardieu',\n",
    "    'Max Von Sydow': 'Max von Sydow',\n",
    "    'Penélope Cruz': 'Penelope Cruz',\n",
    "    'Ed Begley': 'Ed Begley Jr.',\n",
    "    'Michael Dunn': 'Michael Dunn (I)',\n",
    "}\n",
    "\n",
    "def aa_name_map(name):\n",
    "    return aa_to_rt_name_mapping.get(name, name)\n",
    "\n",
    "def normalize_aa_actor(actor):\n",
    "    aa_actor = re.sub(r'\\s*,\\s*', ' ', actor)\n",
    "    return aa_name_map(aa_actor)\n",
    "\n",
    "def normalize_aa_directors(directors):\n",
    "    aa_directors = []\n",
    "    for director in re.split(r'\\s*,\\s*', directors.strip()):\n",
    "        if director.lower() in ['jr.', 'iii']:\n",
    "            continue\n",
    "        for director in re.split('(?i)\\s+(?:and|\\&)\\s+', director):\n",
    "            aa_directors.append(aa_name_map(director))\n",
    "    return aa_directors\n",
    "\n",
    "def normalize_aa_writers(writers):\n",
    "    aa_writers = []\n",
    "    writers = re.sub(r'\\s*;.*', '', writers)\n",
    "    writers = re.sub(r'^.*\\s+by\\s+', '', writers)\n",
    "    for writer in re.split(r'\\s*,\\s*', writers.strip()):\n",
    "        if writer.lower() in ['jr.', 'iii']:\n",
    "            continue\n",
    "        for writer in re.split('(?i)\\s+(?:and|\\&)\\s+', writer):\n",
    "            aa_writers.append(aa_name_map(writer))\n",
    "    return aa_writers\n",
    "\n",
    "aa_actors_win_counts = {}\n",
    "aa_actors_nom_counts = {}\n",
    "aa_directors_win_counts = {}\n",
    "aa_directors_nom_counts = {}\n",
    "aa_writers_win_counts = {}\n",
    "aa_writers_nom_counts = {}\n",
    "\n",
    "def aa_update_counts(category, names, date, won):\n",
    "    if type(names) not in [list]:\n",
    "        names = [names]\n",
    "\n",
    "    if category == 'actors':\n",
    "        win_counts, nom_counts = aa_actors_win_counts, aa_actors_nom_counts\n",
    "    elif category == 'directors':\n",
    "        win_counts, nom_counts = aa_directors_win_counts, aa_directors_nom_counts\n",
    "    else:\n",
    "        win_counts, nom_counts = aa_writers_win_counts, aa_writers_nom_counts\n",
    "        \n",
    "    for collector in [win_counts, nom_counts] if won else [nom_counts]:\n",
    "        for name in names:\n",
    "            if name not in collector:\n",
    "                collector[name] = {}\n",
    "            if year not in collector[name]:\n",
    "                collector[name][year] = 0\n",
    "            collector[name][year] += 1\n",
    "\n",
    "with open(aa_file, encoding=\"ISO-8859-1\") as f:\n",
    "    csv_reader = csv.reader(f)\n",
    "    next(csv_reader)\n",
    "    for row in csv_reader:\n",
    "        year = re.sub(r'\\s*\\D.*', '', row[0])\n",
    "        if year < '1960':\n",
    "            continue\n",
    "        category = row[1].lower().split()[0]\n",
    "        won = row[4].lower().startswith('y')     \n",
    "        if category.startswith('actor') or category.startswith('actress'):\n",
    "            aa_update_counts('actors', normalize_aa_actor(row[2]), year, won)\n",
    "        elif category.startswith('directing'):\n",
    "            aa_update_counts('directors', normalize_aa_directors(row[3]), year, won)\n",
    "        elif category.startswith('writing'):\n",
    "            aa_update_counts('writers', normalize_aa_writers(row[3]), year, won)                "
   ]
  },
  {
   "cell_type": "code",
   "execution_count": 103,
   "metadata": {},
   "outputs": [],
   "source": [
    "aa_file = os.path.join(data_dir, 'aa_scraped.py')\n",
    "with open(aa_file, 'w') as f:\n",
    "    f.write(\"# Academy Awards Scraped File\\n\\n\")\n",
    "    f.write(\"aa_actors_win_counts = \")\n",
    "    pprint.pprint(aa_actors_win_counts, stream=f)\n",
    "    f.write(\"\\n\")\n",
    "    f.write(\"aa_actors_nom_counts = \")\n",
    "    pprint.pprint(aa_actors_nom_counts, stream=f)\n",
    "    f.write(\"\\n\")\n",
    "    f.write(\"aa_directors_win_counts = \")\n",
    "    pprint.pprint(aa_directors_win_counts, stream=f)\n",
    "    f.write(\"\\n\")\n",
    "    f.write(\"aa_directors_nom_counts = \")\n",
    "    pprint.pprint(aa_directors_nom_counts, stream=f)\n",
    "    f.write(\"\\n\")    \n",
    "    f.write(\"aa_writers_win_counts = \")\n",
    "    pprint.pprint(aa_writers_win_counts, stream=f)\n",
    "    f.write(\"\\n\")\n",
    "    f.write(\"aa_writers_nom_counts = \")\n",
    "    pprint.pprint(aa_writers_nom_counts, stream=f)\n",
    "    f.write(\"\\n\")\n",
    "\n",
    "    "
   ]
  },
  {
   "cell_type": "code",
   "execution_count": null,
   "metadata": {
    "collapsed": true
   },
   "outputs": [],
   "source": []
  },
  {
   "cell_type": "code",
   "execution_count": null,
   "metadata": {
    "collapsed": true
   },
   "outputs": [],
   "source": []
  }
 ],
 "metadata": {
  "kernelspec": {
   "display_name": "Python 3",
   "language": "python",
   "name": "python3"
  },
  "language_info": {
   "codemirror_mode": {
    "name": "ipython",
    "version": 3
   },
   "file_extension": ".py",
   "mimetype": "text/x-python",
   "name": "python",
   "nbconvert_exporter": "python",
   "pygments_lexer": "ipython3",
   "version": "3.6.3"
  }
 },
 "nbformat": 4,
 "nbformat_minor": 2
}
