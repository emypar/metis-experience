{
 "cells": [
  {
   "cell_type": "code",
   "execution_count": 41,
   "metadata": {
    "collapsed": true
   },
   "outputs": [],
   "source": [
    "\"\"\"This is a quick analysis on NYC voter registration numbers by Counties with data from the 2016 Census\n",
    "estimates and the Board of Elections\n",
    "\n",
    "Voter Registration Dataset – http://www.elections.ny.gov/enrollmentcounty.html\n",
    "\n",
    "opulation Data from 2016 Census Bureau Estimates (Posted by the Department of Labor) - \n",
    "https://data.ny.gov/Government-Finance/Annual-Population-Estimates-for-New-York-State-and/krt9-ym2k/data\"\"\"\n",
    "\n",
    "import pandas as pd\n",
    "import matplotlib.pyplot as plt\n",
    "import numpy as np\n",
    "import csv\n",
    "\n",
    "%matplotlib inline\n",
    "\n",
    "plt.style.use('ggplot')\n",
    "pd.set_option('precision', 2)"
   ]
  },
  {
   "cell_type": "code",
   "execution_count": 3,
   "metadata": {
    "collapsed": true
   },
   "outputs": [],
   "source": [
    "# November 2017 voter enrollment data\n",
    "# Data goes back to 2008\n",
    "\n",
    "files = ['enrollment11012017.txt'] \n",
    "\n",
    "\"\"\"\n",
    "REGION  Region1 COUNTY STATUS DEM    REP    IND   CON   WOR GRE LBT RTH SWP BLANK  TOTAL\n",
    "Outside NYC     Albany Active 85,226 40,864 7,084 2,687 482 560 21  0   0   37,097 174,021\n",
    "\"\"\"\n",
    "columns = ['REGION1', 'REGION2', 'COUNTY', 'STATUS', 'DEM', 'REP', 'IND', 'CON', 'WOR', 'GRE', 'LBT', 'RTH', 'SWP', 'BLANK', 'TOTAL']\n",
    "\n",
    "df = pd.concat([pd.read_csv(\"data/enrollment/\" + file, names=columns, delimiter = \" \") for file in files])"
   ]
  },
  {
   "cell_type": "code",
   "execution_count": 4,
   "metadata": {
    "collapsed": true
   },
   "outputs": [],
   "source": [
    "df = df[(df.REGION1) == \"Within\"]"
   ]
  },
  {
   "cell_type": "code",
   "execution_count": 5,
   "metadata": {
    "collapsed": true
   },
   "outputs": [],
   "source": [
    "df.drop(['REGION1', 'REGION2', 'DEM', 'REP', 'IND', 'CON', 'WOR', 'GRE', 'LBT', 'RTH', 'SWP', 'BLANK'], axis=1, inplace=True)"
   ]
  },
  {
   "cell_type": "code",
   "execution_count": 6,
   "metadata": {},
   "outputs": [
    {
     "data": {
      "text/html": [
       "<div>\n",
       "<style scoped>\n",
       "    .dataframe tbody tr th:only-of-type {\n",
       "        vertical-align: middle;\n",
       "    }\n",
       "\n",
       "    .dataframe tbody tr th {\n",
       "        vertical-align: top;\n",
       "    }\n",
       "\n",
       "    .dataframe thead th {\n",
       "        text-align: right;\n",
       "    }\n",
       "</style>\n",
       "<table border=\"1\" class=\"dataframe\">\n",
       "  <thead>\n",
       "    <tr style=\"text-align: right;\">\n",
       "      <th></th>\n",
       "      <th>COUNTY</th>\n",
       "      <th>STATUS</th>\n",
       "      <th>TOTAL</th>\n",
       "    </tr>\n",
       "  </thead>\n",
       "  <tbody>\n",
       "    <tr>\n",
       "      <th>0</th>\n",
       "      <td>Bronx</td>\n",
       "      <td>Active</td>\n",
       "      <td>718,302</td>\n",
       "    </tr>\n",
       "    <tr>\n",
       "      <th>1</th>\n",
       "      <td>Bronx</td>\n",
       "      <td>Inactive</td>\n",
       "      <td>87,080</td>\n",
       "    </tr>\n",
       "    <tr>\n",
       "      <th>2</th>\n",
       "      <td>Bronx</td>\n",
       "      <td>Total</td>\n",
       "      <td>805,382</td>\n",
       "    </tr>\n",
       "    <tr>\n",
       "      <th>3</th>\n",
       "      <td>Kings</td>\n",
       "      <td>Active</td>\n",
       "      <td>1,434,091</td>\n",
       "    </tr>\n",
       "    <tr>\n",
       "      <th>4</th>\n",
       "      <td>Kings</td>\n",
       "      <td>Inactive</td>\n",
       "      <td>126,748</td>\n",
       "    </tr>\n",
       "    <tr>\n",
       "      <th>5</th>\n",
       "      <td>Kings</td>\n",
       "      <td>Total</td>\n",
       "      <td>1,560,839</td>\n",
       "    </tr>\n",
       "    <tr>\n",
       "      <th>6</th>\n",
       "      <td>NewYork</td>\n",
       "      <td>Active</td>\n",
       "      <td>1,001,014</td>\n",
       "    </tr>\n",
       "    <tr>\n",
       "      <th>7</th>\n",
       "      <td>NewYork</td>\n",
       "      <td>Inactive</td>\n",
       "      <td>149,357</td>\n",
       "    </tr>\n",
       "    <tr>\n",
       "      <th>8</th>\n",
       "      <td>NewYork</td>\n",
       "      <td>Total</td>\n",
       "      <td>1,150,371</td>\n",
       "    </tr>\n",
       "    <tr>\n",
       "      <th>9</th>\n",
       "      <td>Queens</td>\n",
       "      <td>Active</td>\n",
       "      <td>1,154,262</td>\n",
       "    </tr>\n",
       "    <tr>\n",
       "      <th>10</th>\n",
       "      <td>Queens</td>\n",
       "      <td>Inactive</td>\n",
       "      <td>74,760</td>\n",
       "    </tr>\n",
       "    <tr>\n",
       "      <th>11</th>\n",
       "      <td>Queens</td>\n",
       "      <td>Total</td>\n",
       "      <td>1,229,022</td>\n",
       "    </tr>\n",
       "    <tr>\n",
       "      <th>12</th>\n",
       "      <td>Richmond</td>\n",
       "      <td>Active</td>\n",
       "      <td>289,144</td>\n",
       "    </tr>\n",
       "    <tr>\n",
       "      <th>13</th>\n",
       "      <td>Richmond</td>\n",
       "      <td>Inactive</td>\n",
       "      <td>19,084</td>\n",
       "    </tr>\n",
       "    <tr>\n",
       "      <th>14</th>\n",
       "      <td>Richmond</td>\n",
       "      <td>Total</td>\n",
       "      <td>308,228</td>\n",
       "    </tr>\n",
       "    <tr>\n",
       "      <th>15</th>\n",
       "      <td>Total</td>\n",
       "      <td>Active</td>\n",
       "      <td>4,596,813</td>\n",
       "    </tr>\n",
       "    <tr>\n",
       "      <th>16</th>\n",
       "      <td>Total</td>\n",
       "      <td>Inactive</td>\n",
       "      <td>457,029</td>\n",
       "    </tr>\n",
       "    <tr>\n",
       "      <th>17</th>\n",
       "      <td>Total</td>\n",
       "      <td>Total</td>\n",
       "      <td>5,053,842</td>\n",
       "    </tr>\n",
       "  </tbody>\n",
       "</table>\n",
       "</div>"
      ],
      "text/plain": [
       "      COUNTY    STATUS      TOTAL\n",
       "0      Bronx    Active    718,302\n",
       "1      Bronx  Inactive     87,080\n",
       "2      Bronx     Total    805,382\n",
       "3      Kings    Active  1,434,091\n",
       "4      Kings  Inactive    126,748\n",
       "5      Kings     Total  1,560,839\n",
       "6    NewYork    Active  1,001,014\n",
       "7    NewYork  Inactive    149,357\n",
       "8    NewYork     Total  1,150,371\n",
       "9     Queens    Active  1,154,262\n",
       "10    Queens  Inactive     74,760\n",
       "11    Queens     Total  1,229,022\n",
       "12  Richmond    Active    289,144\n",
       "13  Richmond  Inactive     19,084\n",
       "14  Richmond     Total    308,228\n",
       "15     Total    Active  4,596,813\n",
       "16     Total  Inactive    457,029\n",
       "17     Total     Total  5,053,842"
      ]
     },
     "execution_count": 6,
     "metadata": {},
     "output_type": "execute_result"
    }
   ],
   "source": [
    "df.reset_index(drop=True, inplace=True)\n",
    "df"
   ]
  },
  {
   "cell_type": "code",
   "execution_count": 7,
   "metadata": {},
   "outputs": [
    {
     "data": {
      "text/plain": [
       "COUNTY    object\n",
       "STATUS    object\n",
       "TOTAL     object\n",
       "dtype: object"
      ]
     },
     "execution_count": 7,
     "metadata": {},
     "output_type": "execute_result"
    }
   ],
   "source": [
    "df.dtypes"
   ]
  },
  {
   "cell_type": "code",
   "execution_count": 8,
   "metadata": {
    "collapsed": true
   },
   "outputs": [],
   "source": [
    "df.TOTAL = df.TOTAL.map(lambda x: x.replace(\",\", \"\"))\n",
    "df.COUNTY = df.COUNTY.map(lambda x: x.replace(\"NewYork\", \"Manhattan\"))\n",
    "df.COUNTY = df.COUNTY.map(lambda x: x.replace(\"Kings\", \"Brooklyn\"))\n",
    "df.COUNTY = df.COUNTY.map(lambda x: x.replace(\"Richmond\", \"Staten Island\"))\n",
    "df.TOTAL = df.TOTAL.astype(int)"
   ]
  },
  {
   "cell_type": "code",
   "execution_count": 9,
   "metadata": {},
   "outputs": [
    {
     "name": "stdout",
     "output_type": "stream",
     "text": [
      "           COUNTY    STATUS    TOTAL\n",
      "0           Bronx    Active   718302\n",
      "1           Bronx  Inactive    87080\n",
      "2           Bronx     Total   805382\n",
      "3        Brooklyn    Active  1434091\n",
      "4        Brooklyn  Inactive   126748\n",
      "5        Brooklyn     Total  1560839\n",
      "6       Manhattan    Active  1001014\n",
      "7       Manhattan  Inactive   149357\n",
      "8       Manhattan     Total  1150371\n",
      "9          Queens    Active  1154262\n",
      "10         Queens  Inactive    74760\n",
      "11         Queens     Total  1229022\n",
      "12  Staten Island    Active   289144\n",
      "13  Staten Island  Inactive    19084\n",
      "14  Staten Island     Total   308228\n",
      "15          Total    Active  4596813\n",
      "16          Total  Inactive   457029\n",
      "17          Total     Total  5053842 \n",
      "\n",
      " COUNTY    object\n",
      "STATUS    object\n",
      "TOTAL      int64\n",
      "dtype: object\n"
     ]
    }
   ],
   "source": [
    "print(df, \"\\n\\n\", df.dtypes)"
   ]
  },
  {
   "cell_type": "code",
   "execution_count": 10,
   "metadata": {
    "collapsed": true
   },
   "outputs": [],
   "source": [
    "df2 = df.pivot(index='COUNTY', columns='STATUS', values='TOTAL')\n"
   ]
  },
  {
   "cell_type": "code",
   "execution_count": 11,
   "metadata": {
    "scrolled": true
   },
   "outputs": [
    {
     "data": {
      "text/html": [
       "<div>\n",
       "<style scoped>\n",
       "    .dataframe tbody tr th:only-of-type {\n",
       "        vertical-align: middle;\n",
       "    }\n",
       "\n",
       "    .dataframe tbody tr th {\n",
       "        vertical-align: top;\n",
       "    }\n",
       "\n",
       "    .dataframe thead th {\n",
       "        text-align: right;\n",
       "    }\n",
       "</style>\n",
       "<table border=\"1\" class=\"dataframe\">\n",
       "  <thead>\n",
       "    <tr style=\"text-align: right;\">\n",
       "      <th>STATUS</th>\n",
       "      <th>Active</th>\n",
       "      <th>Inactive</th>\n",
       "      <th>Total</th>\n",
       "      <th>Population</th>\n",
       "      <th>Unregistered</th>\n",
       "      <th>Pct_Unregistered</th>\n",
       "    </tr>\n",
       "    <tr>\n",
       "      <th>COUNTY</th>\n",
       "      <th></th>\n",
       "      <th></th>\n",
       "      <th></th>\n",
       "      <th></th>\n",
       "      <th></th>\n",
       "      <th></th>\n",
       "    </tr>\n",
       "  </thead>\n",
       "  <tbody>\n",
       "    <tr>\n",
       "      <th>Bronx</th>\n",
       "      <td>718302</td>\n",
       "      <td>87080</td>\n",
       "      <td>805382</td>\n",
       "      <td>1455720</td>\n",
       "      <td>650338</td>\n",
       "      <td>0.45</td>\n",
       "    </tr>\n",
       "    <tr>\n",
       "      <th>Brooklyn</th>\n",
       "      <td>1434091</td>\n",
       "      <td>126748</td>\n",
       "      <td>1560839</td>\n",
       "      <td>2629150</td>\n",
       "      <td>1068311</td>\n",
       "      <td>0.41</td>\n",
       "    </tr>\n",
       "    <tr>\n",
       "      <th>Manhattan</th>\n",
       "      <td>1001014</td>\n",
       "      <td>149357</td>\n",
       "      <td>1150371</td>\n",
       "      <td>1643734</td>\n",
       "      <td>493363</td>\n",
       "      <td>0.30</td>\n",
       "    </tr>\n",
       "    <tr>\n",
       "      <th>Queens</th>\n",
       "      <td>1154262</td>\n",
       "      <td>74760</td>\n",
       "      <td>1229022</td>\n",
       "      <td>2333054</td>\n",
       "      <td>1104032</td>\n",
       "      <td>0.47</td>\n",
       "    </tr>\n",
       "    <tr>\n",
       "      <th>Staten Island</th>\n",
       "      <td>289144</td>\n",
       "      <td>19084</td>\n",
       "      <td>308228</td>\n",
       "      <td>476015</td>\n",
       "      <td>167787</td>\n",
       "      <td>0.35</td>\n",
       "    </tr>\n",
       "    <tr>\n",
       "      <th>Total</th>\n",
       "      <td>4596813</td>\n",
       "      <td>457029</td>\n",
       "      <td>5053842</td>\n",
       "      <td>8537673</td>\n",
       "      <td>3483831</td>\n",
       "      <td>0.41</td>\n",
       "    </tr>\n",
       "  </tbody>\n",
       "</table>\n",
       "</div>"
      ],
      "text/plain": [
       "STATUS          Active  Inactive    Total  Population  Unregistered  \\\n",
       "COUNTY                                                                \n",
       "Bronx           718302     87080   805382     1455720        650338   \n",
       "Brooklyn       1434091    126748  1560839     2629150       1068311   \n",
       "Manhattan      1001014    149357  1150371     1643734        493363   \n",
       "Queens         1154262     74760  1229022     2333054       1104032   \n",
       "Staten Island   289144     19084   308228      476015        167787   \n",
       "Total          4596813    457029  5053842     8537673       3483831   \n",
       "\n",
       "STATUS         Pct_Unregistered  \n",
       "COUNTY                           \n",
       "Bronx                      0.45  \n",
       "Brooklyn                   0.41  \n",
       "Manhattan                  0.30  \n",
       "Queens                     0.47  \n",
       "Staten Island              0.35  \n",
       "Total                      0.41  "
      ]
     },
     "execution_count": 11,
     "metadata": {},
     "output_type": "execute_result"
    }
   ],
   "source": [
    "\"\"\"\n",
    "Data from Ann. Population Estimates:\n",
    "pop = {'Bronx': 1455720,\n",
    "       'Brooklyn': 2629150,\n",
    "       'Manhattan': 1643734,\n",
    "       'Queens': 2333054,\n",
    "       'Staten Island': 476015,\n",
    "       'Total': 8537673}\"\"\";\n",
    "\n",
    "df2[\"Population\"] = [1455720, 2629150, 1643734, 2333054, 476015, 8537673]\n",
    "df2[\"Unregistered\"] = df2.Population - df2.Total\n",
    "df2[\"Pct_Unregistered\"] = df2.Unregistered / df2.Population\n",
    "df2"
   ]
  },
  {
   "cell_type": "code",
   "execution_count": 12,
   "metadata": {
    "collapsed": true
   },
   "outputs": [],
   "source": [
    "df3 = df2[:5];\n",
    "df4 = df3.sort_values(by=\"Unregistered\", ascending=True)"
   ]
  },
  {
   "cell_type": "code",
   "execution_count": 40,
   "metadata": {},
   "outputs": [
    {
     "data": {
      "image/png": "[encoded data removed]",
      "text/plain": [
       "<matplotlib.figure.Figure at 0x112ffaf28>"
      ]
     },
     "metadata": {},
     "output_type": "display_data"
    }
   ],
   "source": [
    "ax = df4.plot(secondary_y=\"Pct_Unregistered\", title=\"Voting Enrollment By Borough, November 2017\",\n",
    "         kind='bar', rot=0, figsize=(15, 10), fontsize=14)\n",
    "ax.set(ylabel=\"Population\")\n",
    "plt.show()"
   ]
  }
 ],
 "metadata": {
  "kernelspec": {
   "display_name": "Python 3",
   "language": "python",
   "name": "python3"
  },
  "language_info": {
   "codemirror_mode": {
    "name": "ipython",
    "version": 3
   },
   "file_extension": ".py",
   "mimetype": "text/x-python",
   "name": "python",
   "nbconvert_exporter": "python",
   "pygments_lexer": "ipython3",
   "version": "3.6.1"
  }
 },
 "nbformat": 4,
 "nbformat_minor": 2
}
