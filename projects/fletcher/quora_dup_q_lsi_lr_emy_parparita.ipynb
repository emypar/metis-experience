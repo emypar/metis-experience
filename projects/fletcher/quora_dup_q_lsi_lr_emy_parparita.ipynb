{
 "cells": [
  {
   "cell_type": "markdown",
   "metadata": {},
   "source": [
    "**Topic:** Kaggle Challenge [Quora Question Pairs](https://www.kaggle.com/c/quora-question-pairs/data)\n",
    "\n",
    "Which of the provided pairs of questions contain two questions with the same meaning? The ground truth is the set of labels that have been supplied by human experts. The ground truth labels are inherently subjective, as the true meaning of sentences can never be known with certainty. Human labeling is also a 'noisy' process, and reasonable people will disagree. As a result, the ground truth labels on this dataset should be taken to be 'informed' but not 100% accurate, and may include incorrect labeling. The labels, on the whole, represent a reasonable consensus, but this may often not be true on a case by case basis for individual items in the dataset.\n"
   ]
  },
  {
   "cell_type": "markdown",
   "metadata": {},
   "source": [
    "**Scores:**\n",
    "\n",
    " - log_loss: official competition score\n",
    " - accuracy: relevant in real life"
   ]
  },
  {
   "cell_type": "markdown",
   "metadata": {},
   "source": [
    "**General workflow:**\n",
    "\n",
    "- load train data set\n",
    "- cleanup (NaN's, non-English)\n",
    "- tokenize\n",
    "- perform semantic indexing/analysis\n",
    "- compute similarity scores per pair\n",
    "- train a classification algorithm for score -> is duplicate prediction\n",
    "- compute scores for the test set"
   ]
  },
  {
   "cell_type": "code",
   "execution_count": 1,
   "metadata": {},
   "outputs": [],
   "source": [
    "import sys\n",
    "import os\n",
    "import time\n",
    "import gzip\n",
    "import re\n",
    "\n",
    "# logging for gensim (set to INFO)\n",
    "import logging\n",
    "logging.basicConfig(format='%(asctime)s : %(levelname)s : %(message)s', level=logging.INFO)"
   ]
  },
  {
   "cell_type": "code",
   "execution_count": 2,
   "metadata": {},
   "outputs": [],
   "source": [
    "import numpy as np\n",
    "import pandas as pd"
   ]
  },
  {
   "cell_type": "code",
   "execution_count": 3,
   "metadata": {},
   "outputs": [],
   "source": [
    "try:\n",
    "    %matplotlib inline\n",
    "    import matplotlib.pyplot as plt\n",
    "    import seaborn as sns\n",
    "    sns.set()\n",
    "except (NameError) as e:\n",
    "    print(\"{}: No matplotlib graphics\".format(e))\n",
    "    plt = None"
   ]
  },
  {
   "cell_type": "code",
   "execution_count": 4,
   "metadata": {},
   "outputs": [],
   "source": [
    "# sklearn\n",
    "from sklearn.feature_extraction.text import CountVectorizer, TfidfVectorizer\n",
    "from sklearn.naive_bayes import MultinomialNB\n",
    "from sklearn.model_selection import train_test_split\n",
    "from sklearn.cluster import KMeans\n",
    "from sklearn.neighbors import KNeighborsClassifier\n",
    "from sklearn.utils import resample\n",
    "import sklearn.metrics.pairwise as smp\n",
    "from sklearn.model_selection import GridSearchCV\n",
    "from sklearn.decomposition import NMF\n",
    "\n",
    "from sklearn.linear_model import LogisticRegressionCV, LogisticRegression\n",
    "\n",
    "from sklearn.metrics import log_loss, accuracy_score"
   ]
  },
  {
   "cell_type": "code",
   "execution_count": 5,
   "metadata": {},
   "outputs": [
    {
     "name": "stderr",
     "output_type": "stream",
     "text": [
      "2018-03-08 18:51:14,583 : INFO : 'pattern' package not found; tag filters are not available for English\n"
     ]
    },
    {
     "data": {
      "text/plain": [
       "'3.4.0'"
      ]
     },
     "execution_count": 5,
     "metadata": {},
     "output_type": "execute_result"
    }
   ],
   "source": [
    "# gensim\n",
    "from gensim import corpora, models, similarities, matutils, \\\n",
    "    __version__ as gensim_version\n",
    "gensim_version"
   ]
  },
  {
   "cell_type": "code",
   "execution_count": 6,
   "metadata": {},
   "outputs": [
    {
     "data": {
      "text/plain": [
       "(381310, 3)"
      ]
     },
     "execution_count": 6,
     "metadata": {},
     "output_type": "execute_result"
    }
   ],
   "source": [
    "# Load the cleaned train set:\n",
    "clean_file = './data/quora/clean.csv.gz'\n",
    "df = pd.read_csv(clean_file, header=0)\n",
    "df.shape"
   ]
  },
  {
   "cell_type": "code",
   "execution_count": 7,
   "metadata": {},
   "outputs": [
    {
     "data": {
      "text/plain": [
       "(10000, 3)"
      ]
     },
     "execution_count": 7,
     "metadata": {},
     "output_type": "execute_result"
    }
   ],
   "source": [
    "from sklearn.utils import shuffle\n",
    "\n",
    "ratio_1 = df['is_duplicate'].mean()\n",
    "subset_size = -1 # 10000\n",
    "\n",
    "if subset_size > 0:\n",
    "    # Use a smaller sub-set to speed up the process; preserve the ratio\n",
    "    # of is_duplicate:\n",
    "    n_samples = min(subset_size, df.shape[0]-1)\n",
    "\n",
    "    n_samples_1 = int(ratio_1 * n_samples)\n",
    "    use_df = pd.concat([\n",
    "            shuffle(df[df['is_duplicate'] == 0], n_samples=(n_samples - n_samples_1)),\n",
    "            shuffle(df[df['is_duplicate'] == 1], n_samples=n_samples_1)\n",
    "        ],\n",
    "        ignore_index=True\n",
    "    )\n",
    "else:\n",
    "    use_df = df\n",
    "\n",
    "use_df.shape"
   ]
  },
  {
   "cell_type": "markdown",
   "metadata": {},
   "source": [
    "Extract the questions and the target flag:"
   ]
  },
  {
   "cell_type": "code",
   "execution_count": 8,
   "metadata": {},
   "outputs": [],
   "source": [
    "q1 = use_df['question1'].values\n",
    "q2 = use_df['question2'].values\n",
    "is_dup = use_df['is_duplicate'].values"
   ]
  },
  {
   "cell_type": "markdown",
   "metadata": {},
   "source": [
    "Minimal EDA, look for duplicate questions:"
   ]
  },
  {
   "cell_type": "code",
   "execution_count": 9,
   "metadata": {},
   "outputs": [],
   "source": [
    "q1_unique, q1_unique_counts = \\\n",
    "    np.unique(q1, return_index=False, return_inverse=False, return_counts=True)"
   ]
  },
  {
   "cell_type": "code",
   "execution_count": 10,
   "metadata": {},
   "outputs": [],
   "source": [
    "q1_num_dups, q1_dups_dist = \\\n",
    "    np.unique(q1_unique_counts, return_index=False, return_inverse=False, return_counts=True)"
   ]
  },
  {
   "cell_type": "code",
   "execution_count": 11,
   "metadata": {},
   "outputs": [
    {
     "data": {
      "image/png": "[encoded data removed]",
      "text/plain": [
       "<matplotlib.figure.Figure at 0x7f980524c400>"
      ]
     },
     "metadata": {},
     "output_type": "display_data"
    }
   ],
   "source": [
    "if plt:\n",
    "    fig, ax = plt.subplots(nrows=1, ncols=2, figsize=(10, 4))\n",
    "    #xticks = np.arange(q1_num_dups.min(), q1_num_dups.max()+1)\n",
    "\n",
    "    ax[0].bar(q1_num_dups, q1_dups_dist)\n",
    "    #ax[0].set_xticks(xticks)\n",
    "    ax[0].set_title(\"Duplicate Q1 Distribution\")\n",
    "    ax[0].set_xlabel(\"# Duplicates\")\n",
    "    ax[0].set_ylabel(\"Count\")\n",
    "\n",
    "    ax[1].bar(q1_num_dups, q1_dups_dist, log=True)\n",
    "    #ax[1].set_xticks(xticks)\n",
    "    ax[1].set_title(\"Duplicate Q1 Distribution (Log Scale)\")\n",
    "    ax[1].set_xlabel(\"# Duplicates\")\n",
    "    ax[1].set_ylabel(\"Count\")\n",
    "\n",
    "    plt.show()"
   ]
  },
  {
   "cell_type": "markdown",
   "metadata": {},
   "source": [
    "Split 80/20 train/test:"
   ]
  },
  {
   "cell_type": "code",
   "execution_count": 12,
   "metadata": {},
   "outputs": [],
   "source": [
    "q1_train, q1_test, \\\n",
    "    q2_train, q2_test, \\\n",
    "    is_dup_train, is_dup_test = \\\n",
    "        train_test_split(q1, q2, is_dup, test_size=.2, stratify=is_dup)"
   ]
  },
  {
   "cell_type": "markdown",
   "metadata": {},
   "source": [
    "Vectorize the text; use both q1 and q2 (why? TBD):"
   ]
  },
  {
   "cell_type": "code",
   "execution_count": 13,
   "metadata": {},
   "outputs": [],
   "source": [
    "import nltk\n",
    "stemmer = nltk.stem.porter.PorterStemmer().stem\n",
    "\n",
    "def tokenizer(doc, min_len=2):\n",
    "    # Normalize case:\n",
    "    doc = doc.lower()\n",
    "    # Separate on non-alpha:\n",
    "    tokens = re.split(r'[^a-z0-9]+', doc)\n",
    "    # Return all the tokens len >= min_len, stemmed:\n",
    "    words = filter(lambda t: len(t) >= min_len, tokens)\n",
    "    if stemmer:\n",
    "        words = map(stemmer, words)\n",
    "    return list(words)"
   ]
  },
  {
   "cell_type": "code",
   "execution_count": 14,
   "metadata": {},
   "outputs": [],
   "source": [
    "tfidf = TfidfVectorizer(\n",
    "    stop_words=\"english\", \n",
    "    token_pattern=r'(?i)\\b[a-z]{2,}\\b', #words with >= 2 alpha chars \n",
    "    tokenizer=tokenizer,\n",
    "    min_df=2\n",
    ")\n",
    "\n",
    "tfidf.fit(np.concatenate((q1_train, q2_train)))\n",
    "id2word = dict((v, k) for k, v in tfidf.vocabulary_.items())\n",
    "\n",
    "q1_train_tfidf = tfidf.transform(q1_train)\n",
    "q2_train_tfidf = tfidf.transform(q2_train)\n",
    "q1_test_tfidf = tfidf.transform(q1_test)\n",
    "q2_test_tfidf = tfidf.transform(q2_test)"
   ]
  },
  {
   "cell_type": "code",
   "execution_count": 15,
   "metadata": {},
   "outputs": [],
   "source": [
    "word_vectorizer = repr(tfidf) + ' + custom tokenizer + stemmer'"
   ]
  },
  {
   "cell_type": "markdown",
   "metadata": {},
   "source": [
    "Build LSI model on based on q1:"
   ]
  },
  {
   "cell_type": "code",
   "execution_count": 16,
   "metadata": {},
   "outputs": [],
   "source": [
    "q1_train_corpus = matutils.Sparse2Corpus(q1_train_tfidf.transpose())\n",
    "q2_train_corpus = matutils.Sparse2Corpus(q2_train_tfidf.transpose())\n",
    "q1_test_corpus = matutils.Sparse2Corpus(q1_test_tfidf.transpose())\n",
    "q2_test_corpus = matutils.Sparse2Corpus(q2_test_tfidf.transpose())"
   ]
  },
  {
   "cell_type": "code",
   "execution_count": 17,
   "metadata": {},
   "outputs": [
    {
     "name": "stderr",
     "output_type": "stream",
     "text": [
      "2018-03-08 18:51:22,245 : INFO : using serial LSI version on this node\n",
      "2018-03-08 18:51:22,245 : INFO : updating model with new documents\n",
      "2018-03-08 18:51:22,330 : INFO : preparing a new chunk of documents\n",
      "2018-03-08 18:51:22,356 : INFO : using 100 extra samples and 2 power iterations\n",
      "2018-03-08 18:51:22,356 : INFO : 1st phase: constructing (5880, 600) action matrix\n",
      "2018-03-08 18:51:22,618 : INFO : orthonormalizing (5880, 600) action matrix\n",
      "2018-03-08 18:51:23,162 : INFO : 2nd phase: running dense svd on (600, 8000) matrix\n",
      "2018-03-08 18:51:23,436 : INFO : computing the final decomposition\n",
      "2018-03-08 18:51:23,437 : INFO : keeping 500 factors (discarding 6.537% of energy spectrum)\n",
      "2018-03-08 18:51:23,544 : INFO : processed documents up to #8000\n",
      "2018-03-08 18:51:23,551 : INFO : topic #0(8.174): 0.655*\"best\" + 0.313*\"whi\" + 0.255*\"way\" + 0.163*\"doe\" + 0.154*\"make\" + 0.151*\"book\" + 0.151*\"learn\" + 0.146*\"money\" + 0.123*\"india\" + 0.123*\"quora\"\n",
      "2018-03-08 18:51:23,553 : INFO : topic #1(7.328): -0.580*\"whi\" + 0.509*\"best\" + -0.289*\"doe\" + -0.213*\"peopl\" + -0.191*\"quora\" + 0.175*\"way\" + -0.115*\"question\" + -0.114*\"like\" + -0.112*\"mean\" + 0.103*\"book\"\n",
      "2018-03-08 18:51:23,554 : INFO : topic #2(6.560): 0.574*\"money\" + 0.496*\"make\" + -0.286*\"whi\" + 0.273*\"onlin\" + -0.258*\"best\" + 0.252*\"earn\" + 0.160*\"doe\" + 0.144*\"way\" + -0.091*\"peopl\" + 0.078*\"mean\"\n",
      "2018-03-08 18:51:23,555 : INFO : topic #3(6.321): 0.608*\"doe\" + 0.376*\"mean\" + -0.303*\"whi\" + -0.244*\"quora\" + -0.216*\"money\" + -0.163*\"peopl\" + -0.155*\"question\" + 0.150*\"life\" + -0.149*\"make\" + 0.129*\"like\"\n",
      "2018-03-08 18:51:23,556 : INFO : topic #4(5.871): -0.530*\"quora\" + -0.325*\"doe\" + -0.325*\"question\" + -0.231*\"answer\" + 0.204*\"differ\" + 0.202*\"whi\" + 0.191*\"life\" + 0.190*\"india\" + -0.180*\"ask\" + -0.177*\"mean\"\n"
     ]
    }
   ],
   "source": [
    "num_topics = 500\n",
    "lsi = models.LsiModel(q1_train_corpus, id2word=id2word, num_topics=num_topics)"
   ]
  },
  {
   "cell_type": "code",
   "execution_count": 18,
   "metadata": {},
   "outputs": [],
   "source": [
    "nlp_model = 'LSI(num_topics={})'.format(num_topics)"
   ]
  },
  {
   "cell_type": "code",
   "execution_count": 19,
   "metadata": {},
   "outputs": [
    {
     "data": {
      "image/png": "[encoded data removed]",
      "text/plain": [
       "<matplotlib.figure.Figure at 0x7f97f7b4a198>"
      ]
     },
     "metadata": {},
     "output_type": "display_data"
    }
   ],
   "source": [
    "if plt:\n",
    "    fig = plt.figure()\n",
    "    ax = plt.gca()\n",
    "    topic_importance = lsi.projection.s\n",
    "    ax.plot(np.arange(0, len(topic_importance)), topic_importance)\n",
    "    ax.set_title('Topic Importance')\n",
    "    ax.set_xlabel('Topic#')\n",
    "    ax.set_ylabel('Importance')\n",
    "    plt.show()"
   ]
  },
  {
   "cell_type": "markdown",
   "metadata": {},
   "source": [
    "Transform q1, q2 into LSI space: "
   ]
  },
  {
   "cell_type": "code",
   "execution_count": 20,
   "metadata": {},
   "outputs": [],
   "source": [
    "q1_train_lsi = lsi[q1_train_corpus]\n",
    "q2_train_lsi = lsi[q2_train_corpus]\n",
    "\n",
    "q1_test_lsi = lsi[q1_test_corpus]\n",
    "q2_test_lsi = lsi[q2_test_corpus]"
   ]
  },
  {
   "cell_type": "markdown",
   "metadata": {},
   "source": [
    "LR In Topics Space:"
   ]
  },
  {
   "cell_type": "code",
   "execution_count": 21,
   "metadata": {},
   "outputs": [],
   "source": [
    "from scipy.sparse import hstack"
   ]
  },
  {
   "cell_type": "code",
   "execution_count": 22,
   "metadata": {},
   "outputs": [],
   "source": [
    "X_train_lsi = hstack((q1_train_lsi.corpus.sparse.T, q2_train_lsi.corpus.sparse.T))\n",
    "y_train_lsi = is_dup_train"
   ]
  },
  {
   "cell_type": "code",
   "execution_count": 23,
   "metadata": {},
   "outputs": [],
   "source": [
    "n_train_lsi = len(y_train_lsi)"
   ]
  },
  {
   "cell_type": "code",
   "execution_count": 24,
   "metadata": {},
   "outputs": [
    {
     "name": "stderr",
     "output_type": "stream",
     "text": [
      "/home/ubuntu/anaconda3/lib/python3.6/site-packages/sklearn/linear_model/sag.py:326: ConvergenceWarning: The max_iter was reached which means the coef_ did not converge\n",
      "  \"the coef_ did not converge\", ConvergenceWarning)\n"
     ]
    },
    {
     "data": {
      "text/plain": [
       "LogisticRegressionCV(Cs=10, class_weight='balanced', cv=3, dual=False,\n",
       "           fit_intercept=True, intercept_scaling=1.0, max_iter=100,\n",
       "           multi_class='ovr', n_jobs=8, penalty='l1',\n",
       "           random_state=19590209, refit=True, scoring=None, solver='saga',\n",
       "           tol=0.0001, verbose=0)"
      ]
     },
     "execution_count": 24,
     "metadata": {},
     "output_type": "execute_result"
    }
   ],
   "source": [
    "lr_lsi = LogisticRegressionCV(\n",
    "    penalty='l1',\n",
    "    dual=False,\n",
    "    Cs=10,\n",
    "    cv=3,\n",
    "    class_weight='balanced',\n",
    "    random_state=19590209,\n",
    "    solver='saga',\n",
    "    n_jobs=8,\n",
    "    #max_iter=1000\n",
    ")\n",
    "\n",
    "lr_lsi.fit(X_train_lsi, y_train_lsi)"
   ]
  },
  {
   "cell_type": "code",
   "execution_count": 25,
   "metadata": {},
   "outputs": [],
   "source": [
    "classifier = repr(lr_lsi)"
   ]
  },
  {
   "cell_type": "markdown",
   "metadata": {},
   "source": [
    "Compute the score:"
   ]
  },
  {
   "cell_type": "code",
   "execution_count": 26,
   "metadata": {},
   "outputs": [],
   "source": [
    "# Baseline score, assume random guessing with ratio_1 probability for 1:\n",
    "accuracy_baseline = accuracy_score(\n",
    "    is_dup, \n",
    "    np.random.binomial(1, ratio_1, size=len(is_dup))\n",
    ")\n",
    "logloss_baseline = log_loss(\n",
    "    is_dup,\n",
    "    np.full_like(is_dup, ratio_1, dtype=np.float64)\n",
    ")"
   ]
  },
  {
   "cell_type": "code",
   "execution_count": 27,
   "metadata": {},
   "outputs": [],
   "source": [
    "X_test_lsi = hstack((q1_test_lsi.corpus.sparse.T, q2_test_lsi.corpus.sparse.T))\n",
    "y_test_lsi = is_dup_test\n",
    "n_test_lsi = len(y_test_lsi)\n",
    "\n",
    "y_pred_lsi = lr_lsi.predict(X_test_lsi)\n",
    "accuracy_lsi = accuracy_score(y_test_lsi, y_pred_lsi)\n",
    "\n",
    "y_pred_proba_lsi = lr_lsi.predict_proba(X_test_lsi)\n",
    "logloss_lsi = log_loss(y_test_lsi, y_pred_proba_lsi)"
   ]
  },
  {
   "cell_type": "code",
   "execution_count": 28,
   "metadata": {},
   "outputs": [],
   "source": [
    "wrong_pred_index_lsi = np.argwhere(y_test_lsi != y_pred_lsi).flatten()"
   ]
  },
  {
   "cell_type": "code",
   "execution_count": 29,
   "metadata": {},
   "outputs": [],
   "source": [
    "audit_dir = 'data/audit'\n",
    "if not os.path.isdir(audit_dir):\n",
    "    os.makedirs(audit_dir)"
   ]
  },
  {
   "cell_type": "code",
   "execution_count": 30,
   "metadata": {},
   "outputs": [],
   "source": [
    "def print_results(accuracy, logloss, wrong_pred_index,\n",
    "                  wrong_guess_index=None, n_pred=0, \n",
    "                  n_guess=0, for_set='test', f=None):\n",
    "    print(\"Accuracy {} score = {:.03f}, baseline = {:.03f}, higher is better\".format(\n",
    "            for_set,\n",
    "            accuracy,\n",
    "            accuracy_baseline),\n",
    "        file=f\n",
    "    )\n",
    "    if logloss is not None:\n",
    "        print(\"Log loss {} score = {:.03f}, baseline = {:.03f}, lower is better\".format(\n",
    "            for_set,\n",
    "            logloss,\n",
    "            logloss_baseline),\n",
    "        file=f\n",
    "    )\n",
    "    if wrong_pred_index is not None:\n",
    "        print(\"Wrong {} predictions: {}/{} ({:.03f})\".format(\n",
    "                for_set,\n",
    "                len(wrong_pred_index), n_pred,\n",
    "                len(wrong_pred_index)/n_pred if n_pred else 0),\n",
    "            file=f\n",
    "        )\n",
    "    if wrong_guess_index is not None:\n",
    "        print(\"Wrong {} guesses: {}/{} ({:.03f})\".format(\n",
    "                for_set,\n",
    "                len(wrong_guess_index), n_guess,\n",
    "                len(wrong_guess_index)/n_guess if n_guess else 0),\n",
    "            file=f\n",
    "        )\n",
    "    print(file=f)\n",
    "          \n",
    "def wrong_pred(i, q1, q2, is_dup, y_pred, sim12=None, f=None):\n",
    "    print(\"Q1: {!r}\".format(q1[i]), file=f)\n",
    "    print(\"Q2: {!r}\".format(q2[i]), file=f)\n",
    "    print(\"is_dup={}, pred={}{}\".format(\n",
    "            is_dup[i], y_pred[i], \n",
    "            ', sim={:.03f}'.format(sim12[i]) if sim12 is not None else ''\n",
    "        ),\n",
    "        file=f  \n",
    "    )\n",
    "    print(file=f)\n",
    "    \n",
    "def print_mistakes(q1, q2, is_dup, y_pred, sim12=None,\n",
    "               wrong_pred_index=None, wrong_guess_index=None,\n",
    "               for_set='test', f=None):\n",
    "    if wrong_pred_index is not None:\n",
    "        print(\"Wrong {} predictions:\".format(for_set), file=f)\n",
    "        print(file=f)\n",
    "        for i in wrong_pred_index:\n",
    "            wrong_pred(i, q1, q2, is_dup, y_pred, sim12, f)\n",
    "        print(file=f)\n",
    "    if wrong_guess_index is not None:\n",
    "        print(\"Wrong {} guesses:\".format(for_set), file=f)\n",
    "        print(file=f)\n",
    "        for i in wrong_guess_index:\n",
    "            wrong_pred(i, q1, q2, is_dup, y_pred, sim12, f)\n",
    "        print(file=f)\n",
    "\n",
    "def audit_info(train_sz=None, test_sz=None, \n",
    "               word_vectorizer=None, nlp_model=None, classifier=None, f=None):\n",
    "    print(\"Time:       {}\".format(\n",
    "            time.strftime(\"%Y-%m-%d %H:%M:%S\", time.localtime(report_time))\n",
    "        ),\n",
    "        file=f\n",
    "    )\n",
    "    print(\"Train/Test: {}/{}\".format(train_sz, test_sz), file=f)\n",
    "    print(\"Vectorizer: {}\".format(word_vectorizer), file=f)\n",
    "    print(\"NLP Model:  {}\".format(nlp_model), file=f)\n",
    "    print(\"Classifier: {}\".format(classifier), file=f)\n",
    "    print(file=f)"
   ]
  },
  {
   "cell_type": "code",
   "execution_count": 31,
   "metadata": {},
   "outputs": [],
   "source": [
    "report_time = time.time()"
   ]
  },
  {
   "cell_type": "code",
   "execution_count": 32,
   "metadata": {},
   "outputs": [
    {
     "name": "stdout",
     "output_type": "stream",
     "text": [
      "Accuracy test score = 0.648, baseline = 0.538, higher is better\n",
      "Log loss test score = 0.699, baseline = 0.659, lower is better\n",
      "Wrong test predictions: 704/2000 (0.352)\n",
      "\n",
      "Audit file = data/audit/audit-lsi-lr-2018-03-08-18-53-13-2624.log.gz\n"
     ]
    }
   ],
   "source": [
    "print_results(accuracy_lsi, logloss_lsi, wrong_pred_index_lsi, n_pred=n_test_lsi)\n",
    "\n",
    "audit_file = '{}/audit-lsi-lr-{}-{}.log.gz'.format(\n",
    "    audit_dir,\n",
    "    time.strftime('%Y-%m-%d-%H-%M-%S', time.localtime(report_time)),\n",
    "    os.getpid()\n",
    ")\n",
    "with gzip.open(audit_file, 'wt') as f:\n",
    "    audit_info(n_train_lsi, n_test_lsi, word_vectorizer, nlp_model, classifier, f=f)\n",
    "    print_results(accuracy_lsi, logloss_lsi, wrong_pred_index_lsi, n_pred=n_test_lsi, f=f)\n",
    "    print_mistakes(q1_test, q2_test, y_test_lsi, y_pred_lsi,\n",
    "                   wrong_pred_index=wrong_pred_index_lsi, f=f)\n",
    "print(\"Audit file = {}\".format(audit_file))"
   ]
  },
  {
   "cell_type": "markdown",
   "metadata": {},
   "source": [
    "Iterate through the 2 lists and compute the cosine similarity:"
   ]
  },
  {
   "cell_type": "code",
   "execution_count": 33,
   "metadata": {},
   "outputs": [],
   "source": [
    "from  gensim.matutils import cossim\n",
    "\n",
    "def cos_sim(v1, v2):\n",
    "    if not v1 or not v2:\n",
    "        return np.nan\n",
    "    return cossim(v1, v2)\n",
    "\n",
    "def cos_sim_list(q1_lsi, q2_lsi):\n",
    "    return np.array(list(map(lambda s: cos_sim(*s), zip(q1_lsi, q2_lsi))))"
   ]
  },
  {
   "cell_type": "code",
   "execution_count": 34,
   "metadata": {},
   "outputs": [],
   "source": [
    "sim12_train = cos_sim_list(q1_train_lsi, q2_train_lsi)\n",
    "sim12_test = cos_sim_list(q1_test_lsi, q2_test_lsi)"
   ]
  },
  {
   "cell_type": "markdown",
   "metadata": {},
   "source": [
    "LR In Similarities Space:"
   ]
  },
  {
   "cell_type": "code",
   "execution_count": 35,
   "metadata": {},
   "outputs": [],
   "source": [
    "# Beware of NaN's:\n",
    "train_index = ~np.isnan(sim12_train)\n",
    "X_train_sim = sim12_train[train_index].reshape(-1, 1)\n",
    "y_train_sim = is_dup_train[train_index]"
   ]
  },
  {
   "cell_type": "code",
   "execution_count": 36,
   "metadata": {},
   "outputs": [
    {
     "data": {
      "text/plain": [
       "LogisticRegressionCV(Cs=10, class_weight='balanced', cv=3, dual=False,\n",
       "           fit_intercept=True, intercept_scaling=1.0, max_iter=100,\n",
       "           multi_class='ovr', n_jobs=8, penalty='l1',\n",
       "           random_state=19590209, refit=True, scoring=None, solver='saga',\n",
       "           tol=0.0001, verbose=0)"
      ]
     },
     "execution_count": 36,
     "metadata": {},
     "output_type": "execute_result"
    }
   ],
   "source": [
    "lr_lsi_sim = LogisticRegressionCV(\n",
    "    penalty='l1',\n",
    "    dual=False,\n",
    "    Cs=10,\n",
    "    cv=3,\n",
    "    class_weight='balanced',\n",
    "    random_state=19590209,\n",
    "    solver='saga',\n",
    "    n_jobs=8,\n",
    ")\n",
    "\n",
    "lr_lsi_sim.fit(X_train_sim, y_train_sim)"
   ]
  },
  {
   "cell_type": "code",
   "execution_count": 37,
   "metadata": {},
   "outputs": [],
   "source": [
    "classifier = repr(lr_lsi_sim) + ' for sim score'"
   ]
  },
  {
   "cell_type": "markdown",
   "metadata": {},
   "source": [
    "Compute the score:"
   ]
  },
  {
   "cell_type": "code",
   "execution_count": 38,
   "metadata": {},
   "outputs": [],
   "source": [
    "# If sim score cannot be computed then guess w/ a Bernoulli distribution \n",
    "# w/ ratio_1 probabilty:\n",
    "test_index_sim = ~np.isnan(sim12_test)\n",
    "\n",
    "X_test_sim = sim12_test[test_index_sim].reshape(-1, 1)\n",
    "y_test_sim = is_dup_test\n",
    "\n",
    "n_pred_sim = np.count_nonzero(test_index_sim)\n",
    "n_guess_sim = len(y_test_sim) - n_pred_sim\n",
    "\n",
    "y_pred_sim = np.zeros_like(y_test_sim)\n",
    "y_pred_sim[test_index_sim] = lr_lsi_sim.predict(X_test_sim)\n",
    "y_pred_sim[~test_index_sim] = np.random.binomial(1, ratio_1, size=n_guess_sim)\n",
    "accuracy_sim = accuracy_score(y_test_sim, y_pred_sim)\n",
    "\n",
    "y_pred_proba_sim = np.full_like(y_test_sim, ratio_1, dtype=np.float64)\n",
    "y_pred_proba_sim[test_index_sim] = lr_lsi_sim.predict_proba(X_test_sim)[:,1]\n",
    "logloss_sim = log_loss(y_test_sim, y_pred_proba_sim)"
   ]
  },
  {
   "cell_type": "code",
   "execution_count": 39,
   "metadata": {},
   "outputs": [],
   "source": [
    "wrong_all_index_sim = y_test_sim != y_pred_sim\n",
    "wrong_pred_index_sim = np.argwhere(wrong_all_index_sim & test_index_sim).flatten()\n",
    "wrong_guess_index_sim = np.argwhere(wrong_all_index_sim & ~test_index_sim).flatten()"
   ]
  },
  {
   "cell_type": "code",
   "execution_count": 40,
   "metadata": {},
   "outputs": [],
   "source": [
    "report_time = time.time()"
   ]
  },
  {
   "cell_type": "code",
   "execution_count": 41,
   "metadata": {},
   "outputs": [
    {
     "name": "stdout",
     "output_type": "stream",
     "text": [
      "Accuracy test score = 0.631, baseline = 0.538, higher is better\n",
      "Log loss test score = 0.625, baseline = 0.659, lower is better\n",
      "Wrong test predictions: 726/1975 (0.368)\n",
      "Wrong test guesses: 11/25 (0.440)\n",
      "\n",
      "Audit file = data/audit/audit-lsi-sim-lr-2018-03-08-18-53-20-2624.log.gz\n"
     ]
    }
   ],
   "source": [
    "print_results(accuracy_sim, logloss_sim, wrong_pred_index_sim,\n",
    "        wrong_guess_index_sim, n_pred_sim, n_guess_sim)\n",
    "\n",
    "audit_file = '{}/audit-lsi-sim-lr-{}-{}.log.gz'.format(\n",
    "    audit_dir,\n",
    "    time.strftime('%Y-%m-%d-%H-%M-%S', time.localtime(report_time)),\n",
    "    os.getpid()\n",
    ")\n",
    "with gzip.open(audit_file, 'wt') as f:\n",
    "    audit_info(n_train_lsi, n_test_lsi, word_vectorizer, nlp_model, classifier, f=f)\n",
    "    print_results(accuracy_sim, logloss_sim, wrong_pred_index_sim,\n",
    "        wrong_guess_index_sim, n_pred_sim, n_guess_sim, f=f)\n",
    "    print_mistakes(q1_test, q2_test, y_test_sim, y_pred_sim, sim12_test,\n",
    "               wrong_pred_index_sim, wrong_guess_index_sim, f=f)\n",
    "\n",
    "print(\"Audit file = {}\".format(audit_file))"
   ]
  },
  {
   "cell_type": "code",
   "execution_count": null,
   "metadata": {},
   "outputs": [],
   "source": []
  }
 ],
 "metadata": {
  "kernelspec": {
   "display_name": "Python 3",
   "language": "python",
   "name": "python3"
  },
  "language_info": {
   "codemirror_mode": {
    "name": "ipython",
    "version": 3
   },
   "file_extension": ".py",
   "mimetype": "text/x-python",
   "name": "python",
   "nbconvert_exporter": "python",
   "pygments_lexer": "ipython3",
   "version": "3.6.3"
  },
  "toc": {
   "nav_menu": {},
   "number_sections": true,
   "sideBar": true,
   "skip_h1_title": false,
   "title_cell": "Table of Contents",
   "title_sidebar": "Contents",
   "toc_cell": false,
   "toc_position": {},
   "toc_section_display": true,
   "toc_window_display": false
  }
 },
 "nbformat": 4,
 "nbformat_minor": 2
}
