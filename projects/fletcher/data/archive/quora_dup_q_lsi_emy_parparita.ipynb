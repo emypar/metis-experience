{
 "cells": [
  {
   "cell_type": "markdown",
   "metadata": {},
   "source": [
    "**Topic:** Kaggle Challenge [Quora Question Pairs](https://www.kaggle.com/c/quora-question-pairs/data)\n",
    "\n",
    "Which of the provided pairs of questions contain two questions with the same meaning? The ground truth is the set of labels that have been supplied by human experts. The ground truth labels are inherently subjective, as the true meaning of sentences can never be known with certainty. Human labeling is also a 'noisy' process, and reasonable people will disagree. As a result, the ground truth labels on this dataset should be taken to be 'informed' but not 100% accurate, and may include incorrect labeling. The labels, on the whole, represent a reasonable consensus, but this may often not be true on a case by case basis for individual items in the dataset.\n"
   ]
  },
  {
   "cell_type": "markdown",
   "metadata": {},
   "source": [
    "**Scores:**\n",
    "\n",
    " - log_loss: official competition score\n",
    " - accuracy: relevant in real life"
   ]
  },
  {
   "cell_type": "markdown",
   "metadata": {},
   "source": [
    "**General workflow:**\n",
    "\n",
    "- load train data set\n",
    "- cleanup (NaN's, non-English)\n",
    "- tokenize\n",
    "- perform semantic indexing/analysis\n",
    "- compute similarity scores per pair\n",
    "- train a classification algorithm for score -> is duplicate prediction\n",
    "- compute scores for the test set"
   ]
  },
  {
   "cell_type": "code",
   "execution_count": 1,
   "metadata": {},
   "outputs": [],
   "source": [
    "import sys\n",
    "import os\n",
    "import time\n",
    "import gzip\n",
    "import re\n",
    "\n",
    "# logging for gensim (set to INFO)\n",
    "import logging\n",
    "logging.basicConfig(format='%(asctime)s : %(levelname)s : %(message)s', level=logging.INFO)"
   ]
  },
  {
   "cell_type": "code",
   "execution_count": 2,
   "metadata": {},
   "outputs": [],
   "source": [
    "import numpy as np\n",
    "import pandas as pd"
   ]
  },
  {
   "cell_type": "code",
   "execution_count": 3,
   "metadata": {},
   "outputs": [],
   "source": [
    "try:\n",
    "    %matplotlib inline\n",
    "    import matplotlib.pyplot as plt\n",
    "    import seaborn as sns\n",
    "    sns.set()\n",
    "except (NameError) as e:\n",
    "    print(\"{}: No matplotlib graphics\".format(e))\n",
    "    plt = None"
   ]
  },
  {
   "cell_type": "code",
   "execution_count": 4,
   "metadata": {},
   "outputs": [],
   "source": [
    "# sklearn\n",
    "from sklearn.feature_extraction.text import CountVectorizer, TfidfVectorizer\n",
    "from sklearn.naive_bayes import MultinomialNB\n",
    "from sklearn.model_selection import train_test_split\n",
    "from sklearn.cluster import KMeans\n",
    "from sklearn.neighbors import KNeighborsClassifier\n",
    "from sklearn.utils import resample\n",
    "import sklearn.metrics.pairwise as smp\n",
    "from sklearn.model_selection import GridSearchCV\n",
    "from sklearn.decomposition import NMF"
   ]
  },
  {
   "cell_type": "code",
   "execution_count": 5,
   "metadata": {},
   "outputs": [
    {
     "name": "stderr",
     "output_type": "stream",
     "text": [
      "2018-03-07 05:24:56,840 : INFO : 'pattern' package not found; tag filters are not available for English\n"
     ]
    },
    {
     "data": {
      "text/plain": [
       "'3.4.0'"
      ]
     },
     "execution_count": 5,
     "metadata": {},
     "output_type": "execute_result"
    }
   ],
   "source": [
    "# gensim\n",
    "from gensim import corpora, models, similarities, matutils, \\\n",
    "    __version__ as gensim_version\n",
    "gensim_version"
   ]
  },
  {
   "cell_type": "code",
   "execution_count": 6,
   "metadata": {},
   "outputs": [
    {
     "data": {
      "text/plain": [
       "(381310, 3)"
      ]
     },
     "execution_count": 6,
     "metadata": {},
     "output_type": "execute_result"
    }
   ],
   "source": [
    "# Load the cleaned train set:\n",
    "clean_file = './data/quora/clean.csv.gz'\n",
    "df = pd.read_csv(clean_file, header=0)\n",
    "df.shape"
   ]
  },
  {
   "cell_type": "code",
   "execution_count": 7,
   "metadata": {},
   "outputs": [
    {
     "data": {
      "text/plain": [
       "(10000, 3)"
      ]
     },
     "execution_count": 7,
     "metadata": {},
     "output_type": "execute_result"
    }
   ],
   "source": [
    "from sklearn.utils import shuffle\n",
    "\n",
    "ratio_1 = df['is_duplicate'].mean()\n",
    "subset_size = -1 # 100000\n",
    "\n",
    "if subset_size > 0:\n",
    "    # Use a smaller sub-set to speed up the process; preserve the ratio\n",
    "    # of is_duplicate:\n",
    "    n_samples = min(subset_size, df.shape[0]-1)\n",
    "\n",
    "    n_samples_1 = int(ratio_1 * n_samples)\n",
    "    use_df = pd.concat([\n",
    "            shuffle(df[df['is_duplicate'] == 0], n_samples=(n_samples - n_samples_1)),\n",
    "            shuffle(df[df['is_duplicate'] == 1], n_samples=n_samples_1)\n",
    "        ],\n",
    "        ignore_index=True\n",
    "    )\n",
    "else:\n",
    "    use_df = df\n",
    "\n",
    "use_df.shape"
   ]
  },
  {
   "cell_type": "markdown",
   "metadata": {},
   "source": [
    "Extract the questions and the target flag:"
   ]
  },
  {
   "cell_type": "code",
   "execution_count": 8,
   "metadata": {},
   "outputs": [],
   "source": [
    "q1 = use_df['question1'].values\n",
    "q2 = use_df['question2'].values\n",
    "is_dup = use_df['is_duplicate'].values"
   ]
  },
  {
   "cell_type": "markdown",
   "metadata": {},
   "source": [
    "Minimal EDA, look for duplicate questions:"
   ]
  },
  {
   "cell_type": "code",
   "execution_count": 9,
   "metadata": {},
   "outputs": [],
   "source": [
    "q1_unique, q1_unique_counts = \\\n",
    "    np.unique(q1, return_index=False, return_inverse=False, return_counts=True)"
   ]
  },
  {
   "cell_type": "code",
   "execution_count": 10,
   "metadata": {},
   "outputs": [],
   "source": [
    "q1_num_dups, q1_dups_dist = \\\n",
    "    np.unique(q1_unique_counts, return_index=False, return_inverse=False, return_counts=True)"
   ]
  },
  {
   "cell_type": "code",
   "execution_count": 11,
   "metadata": {},
   "outputs": [
    {
     "data": {
      "image/png": "[encoded data removed]",
      "text/plain": [
       "<matplotlib.figure.Figure at 0x7f688806b400>"
      ]
     },
     "metadata": {},
     "output_type": "display_data"
    }
   ],
   "source": [
    "if plt:\n",
    "    fig, ax = plt.subplots(nrows=1, ncols=2, figsize=(10, 4))\n",
    "    #xticks = np.arange(q1_num_dups.min(), q1_num_dups.max()+1)\n",
    "\n",
    "    ax[0].bar(q1_num_dups, q1_dups_dist)\n",
    "    #ax[0].set_xticks(xticks)\n",
    "    ax[0].set_title(\"Duplicate Q1 Distribution\")\n",
    "    ax[0].set_xlabel(\"# Duplicates\")\n",
    "    ax[0].set_ylabel(\"Count\")\n",
    "\n",
    "    ax[1].bar(q1_num_dups, q1_dups_dist, log=True)\n",
    "    #ax[1].set_xticks(xticks)\n",
    "    ax[1].set_title(\"Duplicate Q1 Distribution (Log Scale)\")\n",
    "    ax[1].set_xlabel(\"# Duplicates\")\n",
    "    ax[1].set_ylabel(\"Count\")\n",
    "\n",
    "    plt.show()"
   ]
  },
  {
   "cell_type": "markdown",
   "metadata": {},
   "source": [
    "Split 80/20 train/test:"
   ]
  },
  {
   "cell_type": "code",
   "execution_count": 12,
   "metadata": {},
   "outputs": [],
   "source": [
    "q1_train, q1_test, \\\n",
    "    q2_train, q2_test, \\\n",
    "    is_dup_train, is_dup_test = \\\n",
    "        train_test_split(q1, q2, is_dup, test_size=.2, stratify=is_dup)"
   ]
  },
  {
   "cell_type": "markdown",
   "metadata": {},
   "source": [
    "Vectorize the text; use both q1 and q2 (why? TBD):"
   ]
  },
  {
   "cell_type": "code",
   "execution_count": 13,
   "metadata": {},
   "outputs": [],
   "source": [
    "import nltk\n",
    "stemmer = nltk.stem.porter.PorterStemmer().stem\n",
    "\n",
    "def tokenizer(doc, min_len=2):\n",
    "    # Normalize case:\n",
    "    doc = doc.lower()\n",
    "    # Separate on non-alpha:\n",
    "    tokens = re.split(r'[^a-z0-9]+', doc)\n",
    "    # Return all the tokens len >= min_len, stemmed:\n",
    "    words = filter(lambda t: len(t) >= min_len, tokens)\n",
    "    if stemmer:\n",
    "        words = map(stemmer, words)\n",
    "    return list(words)"
   ]
  },
  {
   "cell_type": "code",
   "execution_count": 14,
   "metadata": {},
   "outputs": [],
   "source": [
    "tfidf = TfidfVectorizer(\n",
    "    stop_words=\"english\", \n",
    "    token_pattern=r'(?i)\\b[a-z]{2,}\\b', #words with >= 2 alpha chars \n",
    "    tokenizer=tokenizer,\n",
    "    min_df=2\n",
    ")\n",
    "\n",
    "tfidf.fit(np.concatenate((q1_train, q2_train)))\n",
    "id2word = dict((v, k) for k, v in tfidf.vocabulary_.items())\n",
    "\n",
    "q1_train_tfidf = tfidf.transform(q1_train)\n",
    "q1_train_corpus = matutils.Sparse2Corpus(q1_train_tfidf.transpose())\n",
    "\n",
    "q2_train_tfidf = tfidf.transform(q2_train)\n",
    "q2_train_corpus = matutils.Sparse2Corpus(q2_train_tfidf.transpose())\n",
    "\n",
    "q1_test_tfidf = tfidf.transform(q1_test)\n",
    "q1_test_corpus = matutils.Sparse2Corpus(q1_test_tfidf.transpose())\n",
    "\n",
    "q2_test_tfidf = tfidf.transform(q2_test)\n",
    "q2_test_corpus = matutils.Sparse2Corpus(q2_test_tfidf.transpose())"
   ]
  },
  {
   "cell_type": "code",
   "execution_count": 15,
   "metadata": {},
   "outputs": [],
   "source": [
    "word_vectorizer = repr(tfidf) + ' + custom tokenizer + stemmer'"
   ]
  },
  {
   "cell_type": "markdown",
   "metadata": {},
   "source": [
    "Build LSI model on based on q1:"
   ]
  },
  {
   "cell_type": "code",
   "execution_count": 16,
   "metadata": {},
   "outputs": [
    {
     "name": "stderr",
     "output_type": "stream",
     "text": [
      "2018-03-07 05:25:04,595 : INFO : using serial LSI version on this node\n",
      "2018-03-07 05:25:04,596 : INFO : updating model with new documents\n",
      "2018-03-07 05:25:04,682 : INFO : preparing a new chunk of documents\n",
      "2018-03-07 05:25:04,707 : INFO : using 100 extra samples and 2 power iterations\n",
      "2018-03-07 05:25:04,708 : INFO : 1st phase: constructing (5908, 600) action matrix\n",
      "2018-03-07 05:25:04,967 : INFO : orthonormalizing (5908, 600) action matrix\n",
      "2018-03-07 05:25:05,423 : INFO : 2nd phase: running dense svd on (600, 8000) matrix\n",
      "2018-03-07 05:25:05,683 : INFO : computing the final decomposition\n",
      "2018-03-07 05:25:05,684 : INFO : keeping 500 factors (discarding 6.562% of energy spectrum)\n",
      "2018-03-07 05:25:05,818 : INFO : processed documents up to #8000\n",
      "2018-03-07 05:25:05,819 : INFO : topic #0(8.330): -0.719*\"best\" + -0.248*\"whi\" + -0.246*\"way\" + -0.223*\"learn\" + -0.141*\"doe\" + -0.140*\"india\" + -0.119*\"book\" + -0.111*\"quora\" + -0.103*\"make\" + -0.096*\"program\"\n",
      "2018-03-07 05:25:05,820 : INFO : topic #1(7.433): 0.543*\"whi\" + -0.437*\"best\" + 0.326*\"doe\" + 0.248*\"quora\" + 0.219*\"peopl\" + 0.167*\"question\" + 0.159*\"mean\" + 0.125*\"like\" + -0.121*\"way\" + -0.119*\"learn\"\n",
      "2018-03-07 05:25:05,821 : INFO : topic #2(6.445): -0.536*\"doe\" + 0.448*\"whi\" + -0.404*\"mean\" + -0.228*\"money\" + 0.164*\"peopl\" + -0.162*\"make\" + 0.148*\"question\" + -0.132*\"life\" + 0.131*\"quora\" + 0.100*\"best\"\n",
      "2018-03-07 05:25:05,822 : INFO : topic #3(6.250): -0.539*\"money\" + -0.413*\"make\" + 0.292*\"mean\" + 0.287*\"doe\" + -0.252*\"onlin\" + -0.191*\"way\" + -0.172*\"earn\" + -0.158*\"500\" + -0.158*\"note\" + -0.155*\"1000\"\n",
      "2018-03-07 05:25:05,822 : INFO : topic #4(5.978): -0.406*\"quora\" + 0.375*\"india\" + -0.295*\"question\" + 0.291*\"trump\" + 0.227*\"donald\" + -0.156*\"ask\" + 0.155*\"note\" + -0.150*\"learn\" + 0.149*\"500\" + 0.146*\"1000\"\n"
     ]
    }
   ],
   "source": [
    "num_topics = 500\n",
    "lsi = models.LsiModel(q1_train_corpus, id2word=id2word, num_topics=num_topics)"
   ]
  },
  {
   "cell_type": "code",
   "execution_count": 17,
   "metadata": {},
   "outputs": [],
   "source": [
    "nlp_model = 'LSI(num_topics={})'.format(num_topics)"
   ]
  },
  {
   "cell_type": "code",
   "execution_count": 18,
   "metadata": {},
   "outputs": [
    {
     "data": {
      "image/png": "[encoded data removed]",
      "text/plain": [
       "<matplotlib.figure.Figure at 0x7f687a432f98>"
      ]
     },
     "metadata": {},
     "output_type": "display_data"
    }
   ],
   "source": [
    "if plt:\n",
    "    fig = plt.figure()\n",
    "    ax = plt.gca()\n",
    "    topic_importance = lsi.projection.s\n",
    "    ax.plot(np.arange(0, len(topic_importance)), topic_importance)\n",
    "    ax.set_title('Topic Importance')\n",
    "    ax.set_xlabel('Topic#')\n",
    "    ax.set_ylabel('Importance')\n",
    "    plt.show()"
   ]
  },
  {
   "cell_type": "markdown",
   "metadata": {},
   "source": [
    "Transform q1, q2 into LSI space: "
   ]
  },
  {
   "cell_type": "code",
   "execution_count": 19,
   "metadata": {},
   "outputs": [],
   "source": [
    "q1_train_lsi = lsi[q1_train_corpus]\n",
    "q2_train_lsi = lsi[q2_train_corpus]\n",
    "\n",
    "q1_test_lsi = lsi[q1_test_corpus]\n",
    "q2_test_lsi = lsi[q2_test_corpus]"
   ]
  },
  {
   "cell_type": "markdown",
   "metadata": {},
   "source": [
    "Iterate through the 2 lists and compute the cosine similarity:"
   ]
  },
  {
   "cell_type": "code",
   "execution_count": 20,
   "metadata": {},
   "outputs": [],
   "source": [
    "from  gensim.matutils import cossim\n",
    "\n",
    "def cos_sim(v1, v2):\n",
    "    if not v1 or not v2:\n",
    "        return np.nan\n",
    "    return cossim(v1, v2)\n",
    "\n",
    "def cos_sim_list(q1_lsi, q2_lsi):\n",
    "    return np.array(list(map(lambda s: cos_sim(*s), zip(q1_lsi, q2_lsi))))"
   ]
  },
  {
   "cell_type": "code",
   "execution_count": 21,
   "metadata": {},
   "outputs": [],
   "source": [
    "sim12_train = cos_sim_list(q1_train_lsi, q2_train_lsi)\n",
    "sim12_test = cos_sim_list(q1_test_lsi, q2_test_lsi)"
   ]
  },
  {
   "cell_type": "markdown",
   "metadata": {},
   "source": [
    "Use K Nearest Neighbors to map similarities into is_dup labels:"
   ]
  },
  {
   "cell_type": "code",
   "execution_count": 22,
   "metadata": {},
   "outputs": [],
   "source": [
    "# Beware of NaN's:\n",
    "train_index = ~np.isnan(sim12_train)\n",
    "X_train = sim12_train[train_index].reshape(-1, 1)\n",
    "y_train = is_dup_train[train_index]"
   ]
  },
  {
   "cell_type": "code",
   "execution_count": 23,
   "metadata": {},
   "outputs": [
    {
     "data": {
      "text/plain": [
       "KNeighborsClassifier(algorithm='auto', leaf_size=30, metric='minkowski',\n",
       "           metric_params=None, n_jobs=1, n_neighbors=500, p=1,\n",
       "           weights='uniform')"
      ]
     },
     "execution_count": 23,
     "metadata": {},
     "output_type": "execute_result"
    }
   ],
   "source": [
    "from sklearn.neighbors import KNeighborsClassifier\n",
    "\n",
    "knc = KNeighborsClassifier(n_neighbors=500, p=1)\n",
    "knc.fit(X_train, y_train)"
   ]
  },
  {
   "cell_type": "code",
   "execution_count": 24,
   "metadata": {},
   "outputs": [],
   "source": [
    "classifier = repr(knc)"
   ]
  },
  {
   "cell_type": "markdown",
   "metadata": {},
   "source": [
    "Compute the score:"
   ]
  },
  {
   "cell_type": "code",
   "execution_count": 25,
   "metadata": {},
   "outputs": [],
   "source": [
    "from sklearn.metrics import log_loss, accuracy_score\n",
    "\n",
    "# Baseline score, assume random guessing with ratio_1 probability for 1:\n",
    "accuracy_baseline = accuracy_score(\n",
    "    is_dup, \n",
    "    np.random.binomial(1, ratio_1, size=len(is_dup))\n",
    ")\n",
    "logloss_baseline = log_loss(\n",
    "    is_dup,\n",
    "    np.full_like(is_dup, ratio_1, dtype=np.float64)\n",
    ")\n",
    "\n",
    "def compile_results(X, y_true, estimator):\n",
    "    # Beware of NaN's in X:\n",
    "    non_nan_index = ~np.isnan(X)\n",
    "    n_pred = np.count_nonzero(non_nan_index)\n",
    "    n_guess = len(non_nan_index) - n_pred\n",
    "    X_pred = X[non_nan_index].reshape(-1, 1)\n",
    "\n",
    "    y_pred = np.zeros_like(y_true)\n",
    "    y_pred[non_nan_index] = estimator.predict(X_pred)\n",
    "    y_pred[~non_nan_index] = np.random.binomial(1, ratio_1, size=n_guess)\n",
    "    accuracy = accuracy_score(y_true, y_pred)\n",
    "\n",
    "    if hasattr(estimator, 'predict_proba'):\n",
    "        y_pred_proba = np.full_like(y_true, ratio_1, dtype=np.float64)\n",
    "        y_pred_proba[non_nan_index] = estimator.predict_proba(X_pred)[:,1]\n",
    "        logloss = log_loss(y_true, y_pred_proba)\n",
    "    else:\n",
    "        logloss = None\n",
    "    \n",
    "    wrong_index = y_true != y_pred\n",
    "    wrong_pred_index = np.argwhere(wrong_index & non_nan_index).flatten()\n",
    "    wrong_guess_index = np.argwhere(wrong_index & ~non_nan_index).flatten()\n",
    "\n",
    "    return accuracy, logloss, y_pred, wrong_pred_index, wrong_guess_index, n_pred, n_guess\n",
    "\n",
    "def print_results(accuracy, logloss, wrong_pred_index, \n",
    "                  wrong_guess_index, n_pred, n_guess, for_set='test', f=None):\n",
    "    print(\"Accuracy {} score = {:.03f}, baseline = {:.03f}, higher is better\".format(\n",
    "            for_set,\n",
    "            accuracy,\n",
    "            accuracy_baseline),\n",
    "        file=f\n",
    "    )\n",
    "    if logloss is not None:\n",
    "        print(\"Log loss {} score = {:.03f}, baseline = {:.03f}, lower is better\".format(\n",
    "            for_set,\n",
    "            logloss,\n",
    "            logloss_baseline),\n",
    "        file=f\n",
    "    )\n",
    "    print(\"Wrong {} predictions: {}/{} ({:.03f})\".format(\n",
    "            for_set,\n",
    "            len(wrong_pred_index), n_pred,\n",
    "            len(wrong_pred_index)/n_pred if n_pred else 0),\n",
    "        file=f\n",
    "    )\n",
    "    print(\"Wrong {} guesses: {}/{} ({:.03f})\".format(\n",
    "            for_set,\n",
    "            len(wrong_guess_index), n_guess,\n",
    "            len(wrong_guess_index)/n_guess if n_guess else 0),\n",
    "        file=f\n",
    "    )\n",
    "    print(file=f)\n",
    "          \n",
    "def wrong_pred(i, q1, q2, is_dup, y_pred, sim12, f=None):\n",
    "    print(\"Q1: {!r}\".format(q1[i]), file=f)\n",
    "    print(\"Q2: {!r}\".format(q2[i]), file=f)\n",
    "    print(\"is_dup={}, pred={}, sim={:.03f}\".format(\n",
    "            is_dup[i], y_pred[i], sim12[i]\n",
    "        ),\n",
    "        file=f  \n",
    "    )\n",
    "    print(file=f)\n",
    "    \n",
    "def print_mistakes(q1, q2, is_dup, y_pred, sim12,\n",
    "               wrong_pred_index, wrong_guess_index,\n",
    "               for_set='test', f=None):\n",
    "    print(\"Wrong {} predictions:\".format(for_set), file=f)\n",
    "    print(file=f)\n",
    "    for i in wrong_pred_index:\n",
    "        wrong_pred(i, q1, q2, is_dup, y_pred, sim12, f)\n",
    "    print(file=f)\n",
    "    print(\"Wrong {} guesses:\".format(for_set), file=f)\n",
    "    print(file=f)\n",
    "\n",
    "    for i in wrong_guess_index:\n",
    "        wrong_pred(i, q1, q2, is_dup, y_pred, sim12, f)\n",
    "    print(file=f)\n",
    "       \n",
    "def audit_info(train_sz=None, test_sz=None, \n",
    "               word_vectorizer=None, nlp_model=None, classifier=None, f=None):\n",
    "    print(\"Time:       {}\".format(\n",
    "            time.strftime(\"%Y-%m-%d %H:%M:%S\", time.localtime(report_time))\n",
    "        ),\n",
    "        file=f\n",
    "    )\n",
    "    print(\"Train/Test: {}/{}\".format(train_sz, test_sz), file=f)\n",
    "    print(\"Vectorizer: {}\".format(word_vectorizer), file=f)\n",
    "    print(\"NLP Model:  {}\".format(nlp_model), file=f)\n",
    "    print(\"Classifier: {}\".format(classifier), file=f)\n",
    "    print(file=f)"
   ]
  },
  {
   "cell_type": "code",
   "execution_count": 26,
   "metadata": {},
   "outputs": [],
   "source": [
    "report_time = time.time()\n",
    "\n",
    "accuracy_test, logloss_test, y_pred_test, wrong_pred_index_test, \\\n",
    "    wrong_guess_index_test, n_pred_test, n_guess_test = \\\n",
    "        compile_results(sim12_test, is_dup_test, knc)"
   ]
  },
  {
   "cell_type": "code",
   "execution_count": 27,
   "metadata": {},
   "outputs": [
    {
     "name": "stdout",
     "output_type": "stream",
     "text": [
      "Accuracy test score = 0.659, baseline = 0.535, higher is better\n",
      "Log loss test score = 0.582, baseline = 0.659, lower is better\n",
      "Wrong test predictions: 676/1987 (0.340)\n",
      "Wrong test guesses: 6/13 (0.462)\n",
      "\n",
      "Audit file = data/quora/audit-2018-03-07-05-25-10-3530.log.gz\n"
     ]
    }
   ],
   "source": [
    "print_results(accuracy_test, logloss_test, wrong_pred_index_test,\n",
    "        wrong_guess_index_test, n_pred_test, n_guess_test)\n",
    "\n",
    "audit_file = 'data/quora/audit-{}-{}.log.gz'.format(\n",
    "    time.strftime('%Y-%m-%d-%H-%M-%S', time.localtime(report_time)),\n",
    "    os.getpid()\n",
    ")\n",
    "with gzip.open(audit_file, 'wt') as f:\n",
    "    audit_info(\n",
    "        len(is_dup_train), len(is_dup_test),\n",
    "        word_vectorizer, nlp_model, classifier, f=f)\n",
    "    print_results(accuracy_test, logloss_test, wrong_pred_index_test,\n",
    "        wrong_guess_index_test, n_pred_test, n_guess_test, f=f)\n",
    "    print_mistakes(q1_test, q2_test, is_dup_test, y_pred_test, sim12_test,\n",
    "               wrong_pred_index_test, wrong_guess_index_test, f=f)\n",
    "\n",
    "print(\"Audit file = {}\".format(audit_file))"
   ]
  },
  {
   "cell_type": "code",
   "execution_count": null,
   "metadata": {},
   "outputs": [],
   "source": []
  }
 ],
 "metadata": {
  "kernelspec": {
   "display_name": "Python 3",
   "language": "python",
   "name": "python3"
  },
  "language_info": {
   "codemirror_mode": {
    "name": "ipython",
    "version": 3
   },
   "file_extension": ".py",
   "mimetype": "text/x-python",
   "name": "python",
   "nbconvert_exporter": "python",
   "pygments_lexer": "ipython3",
   "version": "3.6.3"
  },
  "toc": {
   "nav_menu": {},
   "number_sections": true,
   "sideBar": true,
   "skip_h1_title": false,
   "title_cell": "Table of Contents",
   "title_sidebar": "Contents",
   "toc_cell": false,
   "toc_position": {},
   "toc_section_display": true,
   "toc_window_display": false
  }
 },
 "nbformat": 4,
 "nbformat_minor": 2
}
