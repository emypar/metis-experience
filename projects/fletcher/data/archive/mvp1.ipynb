{
 "cells": [
  {
   "cell_type": "markdown",
   "metadata": {},
   "source": [
    "**Topic:** Kaggle Challenge [Quora Question Pairs](https://www.kaggle.com/c/quora-question-pairs/data)\n",
    "\n",
    "Which of the provided pairs of questions contain two questions with the same meaning? The ground truth is the set of labels that have been supplied by human experts. The ground truth labels are inherently subjective, as the true meaning of sentences can never be known with certainty. Human labeling is also a 'noisy' process, and reasonable people will disagree. As a result, the ground truth labels on this dataset should be taken to be 'informed' but not 100% accurate, and may include incorrect labeling. The labels, on the whole, represent a reasonable consensus, but this may often not be true on a case by case basis for individual items in the dataset.\n"
   ]
  },
  {
   "cell_type": "markdown",
   "metadata": {},
   "source": [
    "**Scores:**\n",
    "\n",
    " - log_loss: official competition score\n",
    " - accuracy: relevant in real life"
   ]
  },
  {
   "cell_type": "markdown",
   "metadata": {},
   "source": [
    "**General workflow:**\n",
    "\n",
    "- load train data set\n",
    "- cleanup (NaN's, non-English)\n",
    "- tokenize\n",
    "- perform semantic indexing/analysis\n",
    "- compute similarity scores per pair\n",
    "- train a classification algorithm for score -> is duplicate prediction\n",
    "- compute scores for the test set"
   ]
  },
  {
   "cell_type": "code",
   "execution_count": 1,
   "metadata": {
    "collapsed": true
   },
   "outputs": [],
   "source": [
    "import sys\n",
    "import os\n",
    "\n",
    "# logging for gensim (set to INFO)\n",
    "import logging\n",
    "logging.basicConfig(format='%(asctime)s : %(levelname)s : %(message)s', level=logging.INFO)"
   ]
  },
  {
   "cell_type": "code",
   "execution_count": 2,
   "metadata": {
    "collapsed": true
   },
   "outputs": [],
   "source": [
    "import numpy as np\n",
    "import pandas as pd"
   ]
  },
  {
   "cell_type": "code",
   "execution_count": 3,
   "metadata": {
    "collapsed": true
   },
   "outputs": [],
   "source": [
    "import matplotlib.pyplot as plt\n",
    "%matplotlib inline\n",
    "\n",
    "import seaborn as sns\n",
    "sns.set()"
   ]
  },
  {
   "cell_type": "code",
   "execution_count": 4,
   "metadata": {
    "collapsed": true
   },
   "outputs": [],
   "source": [
    "# sklearn\n",
    "from sklearn.feature_extraction.text import CountVectorizer, TfidfVectorizer\n",
    "from sklearn.naive_bayes import MultinomialNB\n",
    "from sklearn.model_selection import train_test_split\n",
    "from sklearn.cluster import KMeans\n",
    "from sklearn.neighbors import KNeighborsClassifier\n",
    "from sklearn.utils import resample\n",
    "import sklearn.metrics.pairwise as smp\n",
    "from sklearn.model_selection import GridSearchCV\n",
    "from sklearn.decomposition import NMF"
   ]
  },
  {
   "cell_type": "code",
   "execution_count": 5,
   "metadata": {},
   "outputs": [
    {
     "name": "stderr",
     "output_type": "stream",
     "text": [
      "2018-03-05 14:39:58,579 : INFO : 'pattern' package not found; tag filters are not available for English\n"
     ]
    },
    {
     "data": {
      "text/plain": [
       "'3.3.0'"
      ]
     },
     "execution_count": 5,
     "metadata": {},
     "output_type": "execute_result"
    }
   ],
   "source": [
    "# gensim\n",
    "from gensim import corpora, models, similarities, matutils, \\\n",
    "    __version__ as gensim_version\n",
    "gensim_version"
   ]
  },
  {
   "cell_type": "code",
   "execution_count": 6,
   "metadata": {},
   "outputs": [
    {
     "data": {
      "text/plain": [
       "(404288, 6)"
      ]
     },
     "execution_count": 6,
     "metadata": {},
     "output_type": "execute_result"
    }
   ],
   "source": [
    "# Load and cleanup the train set:\n",
    "train_file = './data/quora/train.csv.zip'\n",
    "df = pd.read_csv(train_file, header=0)\n",
    "df.dropna(inplace=True)\n",
    "df.shape"
   ]
  },
  {
   "cell_type": "code",
   "execution_count": 7,
   "metadata": {
    "collapsed": true
   },
   "outputs": [],
   "source": [
    "from sklearn.utils import shuffle\n",
    "\n",
    "# Use a smaller sub-set to speed up the process; preserve the ratio\n",
    "# of is_duplicate:\n",
    "n_samples = 100000\n",
    "\n",
    "ratio_1 = df['is_duplicate'].mean()\n",
    "n_samples_1 = int(ratio_1 * n_samples)\n",
    "use_df = pd.concat([\n",
    "        shuffle(df[df['is_duplicate'] == 0], n_samples=(n_samples - n_samples_1)),\n",
    "        shuffle(df[df['is_duplicate'] == 1], n_samples=n_samples_1)\n",
    "    ],\n",
    "    ignore_index=True\n",
    ")"
   ]
  },
  {
   "cell_type": "markdown",
   "metadata": {},
   "source": [
    "Extract the questions and the target flag:"
   ]
  },
  {
   "cell_type": "code",
   "execution_count": 8,
   "metadata": {
    "collapsed": true
   },
   "outputs": [],
   "source": [
    "q1 = use_df['question1'].values\n",
    "q2 = use_df['question2'].values\n",
    "is_dup = use_df['is_duplicate'].values"
   ]
  },
  {
   "cell_type": "markdown",
   "metadata": {},
   "source": [
    "Minimal EDA, look for duplicate questions:"
   ]
  },
  {
   "cell_type": "code",
   "execution_count": 9,
   "metadata": {
    "collapsed": true
   },
   "outputs": [],
   "source": [
    "q1_unique, q1_unique_counts = \\\n",
    "    np.unique(q1, return_index=False, return_inverse=False, return_counts=True)"
   ]
  },
  {
   "cell_type": "code",
   "execution_count": 10,
   "metadata": {
    "collapsed": true
   },
   "outputs": [],
   "source": [
    "q1_num_dups, q1_dups_dist = \\\n",
    "    np.unique(q1_unique_counts, return_index=False, return_inverse=False, return_counts=True)"
   ]
  },
  {
   "cell_type": "code",
   "execution_count": 11,
   "metadata": {},
   "outputs": [
    {
     "data": {
      "image/png": "[encoded data removed]",
      "text/plain": [
       "<matplotlib.figure.Figure at 0x1a2694f828>"
      ]
     },
     "metadata": {},
     "output_type": "display_data"
    }
   ],
   "source": [
    "figure = plt.figure()\n",
    "ax = plt.gca()\n",
    "ax.bar(q1_num_dups, q1_dups_dist, log=True)\n",
    "ax.set_xticks(np.arange(q1_num_dups.min(), q1_num_dups.max()+1))\n",
    "plt.show()"
   ]
  },
  {
   "cell_type": "markdown",
   "metadata": {},
   "source": [
    "Split 80/20 train/test:"
   ]
  },
  {
   "cell_type": "code",
   "execution_count": 13,
   "metadata": {},
   "outputs": [],
   "source": [
    "q1_train, q1_test, \\\n",
    "    q2_train, q2_test, \\\n",
    "    is_dup_train, is_dup_test = \\\n",
    "        train_test_split(q1, q2, is_dup, test_size=.2, stratify=is_dup)"
   ]
  },
  {
   "cell_type": "markdown",
   "metadata": {},
   "source": [
    "Vectorize the text; use both q1 and q2 (why? TBD):"
   ]
  },
  {
   "cell_type": "code",
   "execution_count": 14,
   "metadata": {
    "collapsed": true
   },
   "outputs": [],
   "source": [
    "tfidf = TfidfVectorizer(\n",
    "    stop_words=\"english\", \n",
    "    token_pattern=r'(?i)\\b[a-z]{2,}\\b', #words with >= 2 alpha chars \n",
    "    min_df=2\n",
    ")\n",
    "\n",
    "tfidf.fit(np.concatenate((q1_train, q2_train)))\n",
    "id2word = dict((v, k) for k, v in tfidf.vocabulary_.items())\n",
    "\n",
    "q1_train_tfidf = tfidf.transform(q1_train)\n",
    "q1_train_corpus = matutils.Sparse2Corpus(q1_train_tfidf.transpose())\n",
    "\n",
    "q2_train_tfidf = tfidf.transform(q2_train)\n",
    "q2_train_corpus = matutils.Sparse2Corpus(q2_train_tfidf.transpose())\n",
    "\n",
    "q1_test_tfidf = tfidf.transform(q1_test)\n",
    "q1_test_corpus = matutils.Sparse2Corpus(q1_test_tfidf.transpose())\n",
    "\n",
    "q2_test_tfidf = tfidf.transform(q2_test)\n",
    "q2_test_corpus = matutils.Sparse2Corpus(q2_test_tfidf.transpose())"
   ]
  },
  {
   "cell_type": "markdown",
   "metadata": {},
   "source": [
    "Build LSI model on based on q1:"
   ]
  },
  {
   "cell_type": "code",
   "execution_count": 15,
   "metadata": {},
   "outputs": [
    {
     "name": "stderr",
     "output_type": "stream",
     "text": [
      "2018-03-05 14:40:55,042 : INFO : using serial LSI version on this node\n",
      "2018-03-05 14:40:55,043 : INFO : updating model with new documents\n",
      "2018-03-05 14:40:55,213 : INFO : preparing a new chunk of documents\n",
      "2018-03-05 14:40:55,325 : INFO : using 100 extra samples and 2 power iterations\n",
      "2018-03-05 14:40:55,326 : INFO : 1st phase: constructing (23653, 600) action matrix\n",
      "2018-03-05 14:40:55,968 : INFO : orthonormalizing (23653, 600) action matrix\n",
      "2018-03-05 14:40:59,721 : INFO : 2nd phase: running dense svd on (600, 20000) matrix\n",
      "2018-03-05 14:41:01,043 : INFO : computing the final decomposition\n",
      "2018-03-05 14:41:01,045 : INFO : keeping 500 factors (discarding 6.715% of energy spectrum)\n",
      "2018-03-05 14:41:01,337 : INFO : processed documents up to #20000\n",
      "2018-03-05 14:41:01,340 : INFO : topic #0(11.505): 0.853*\"best\" + 0.246*\"way\" + 0.156*\"learn\" + 0.119*\"india\" + 0.106*\"make\" + 0.103*\"money\" + 0.095*\"does\" + 0.085*\"online\" + 0.080*\"quora\" + 0.076*\"life\"\n",
      "2018-03-05 14:41:01,342 : INFO : topic #1(9.915): -0.669*\"does\" + 0.275*\"best\" + -0.243*\"quora\" + -0.232*\"mean\" + -0.224*\"like\" + -0.191*\"people\" + -0.190*\"make\" + -0.167*\"money\" + -0.129*\"feel\" + -0.121*\"trump\"\n",
      "2018-03-05 14:41:01,344 : INFO : topic #2(9.000): -0.523*\"money\" + -0.518*\"make\" + 0.417*\"does\" + -0.320*\"online\" + 0.178*\"mean\" + 0.159*\"best\" + -0.144*\"people\" + -0.136*\"quora\" + -0.126*\"earn\" + 0.091*\"like\"\n",
      "2018-03-05 14:41:01,345 : INFO : topic #3(8.824): 0.573*\"quora\" + 0.438*\"people\" + -0.281*\"does\" + -0.257*\"money\" + 0.250*\"questions\" + -0.238*\"make\" + 0.183*\"question\" + -0.166*\"online\" + 0.154*\"ask\" + 0.121*\"trump\"\n",
      "2018-03-05 14:41:01,347 : INFO : topic #4(8.617): 0.564*\"trump\" + 0.429*\"donald\" + -0.317*\"quora\" + 0.231*\"clinton\" + 0.217*\"india\" + 0.202*\"hillary\" + 0.200*\"president\" + 0.183*\"win\" + 0.151*\"election\" + 0.143*\"did\"\n",
      "2018-03-05 14:41:01,491 : INFO : preparing a new chunk of documents\n",
      "2018-03-05 14:41:01,601 : INFO : using 100 extra samples and 2 power iterations\n",
      "2018-03-05 14:41:01,602 : INFO : 1st phase: constructing (23653, 600) action matrix\n",
      "2018-03-05 14:41:02,233 : INFO : orthonormalizing (23653, 600) action matrix\n",
      "2018-03-05 14:41:06,353 : INFO : 2nd phase: running dense svd on (600, 20000) matrix\n",
      "2018-03-05 14:41:07,668 : INFO : computing the final decomposition\n",
      "2018-03-05 14:41:07,670 : INFO : keeping 500 factors (discarding 6.697% of energy spectrum)\n",
      "2018-03-05 14:41:08,010 : INFO : merging projections: (23653, 500) + (23653, 500)\n",
      "2018-03-05 14:41:09,935 : INFO : keeping 500 factors (discarding 6.968% of energy spectrum)\n",
      "2018-03-05 14:41:10,445 : INFO : processed documents up to #40000\n",
      "2018-03-05 14:41:10,450 : INFO : topic #0(16.308): 0.857*\"best\" + 0.238*\"way\" + 0.142*\"learn\" + 0.127*\"india\" + 0.111*\"money\" + 0.103*\"make\" + 0.095*\"does\" + 0.095*\"online\" + 0.088*\"life\" + 0.071*\"quora\"\n",
      "2018-03-05 14:41:10,452 : INFO : topic #1(14.018): -0.702*\"does\" + 0.272*\"best\" + -0.247*\"mean\" + -0.216*\"quora\" + -0.209*\"like\" + -0.202*\"money\" + -0.201*\"make\" + -0.136*\"people\" + -0.125*\"feel\" + -0.101*\"online\"\n",
      "2018-03-05 14:41:10,454 : INFO : topic #2(12.868): -0.583*\"money\" + -0.487*\"make\" + 0.370*\"does\" + -0.368*\"online\" + -0.201*\"earn\" + 0.157*\"mean\" + 0.155*\"best\" + 0.087*\"like\" + -0.084*\"way\" + -0.081*\"quora\"\n",
      "2018-03-05 14:41:10,456 : INFO : topic #3(12.245): 0.667*\"quora\" + 0.368*\"people\" + -0.293*\"does\" + 0.288*\"questions\" + 0.187*\"question\" + -0.158*\"money\" + 0.145*\"ask\" + -0.119*\"make\" + 0.119*\"life\" + -0.117*\"online\"\n",
      "2018-03-05 14:41:10,459 : INFO : topic #4(11.898): -0.437*\"trump\" + -0.398*\"life\" + -0.327*\"donald\" + 0.319*\"quora\" + -0.280*\"india\" + 0.197*\"does\" + -0.189*\"clinton\" + -0.168*\"president\" + -0.162*\"hillary\" + -0.128*\"good\"\n",
      "2018-03-05 14:41:10,664 : INFO : preparing a new chunk of documents\n",
      "2018-03-05 14:41:10,778 : INFO : using 100 extra samples and 2 power iterations\n",
      "2018-03-05 14:41:10,780 : INFO : 1st phase: constructing (23653, 600) action matrix\n",
      "2018-03-05 14:41:11,421 : INFO : orthonormalizing (23653, 600) action matrix\n",
      "2018-03-05 14:41:15,160 : INFO : 2nd phase: running dense svd on (600, 20000) matrix\n",
      "2018-03-05 14:41:16,491 : INFO : computing the final decomposition\n",
      "2018-03-05 14:41:16,493 : INFO : keeping 500 factors (discarding 6.795% of energy spectrum)\n",
      "2018-03-05 14:41:16,773 : INFO : merging projections: (23653, 500) + (23653, 500)\n",
      "2018-03-05 14:41:18,345 : INFO : keeping 500 factors (discarding 4.973% of energy spectrum)\n",
      "2018-03-05 14:41:18,854 : INFO : processed documents up to #60000\n",
      "2018-03-05 14:41:18,857 : INFO : topic #0(19.939): 0.857*\"best\" + 0.239*\"way\" + 0.145*\"learn\" + 0.137*\"india\" + 0.108*\"money\" + 0.098*\"make\" + 0.094*\"online\" + 0.093*\"does\" + 0.077*\"life\" + 0.072*\"quora\"\n",
      "2018-03-05 14:41:18,859 : INFO : topic #1(17.047): -0.680*\"does\" + 0.270*\"best\" + -0.270*\"quora\" + -0.220*\"mean\" + -0.209*\"like\" + -0.203*\"money\" + -0.194*\"make\" + -0.166*\"people\" + -0.124*\"feel\" + -0.100*\"questions\"\n",
      "2018-03-05 14:41:18,861 : INFO : topic #2(15.462): -0.540*\"money\" + -0.438*\"make\" + 0.431*\"does\" + -0.323*\"online\" + -0.219*\"quora\" + -0.204*\"earn\" + 0.167*\"mean\" + 0.145*\"best\" + -0.115*\"people\" + 0.106*\"like\"\n",
      "2018-03-05 14:41:18,863 : INFO : topic #3(15.216): 0.664*\"quora\" + 0.323*\"people\" + 0.294*\"questions\" + -0.282*\"money\" + -0.230*\"make\" + -0.214*\"does\" + -0.184*\"online\" + 0.179*\"question\" + 0.173*\"ask\" + 0.108*\"answers\"\n",
      "2018-03-05 14:41:18,865 : INFO : topic #4(14.420): -0.537*\"life\" + -0.352*\"trump\" + 0.270*\"does\" + -0.270*\"donald\" + -0.268*\"india\" + 0.201*\"quora\" + -0.179*\"people\" + -0.151*\"good\" + -0.137*\"clinton\" + -0.131*\"president\"\n",
      "2018-03-05 14:41:19,005 : INFO : preparing a new chunk of documents\n",
      "2018-03-05 14:41:19,117 : INFO : using 100 extra samples and 2 power iterations\n",
      "2018-03-05 14:41:19,118 : INFO : 1st phase: constructing (23653, 600) action matrix\n",
      "2018-03-05 14:41:19,751 : INFO : orthonormalizing (23653, 600) action matrix\n",
      "2018-03-05 14:41:23,561 : INFO : 2nd phase: running dense svd on (600, 20000) matrix\n",
      "2018-03-05 14:41:24,900 : INFO : computing the final decomposition\n",
      "2018-03-05 14:41:24,901 : INFO : keeping 500 factors (discarding 6.859% of energy spectrum)\n",
      "2018-03-05 14:41:25,191 : INFO : merging projections: (23653, 500) + (23653, 500)\n",
      "2018-03-05 14:41:26,800 : INFO : keeping 500 factors (discarding 3.975% of energy spectrum)\n",
      "2018-03-05 14:41:27,322 : INFO : processed documents up to #80000\n",
      "2018-03-05 14:41:27,325 : INFO : topic #0(22.884): 0.854*\"best\" + 0.239*\"way\" + 0.142*\"learn\" + 0.133*\"india\" + 0.109*\"money\" + 0.098*\"make\" + 0.096*\"does\" + 0.094*\"online\" + 0.082*\"quora\" + 0.075*\"life\"\n",
      "2018-03-05 14:41:27,327 : INFO : topic #1(19.657): -0.645*\"does\" + -0.325*\"quora\" + 0.282*\"best\" + -0.208*\"mean\" + -0.208*\"like\" + -0.195*\"money\" + -0.191*\"people\" + -0.189*\"make\" + -0.125*\"questions\" + -0.121*\"feel\"\n",
      "2018-03-05 14:41:27,329 : INFO : topic #2(17.950): -0.633*\"quora\" + 0.479*\"does\" + -0.281*\"people\" + -0.274*\"questions\" + 0.170*\"mean\" + -0.170*\"ask\" + -0.164*\"question\" + -0.139*\"money\" + 0.109*\"like\" + -0.102*\"make\"\n",
      "2018-03-05 14:41:27,331 : INFO : topic #3(17.817): -0.598*\"money\" + -0.491*\"make\" + -0.362*\"online\" + 0.276*\"quora\" + -0.206*\"earn\" + 0.166*\"does\" + 0.137*\"best\" + 0.133*\"questions\" + 0.114*\"people\" + 0.087*\"question\"\n",
      "2018-03-05 14:41:27,333 : INFO : topic #4(16.615): -0.426*\"life\" + -0.423*\"trump\" + -0.326*\"donald\" + 0.281*\"does\" + -0.262*\"india\" + -0.208*\"people\" + 0.166*\"quora\" + -0.166*\"clinton\" + -0.163*\"president\" + -0.147*\"think\"\n"
     ]
    }
   ],
   "source": [
    "num_topics = 500\n",
    "lsi = models.LsiModel(q1_train_corpus, id2word=id2word, num_topics=num_topics)"
   ]
  },
  {
   "cell_type": "markdown",
   "metadata": {},
   "source": [
    "Transform q1, q2 into LSI space: "
   ]
  },
  {
   "cell_type": "code",
   "execution_count": 16,
   "metadata": {
    "collapsed": true
   },
   "outputs": [],
   "source": [
    "q1_train_lsi = lsi[q1_train_corpus]\n",
    "q2_train_lsi = lsi[q2_train_corpus]\n",
    "\n",
    "q1_test_lsi = lsi[q1_test_corpus]\n",
    "q2_test_lsi = lsi[q2_test_corpus]"
   ]
  },
  {
   "cell_type": "markdown",
   "metadata": {},
   "source": [
    "Iterate through the 2 lists and compute the cosine similarity:"
   ]
  },
  {
   "cell_type": "code",
   "execution_count": 17,
   "metadata": {
    "collapsed": true
   },
   "outputs": [],
   "source": [
    "def cos_sim(lsi1, lsi2):\n",
    "    v1 = [x[1] for x in lsi1]\n",
    "    v2 = [x[1] for x in lsi2]\n",
    "    try:\n",
    "        return np.dot(v1, v2)/(np.linalg.norm(v1) * np.linalg.norm(v2))\n",
    "    except ValueError:\n",
    "        # This happens for docs that don't have a *single*\n",
    "        # word in the TF-IDF vocabulary!\n",
    "        return np.nan\n",
    "    \n",
    "def cos_sim_list(q1_lsi, q2_lsi):\n",
    "    return np.array(list(map(lambda s: cos_sim(*s), zip(q1_lsi, q2_lsi))))"
   ]
  },
  {
   "cell_type": "code",
   "execution_count": 18,
   "metadata": {},
   "outputs": [
    {
     "name": "stderr",
     "output_type": "stream",
     "text": [
      "/Users/emy/anaconda3/lib/python3.6/site-packages/ipykernel_launcher.py:5: RuntimeWarning: invalid value encountered in true_divide\n",
      "  \"\"\"\n"
     ]
    }
   ],
   "source": [
    "sim12_train = cos_sim_list(q1_train_lsi, q2_train_lsi)\n",
    "sim12_test = cos_sim_list(q1_test_lsi, q2_test_lsi)"
   ]
  },
  {
   "cell_type": "markdown",
   "metadata": {},
   "source": [
    "Use SVM to map similarities into is_dup labels:"
   ]
  },
  {
   "cell_type": "code",
   "execution_count": 19,
   "metadata": {
    "collapsed": true
   },
   "outputs": [],
   "source": [
    "# Beware of NaN's:\n",
    "train_index = ~np.isnan(sim12_train)\n",
    "X_train = sim12_train[train_index].reshape(-1, 1)\n",
    "y_train = is_dup_train[train_index]"
   ]
  },
  {
   "cell_type": "code",
   "execution_count": 20,
   "metadata": {},
   "outputs": [
    {
     "data": {
      "text/plain": [
       "32106"
      ]
     },
     "execution_count": 20,
     "metadata": {},
     "output_type": "execute_result"
    }
   ],
   "source": [
    "np.count_nonzero(X_train < .5)"
   ]
  },
  {
   "cell_type": "code",
   "execution_count": 127,
   "metadata": {},
   "outputs": [
    {
     "data": {
      "text/plain": [
       "SVC(C=1.0, cache_size=200, class_weight=None, coef0=0.0,\n",
       "  decision_function_shape='ovr', degree=3, gamma='auto', kernel='rbf',\n",
       "  max_iter=-1, probability=True, random_state=None, shrinking=True,\n",
       "  tol=0.001, verbose=False)"
      ]
     },
     "execution_count": 127,
     "metadata": {},
     "output_type": "execute_result"
    }
   ],
   "source": [
    "from sklearn.svm import SVC\n",
    "svc = SVC(probability=True)\n",
    "svc.fit(X_train, y_train)"
   ]
  },
  {
   "cell_type": "markdown",
   "metadata": {},
   "source": [
    "Compute the score:"
   ]
  },
  {
   "cell_type": "code",
   "execution_count": null,
   "metadata": {
    "collapsed": true
   },
   "outputs": [],
   "source": [
    "from sklearn.metrics import log_loss, accuracy_score"
   ]
  },
  {
   "cell_type": "code",
   "execution_count": 159,
   "metadata": {
    "collapsed": true
   },
   "outputs": [],
   "source": [
    "# Baseline score, assume random guessing with ratio_1 probability for 1:\n",
    "baseline_accuracy_score = accuracy_score(\n",
    "    is_dup, \n",
    "    np.random.binomial(1, ratio_1, size=len(is_dup))\n",
    ")\n",
    "baseline_log_loss_score = log_loss(\n",
    "    is_dup,\n",
    "    np.full_like(is_dup, ratio_1, dtype=np.float64)\n",
    ")"
   ]
  },
  {
   "cell_type": "code",
   "execution_count": 155,
   "metadata": {},
   "outputs": [
    {
     "name": "stdout",
     "output_type": "stream",
     "text": [
      "Accuracy test score = 0.6469\n",
      "Log loss test score = 0.6190376783542203\n"
     ]
    }
   ],
   "source": [
    "# Beware of NaN's: predict where sim values exists, replace with the observed\n",
    "# probability where they don't:\n",
    "test_index = ~np.isnan(sim12_test)\n",
    "n_fill = len(test_index) - np.count_nonzero(test_index)\n",
    "X_test = sim12_test[test_index].reshape(-1, 1)\n",
    "\n",
    "y_pred_test = np.zeros_like(is_dup_test)\n",
    "y_pred_test[test_index] = svc.predict(X_test)\n",
    "y_pred_test[~test_index] = np.random.binomial(1, ratio_1, size=n_fill)\n",
    "\n",
    "y_pred_proba_test = np.full_like(is_dup_test, ratio_1, dtype=np.float64)\n",
    "y_pred_proba_test[test_index] = svc.predict_proba(X_test)[:,1]"
   ]
  },
  {
   "cell_type": "code",
   "execution_count": 164,
   "metadata": {},
   "outputs": [
    {
     "name": "stdout",
     "output_type": "stream",
     "text": [
      "Accuracy test score = 0.647, baseline = 0.533, higher is better\n",
      "Log loss test score = 0.619, baseline = 0.659, lower is better\n"
     ]
    }
   ],
   "source": [
    "print(\"Accuracy test score = {:.03f}, baseline = {:.03f}, higher is better\".format(\n",
    "    accuracy_score(is_dup_test, y_pred_test),\n",
    "    baseline_accuracy_score\n",
    "))\n",
    "print(\"Log loss test score = {:.03f}, baseline = {:.03f}, lower is better\".format(\n",
    "    log_loss(is_dup_test, y_pred_proba_test),\n",
    "    baseline_log_loss_score\n",
    "))"
   ]
  },
  {
   "cell_type": "code",
   "execution_count": null,
   "metadata": {
    "collapsed": true
   },
   "outputs": [],
   "source": []
  }
 ],
 "metadata": {
  "kernelspec": {
   "display_name": "Python 3",
   "language": "python",
   "name": "python3"
  },
  "language_info": {
   "codemirror_mode": {
    "name": "ipython",
    "version": 3
   },
   "file_extension": ".py",
   "mimetype": "text/x-python",
   "name": "python",
   "nbconvert_exporter": "python",
   "pygments_lexer": "ipython3",
   "version": "3.6.3"
  },
  "toc": {
   "nav_menu": {},
   "number_sections": true,
   "sideBar": true,
   "skip_h1_title": false,
   "title_cell": "Table of Contents",
   "title_sidebar": "Contents",
   "toc_cell": false,
   "toc_position": {},
   "toc_section_display": true,
   "toc_window_display": false
  }
 },
 "nbformat": 4,
 "nbformat_minor": 2
}
